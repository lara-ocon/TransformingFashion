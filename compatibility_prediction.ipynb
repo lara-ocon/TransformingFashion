{
 "cells": [
  {
   "cell_type": "code",
   "execution_count": 1,
   "id": "d8ea6df1",
   "metadata": {},
   "outputs": [],
   "source": [
    "# OutfitTransformer TFG\n",
    "\n",
    "# Requirements needed: (python3.12)\n",
    "# - pip:\n",
    "#    - torch==2.5.0\n",
    "#    - torchvision==0.20.0\n",
    "#    - torchaudio==2.5.0\n",
    "#    - pillow==11.0.0\n",
    "#    - transformers==4.48.3\n",
    "#    - scikit-learn\n",
    "#    - faiss-cpu\n",
    "#    - wandb\n",
    "#    - tqdm\n",
    "#    - gradio\n",
    "#    - opencv-python\n",
    "#\n",
    "\n",
    "# To dowload the data:\n",
    "    # mkdir -p datasets\n",
    "    # gdown --id 1ox8GFHG8iMs64iiwITQhJ47dkQ0Q7SBu -O polyvore.zip\n",
    "    # unzip polyvore.zip -d ./datasets/polyvore\n",
    "    # rm polyvore.zip"
   ]
  },
  {
   "cell_type": "code",
   "execution_count": 2,
   "id": "3f803898",
   "metadata": {},
   "outputs": [
    {
     "name": "stderr",
     "output_type": "stream",
     "text": [
      "/home/ia/Documentos/TFG_Lara/TransformingFashion/outfit_transformer_env/lib/python3.12/site-packages/tqdm/auto.py:21: TqdmWarning: IProgress not found. Please update jupyter and ipywidgets. See https://ipywidgets.readthedocs.io/en/stable/user_install.html\n",
      "  from .autonotebook import tqdm as notebook_tqdm\n"
     ]
    }
   ],
   "source": [
    "\n",
    "# ------------------------------\n",
    "# Section 1: Setup and Imports\n",
    "# ------------------------------\n",
    "\n",
    "# Import standard libraries for data handling, logging, and visualization\n",
    "import json\n",
    "import logging\n",
    "import os\n",
    "import pathlib\n",
    "import pickle\n",
    "import random\n",
    "import numpy as np\n",
    "import matplotlib.pyplot as plt\n",
    "from PIL import Image\n",
    "from collections import Counter\n",
    "from tqdm import tqdm\n",
    "from typing import Any, Dict, List, Literal, Optional\n",
    "from dataclasses import dataclass\n",
    "import os\n",
    "\n",
    "# Import PyTorch and related modules for deep learning\n",
    "import torch\n",
    "import torch.nn as nn\n",
    "import torch.optim as optim\n",
    "from torch.utils.data import DataLoader, Dataset\n",
    "import torch.distributed as dist\n",
    "import torch.multiprocessing as mp\n",
    "import torch.nn.functional as F\n",
    "\n",
    "# Import torchvision for image preprocessing\n",
    "import torchvision.transforms as transforms\n",
    "\n",
    "# Import transformers for CLIP model\n",
    "from transformers import CLIPProcessor, CLIPModel\n",
    "\n",
    "# Import sklearn for metrics\n",
    "from sklearn.metrics import roc_auc_score\n"
   ]
  },
  {
   "cell_type": "code",
   "execution_count": 3,
   "id": "523dec69",
   "metadata": {},
   "outputs": [
    {
     "name": "stdout",
     "output_type": "stream",
     "text": [
      "Starting OutfitTransformer notebook\n"
     ]
    }
   ],
   "source": [
    "\n",
    "# Disable tokenizer parallelism to avoid warnings\n",
    "os.environ[\"TOKENIZERS_PARALLELISM\"] = \"false\"\n",
    "\n",
    "# Define project-wide paths\n",
    "SRC_DIR = pathlib.Path(os.getcwd()).absolute()\n",
    "LOGS_DIR = SRC_DIR / 'logs'\n",
    "CHECKPOINT_DIR = SRC_DIR / 'checkpoints'\n",
    "POLYVORE_DIR = './datasets/polyvore'\n",
    "POLYVORE_METADATA_PATH = f\"{POLYVORE_DIR}/item_metadata.json\"\n",
    "POLYVORE_IMAGE_DATA_PATH = f\"{POLYVORE_DIR}/images/{{item_id}}.jpg\"\n",
    "POLYVORE_PRECOMPUTED_CLIP_EMBEDDING_DIR = f\"{POLYVORE_DIR}/precomputed_clip_embeddings\"\n",
    "POLYVORE_TASK_DATA_PATH = f\"{POLYVORE_DIR}/{{dataset_type}}/{{dataset_task}}/{{dataset_split}}.json\"\n",
    "POLYVORE_SET_DATA_PATH = f\"{POLYVORE_DIR}/{{dataset_type}}/{{dataset_split}}.json\"\n",
    "\n",
    "# Create directories if they don't exist\n",
    "os.makedirs(LOGS_DIR, exist_ok=True)\n",
    "os.makedirs(CHECKPOINT_DIR / 'compatibility_clip', exist_ok=True)\n",
    "os.makedirs(CHECKPOINT_DIR / 'complementary_clip', exist_ok=True)\n",
    "os.makedirs(POLYVORE_PRECOMPUTED_CLIP_EMBEDDING_DIR, exist_ok=True)\n",
    "\n",
    "# Configure logging for the entire notebook\n",
    "logging.basicConfig(\n",
    "    filename=LOGS_DIR / 'outfit_transformer.log',\n",
    "    level=logging.INFO,\n",
    "    format='%(asctime)s - %(levelname)s - %(message)s'\n",
    ")\n",
    "logger = logging.getLogger('outfit_transformer')\n",
    "\n",
    "# Log notebook start\n",
    "logger.info(\"Starting OutfitTransformer notebook\")\n",
    "print(\"Starting OutfitTransformer notebook\")\n"
   ]
  },
  {
   "cell_type": "code",
   "execution_count": 4,
   "id": "6d504937",
   "metadata": {},
   "outputs": [],
   "source": [
    "\n",
    "# ------------------------------\n",
    "# Section 2: Utility Functions and Classes\n",
    "# ------------------------------\n",
    "\n",
    "# Utility function to set random seeds for reproducibility\n",
    "def seed_everything(seed=42):\n",
    "    \"\"\"Set random seeds for reproducibility across random, numpy, and PyTorch.\n",
    "    \n",
    "    Args:\n",
    "        seed (int): Random seed value (default: 42).\n",
    "    \"\"\"\n",
    "    random.seed(seed)\n",
    "    np.random.seed(seed)\n",
    "    torch.manual_seed(seed)\n",
    "    torch.cuda.manual_seed_all(seed)\n",
    "    torch.backends.cudnn.deterministic = True\n",
    "    torch.backends.cudnn.benchmark = False\n",
    "    logger.info(f\"Set random seed to {seed}\")\n",
    "\n",
    "# Set seed for reproducibility\n",
    "seed_everything(42)\n",
    "\n",
    "# FashionItem class to represent items in the Polyvore dataset\n",
    "class FashionItem:\n",
    "    \"\"\"Represents a fashion item with metadata, image, and embedding.\n",
    "    \n",
    "    Attributes:\n",
    "        item_id (str): Unique identifier for the item.\n",
    "        category (str): Semantic category (e.g., top, bottom, shoes).\n",
    "        image (PIL.Image or None): Loaded image of the item.\n",
    "        description (str): Text description or title of the item.\n",
    "        metadata (dict): Additional metadata from item_metadata.json.\n",
    "        embedding (np.ndarray or None): Precomputed CLIP embedding (1024,).\n",
    "    \"\"\"\n",
    "    def __init__(self, item_id, category, image=None, description=\"\", metadata=None, embedding=None):\n",
    "        self.item_id = item_id\n",
    "        self.category = category\n",
    "        self.image = image\n",
    "        self.description = description\n",
    "        self.metadata = metadata or {}\n",
    "        self.embedding = embedding\n",
    "\n",
    "# Load metadata from item_metadata.json\n",
    "def load_metadata(dataset_dir):\n",
    "    \"\"\"Load item metadata from item_metadata.json.\n",
    "    \n",
    "    Args:\n",
    "        dataset_dir (str): Path to the Polyvore dataset directory.\n",
    "    \n",
    "    Returns:\n",
    "        dict: Dictionary mapping item_id to metadata.\n",
    "    \"\"\"\n",
    "    metadata = {}\n",
    "    with open(POLYVORE_METADATA_PATH.format(dataset_dir=dataset_dir), 'r') as f:\n",
    "        metadata_ = json.load(f)\n",
    "        for item in metadata_:\n",
    "            metadata[item['item_id']] = item\n",
    "    logger.info(f\"Loaded {len(metadata)} metadata entries\")\n",
    "    print(f\"Loaded {len(metadata)} metadata entries\")\n",
    "    return metadata\n",
    "\n",
    "# Load image for an item\n",
    "def load_image(dataset_dir, item_id, size=(224, 224)):\n",
    "    \"\"\"Load an image for a given item_id.\n",
    "    \n",
    "    Args:\n",
    "        dataset_dir (str): Path to the Polyvore dataset directory.\n",
    "        item_id (str): Unique identifier for the item.\n",
    "        size (tuple): Target image size (height, width) (default: (224, 224)).\n",
    "    \n",
    "    Returns:\n",
    "        PIL.Image or None: Loaded image or None if loading fails.\n",
    "    \"\"\"\n",
    "    image_path = POLYVORE_IMAGE_DATA_PATH.format(dataset_dir=dataset_dir, item_id=item_id)\n",
    "    try:\n",
    "        image = Image.open(image_path).convert('RGB')\n",
    "        return image\n",
    "    except Exception as e:\n",
    "        logger.error(f\"Error loading image {image_path}: {e}\")\n",
    "        print(f\"Error loading image {image_path}: {e}\")\n",
    "        return None\n",
    "\n",
    "# Load a FashionItem object\n",
    "def load_item(dataset_dir, metadata, item_id, should_load_image=False, embedding_dict=None):\n",
    "    \"\"\"Load a FashionItem object with metadata, image, and embedding.\n",
    "    \n",
    "    Args:\n",
    "        dataset_dir (str): Path to the Polyvore dataset directory.\n",
    "        metadata (dict): Dictionary of item metadata.\n",
    "        item_id (str): Unique identifier for the item.\n",
    "        should_load_image (bool): Whether to load the item image.\n",
    "        embedding_dict (dict or None): Dictionary mapping item_id to CLIP embedding.\n",
    "    \n",
    "    Returns:\n",
    "        FashionItem: Object containing item data.\n",
    "    \"\"\"\n",
    "    metadata_ = metadata[item_id]\n",
    "    return FashionItem(\n",
    "        item_id=metadata_['item_id'],\n",
    "        category=metadata_['semantic_category'],\n",
    "        image=load_image(dataset_dir, metadata_['item_id']) if should_load_image else None,\n",
    "        description=metadata_['title'] if metadata_.get('title') else metadata_['url_name'],\n",
    "        metadata=metadata_,\n",
    "        embedding=embedding_dict[item_id] if embedding_dict else None\n",
    "    )\n",
    "\n",
    "# Load precomputed CLIP embeddings\n",
    "def load_embedding_dict(dataset_dir):\n",
    "    \"\"\"Load precomputed CLIP embeddings from .pkl files.\n",
    "    \n",
    "    Args:\n",
    "        dataset_dir (str): Path to the Polyvore dataset directory.\n",
    "    \n",
    "    Returns:\n",
    "        dict: Dictionary mapping item_id to embedding (1024,).\n",
    "    \"\"\"\n",
    "    e_dir = POLYVORE_PRECOMPUTED_CLIP_EMBEDDING_DIR.format(polyvore_dir=dataset_dir)\n",
    "    filenames = [f for f in os.listdir(e_dir) if f.endswith('.pkl') and 'official' not in f]\n",
    "    filenames.sort(key=lambda x: int(x.split('.')[0].split('_')[-1]))\n",
    "    \n",
    "    all_ids, all_embeddings = [], []\n",
    "    for filename in filenames:\n",
    "        filepath = os.path.join(e_dir, filename)\n",
    "        with open(filepath, 'rb') as f:\n",
    "            data = pickle.load(f)\n",
    "            all_ids += data['ids']\n",
    "            all_embeddings.append(data['embeddings'])\n",
    "    \n",
    "    all_embeddings = np.concatenate(all_embeddings, axis=0)  # (n_items, 1024)\n",
    "    embedding_dict = {item_id: embedding for item_id, embedding in zip(all_ids, all_embeddings)}\n",
    "    logger.info(f\"Loaded {len(all_embeddings)} embeddings into dictionary\")\n",
    "    print(f\"Loaded {len(all_embeddings)} embeddings into dictionary\")\n",
    "    return embedding_dict\n",
    "\n",
    "# Load task data from JSON files\n",
    "def load_task_data(dataset_dir, dataset_type, task, dataset_split):\n",
    "    \"\"\"Load task-specific data from JSON files.\n",
    "    \n",
    "    Args:\n",
    "        dataset_dir (str): Path to the Polyvore dataset directory.\n",
    "        dataset_type (str): Dataset type (e.g., 'nondisjoint').\n",
    "        task (str): Task name (e.g., 'compatibility', 'fill_in_the_blank').\n",
    "        dataset_split (str): Dataset split (e.g., 'train', 'valid', 'test').\n",
    "    \n",
    "    Returns:\n",
    "        list: List of task data entries.\n",
    "    \"\"\"\n",
    "    with open(\n",
    "        POLYVORE_TASK_DATA_PATH.format(\n",
    "            dataset_dir=dataset_dir,\n",
    "            dataset_type=dataset_type,\n",
    "            dataset_task=task,\n",
    "            dataset_split=dataset_split\n",
    "        ), 'r'\n",
    "    ) as f:\n",
    "        data = json.load(f)\n",
    "    logger.info(f\"Loaded {len(data)} {task} {dataset_split} entries\")\n",
    "    return data\n",
    "\n",
    "# Load set data for CIR training\n",
    "def load_set_data(dataset_dir, dataset_type, dataset_split):\n",
    "    \"\"\"Load set data for CIR training from JSON files.\n",
    "    \n",
    "    Args:\n",
    "        dataset_dir (str): Path to the Polyvore dataset directory.\n",
    "        dataset_type (str): Dataset type (e.g., 'nondisjoint').\n",
    "        dataset_split (str): Dataset split (e.g., 'train', 'valid', 'test').\n",
    "    \n",
    "    Returns:\n",
    "        list: List of set data entries.\n",
    "    \"\"\"\n",
    "    with open(\n",
    "        POLYVORE_SET_DATA_PATH.format(\n",
    "            dataset_dir=dataset_dir,\n",
    "            dataset_type=dataset_type,\n",
    "            dataset_split=dataset_split\n",
    "        ), 'r'\n",
    "    ) as f:\n",
    "        data = json.load(f)\n",
    "    logger.info(f\"Loaded {len(data)} {dataset_split} set entries\")\n",
    "    return data\n",
    "\n",
    "\n",
    "def load_checkpoint(model, checkpoint_path):\n",
    "    \"\"\"Load a model's state dictionary from a checkpoint file.\n",
    "\n",
    "    Args:\n",
    "        model (nn.Module): The model to load the state dictionary into.\n",
    "        checkpoint_path (str): Path to the checkpoint file (.pth).\n",
    "\n",
    "    Returns:\n",
    "        nn.Module: The model with the loaded state dictionary, set to evaluation mode.\n",
    "\n",
    "    Notes:\n",
    "        - The checkpoint file is expected to contain a dictionary with a 'model' key\n",
    "          mapping to the state dictionary.\n",
    "        - The function uses map_location to ensure compatibility with CPU/GPU environments.\n",
    "    \"\"\"\n",
    "    checkpoint = torch.load(checkpoint_path, map_location='cuda' if torch.cuda.is_available() else 'cpu')\n",
    "    model.load_state_dict(checkpoint['model'])\n",
    "    model.eval()\n",
    "    logger.info(f\"Loaded checkpoint from {checkpoint_path}\")\n",
    "    return model\n"
   ]
  },
  {
   "cell_type": "code",
   "execution_count": 5,
   "id": "94eeab38",
   "metadata": {},
   "outputs": [
    {
     "name": "stdout",
     "output_type": "stream",
     "text": [
      "Embedding Arguments: {}\n"
     ]
    }
   ],
   "source": [
    "\n",
    "# ------------------------------\n",
    "# Section 3: Generate CLIP Embeddings\n",
    "# ------------------------------\n",
    "\n",
    "# Dataset for generating CLIP embeddings\n",
    "class PolyvoreItemDataset(Dataset):\n",
    "    \"\"\"Dataset for loading Polyvore items to generate CLIP embeddings.\n",
    "    \n",
    "    Attributes:\n",
    "        dataset_dir (str): Path to the Polyvore dataset directory.\n",
    "        metadata (dict): Item metadata.\n",
    "        load_image (bool): Whether to load images.\n",
    "        all_item_ids (list): List of all item IDs.\n",
    "    \"\"\"\n",
    "    def __init__(self, dataset_dir, metadata=None, load_image=False):\n",
    "        self.dataset_dir = dataset_dir\n",
    "        self.metadata = metadata if metadata else load_metadata(dataset_dir)\n",
    "        self.load_image = load_image\n",
    "        self.all_item_ids = list(self.metadata.keys())\n",
    "        logger.info(f\"Initialized PolyvoreItemDataset with {len(self.all_item_ids)} items\")\n",
    "\n",
    "    def __len__(self):\n",
    "        return len(self.all_item_ids)\n",
    "\n",
    "    def __getitem__(self, idx):\n",
    "        return load_item(self.dataset_dir, self.metadata, self.all_item_ids[idx], \n",
    "                         should_load_image=self.load_image)\n",
    "\n",
    "# Collate function for item dataset\n",
    "def item_collate_fn(batch):\n",
    "    \"\"\"Collate function for PolyvoreItemDataset.\n",
    "    \n",
    "    Args:\n",
    "        batch (list): List of FashionItem objects.\n",
    "    \n",
    "    Returns:\n",
    "        list: List of FashionItem objects.\n",
    "    \"\"\"\n",
    "    return [item for item in batch]\n",
    "\n",
    "# Distributed setup for DDP\n",
    "def setup(rank, world_size):\n",
    "    \"\"\"Initialize DDP process group.\n",
    "    \n",
    "    Args:\n",
    "        rank (int): Rank of the current process.\n",
    "        world_size (int): Total number of processes (GPUs).\n",
    "    \"\"\"\n",
    "    os.environ['MASTER_ADDR'] = 'localhost'\n",
    "    os.environ['MASTER_PORT'] = '12355'\n",
    "    dist.init_process_group(\"nccl\", rank=rank, world_size=world_size)\n",
    "    logger.info(f\"DDP initialized for rank {rank}\")\n",
    "\n",
    "def cleanup():\n",
    "    \"\"\"Destroy DDP process group.\"\"\"\n",
    "    dist.destroy_process_group()\n",
    "    logger.info(\"DDP process group destroyed\")\n",
    "\n",
    "# Load CLIP model\n",
    "def load_clip_model(checkpoint=None):\n",
    "    \"\"\"Load the Fashion-CLIP model.\n",
    "    \n",
    "    Args:\n",
    "        checkpoint (str or None): Path to a checkpoint (not used in this case).\n",
    "    \n",
    "    Returns:\n",
    "        tuple: (CLIPModel, CLIPProcessor).\n",
    "    \"\"\"\n",
    "    model = CLIPModel.from_pretrained(\"patrickjohncyh/fashion-clip\")\n",
    "    processor = CLIPProcessor.from_pretrained(\"patrickjohncyh/fashion-clip\")\n",
    "    model.eval()\n",
    "    logger.info(\"Loaded Fashion-CLIP model and processor\")\n",
    "    return model, processor\n",
    "\n",
    "# Compute CLIP embeddings\n",
    "def precompute_clip_embedding(model, processor, batch):\n",
    "    \"\"\"Compute CLIP embeddings for a batch of items.\n",
    "    \n",
    "    Args:\n",
    "        model (CLIPModel): Fashion-CLIP model.\n",
    "        processor (CLIPProcessor): CLIP processor.\n",
    "        batch (list): List of FashionItem objects.\n",
    "    \n",
    "    Returns:\n",
    "        np.ndarray: Concatenated image and text embeddings (batch_size, 1024).\n",
    "    \"\"\"\n",
    "    images = [item.image for item in batch]\n",
    "    texts = [item.description for item in batch]\n",
    "    \n",
    "    # Process images and texts\n",
    "    # Input: images (list of PIL.Image), texts (list of str)\n",
    "    # Output: inputs (dict with 'pixel_values' (batch_size, 3, 224, 224), 'input_ids', etc.)\n",
    "    inputs = processor(images=images, text=texts, return_tensors=\"pt\", padding=True, \n",
    "                      truncation=True, max_length=64)\n",
    "    inputs = {k: v.to(model.device) for k, v in inputs.items()}\n",
    "    \n",
    "    # Generate embeddings\n",
    "    # Input: pixel_values (batch_size, 3, 224, 224), input_ids (batch_size, seq_len)\n",
    "    # Output: image_embeds (batch_size, 512), text_embeds (batch_size, 512)\n",
    "    with torch.no_grad():\n",
    "        outputs = model(**inputs)\n",
    "        image_embeds = outputs.image_embeds  # (batch_size, 512)\n",
    "        text_embeds = outputs.text_embeds    # (batch_size, 512)\n",
    "        embeddings = torch.cat((image_embeds, text_embeds), dim=-1)  # (batch_size, 1024)\n",
    "    \n",
    "    return embeddings.cpu().numpy()  # (batch_size, 1024)\n",
    "\n",
    "# Main function to compute embeddings\n",
    "def compute_clip_embeddings(rank, world_size, args):\n",
    "    \"\"\"Compute and save CLIP embeddings for Polyvore items using DDP.\n",
    "    \n",
    "    Args:\n",
    "        rank (int): Rank of the current process.\n",
    "        world_size (int): Total number of processes (GPUs).\n",
    "        args (Args): Configuration arguments.\n",
    "    \"\"\"\n",
    "    # Initialize DDP\n",
    "    if world_size > 1:\n",
    "        setup(rank, world_size)\n",
    "    \n",
    "    # Load dataset\n",
    "    item_dataset = PolyvoreItemDataset(\n",
    "        dataset_dir=args.polyvore_dir,\n",
    "        load_image=True\n",
    "    )\n",
    "    \n",
    "    # Split dataset across GPUs\n",
    "    n_items = len(item_dataset)\n",
    "    n_items_per_gpu = n_items // world_size\n",
    "    start_idx = n_items_per_gpu * rank\n",
    "    end_idx = start_idx + n_items_per_gpu if rank < world_size - 1 else n_items\n",
    "    item_dataset = torch.utils.data.Subset(item_dataset, range(start_idx, end_idx))\n",
    "    logger.info(f\"Rank {rank}: Processing items {start_idx} to {end_idx}\")\n",
    "    \n",
    "    # Create DataLoader\n",
    "    item_dataloader = DataLoader(\n",
    "        dataset=item_dataset,\n",
    "        batch_size=args.batch_sz_per_gpu,\n",
    "        shuffle=False,\n",
    "        num_workers=args.n_workers_per_gpu,\n",
    "        collate_fn=item_collate_fn\n",
    "    )\n",
    "    \n",
    "    # Load CLIP model\n",
    "    model, processor = load_clip_model()\n",
    "    model.to(rank)\n",
    "    if world_size > 1:\n",
    "        model = nn.parallel.DistributedDataParallel(model, device_ids=[rank])\n",
    "    \n",
    "    # Compute embeddings\n",
    "    all_ids, all_embeddings = [], []\n",
    "    with torch.no_grad():\n",
    "        for batch in tqdm(item_dataloader, desc=f\"Rank {rank} Computing Embeddings\"):\n",
    "            if args.demo and len(all_embeddings) > 10:\n",
    "                break\n",
    "            embeddings = precompute_clip_embedding(model.module if world_size > 1 else model, \n",
    "                                                  processor, batch)  # (batch_size, 1024)\n",
    "            all_ids.extend([item.item_id for item in batch])\n",
    "            all_embeddings.append(embeddings)\n",
    "    \n",
    "    all_embeddings = np.concatenate(all_embeddings, axis=0)  # (n_items_per_gpu, 1024)\n",
    "    logger.info(f\"Rank {rank}: Computed {len(all_embeddings)} embeddings\")\n",
    "    print(f\"Rank {rank}: Computed {len(all_embeddings)} embeddings\")\n",
    "    \n",
    "    # Save embeddings\n",
    "    save_path = f\"{POLYVORE_PRECOMPUTED_CLIP_EMBEDDING_DIR}/polyvore_{rank}.pkl\"\n",
    "    with open(save_path, 'wb') as f:\n",
    "        pickle.dump({'ids': all_ids, 'embeddings': all_embeddings}, f)\n",
    "    logger.info(f\"Rank {rank}: Saved embeddings to {save_path}\")\n",
    "    print(f\"Rank {rank}: Saved embeddings to {save_path}\")\n",
    "    \n",
    "    # Cleanup DDP\n",
    "    if world_size > 1:\n",
    "        cleanup()\n",
    "\n",
    "# Configuration for embedding generation\n",
    "class EmbeddingArgs:\n",
    "    \"\"\"Configuration for generating CLIP embeddings.\"\"\"\n",
    "    model_type = 'clip'\n",
    "    polyvore_dir = POLYVORE_DIR\n",
    "    polyvore_type = 'nondisjoint'\n",
    "    batch_sz_per_gpu = 128\n",
    "    n_workers_per_gpu = 4\n",
    "    checkpoint = None\n",
    "    world_size = torch.cuda.device_count() if torch.cuda.is_available() else 1\n",
    "    demo = False\n",
    "\n",
    "embedding_args = EmbeddingArgs()\n",
    "logger.info(f\"Embedding Arguments: {vars(embedding_args)}\")\n",
    "print(f\"Embedding Arguments: {vars(embedding_args)}\")\n"
   ]
  },
  {
   "cell_type": "code",
   "execution_count": 6,
   "id": "0bf7b13d",
   "metadata": {},
   "outputs": [
    {
     "name": "stdout",
     "output_type": "stream",
     "text": [
      "Precomputed CLIP embeddings already exist. Skipping computation.\n"
     ]
    }
   ],
   "source": [
    "\n",
    "# Run embedding computation\n",
    "# check if the embedding file already exists\n",
    "embedding_files = [f for f in os.listdir(POLYVORE_PRECOMPUTED_CLIP_EMBEDDING_DIR) if f.endswith('.pkl')]\n",
    "if embedding_files:\n",
    "    logger.info(\"Precomputed CLIP embeddings already exist. Skipping computation.\")\n",
    "    print(\"Precomputed CLIP embeddings already exist. Skipping computation.\")\n",
    "else:\n",
    "    logger.info(\"Starting computation of CLIP embeddings\")\n",
    "    print(\"Starting computation of CLIP embeddings\")\n",
    "    if embedding_args.world_size > 1:\n",
    "\n",
    "        logger.info(\"Starting distributed computation of CLIP embeddings\")\n",
    "        print(\"Starting distributed computation of CLIP embeddings\") \n",
    "        mp.spawn(\n",
    "            compute_clip_embeddings,\n",
    "            args=(embedding_args.world_size, embedding_args),\n",
    "            nprocs=embedding_args.world_size,\n",
    "            join=True\n",
    "        )\n",
    "    else:\n",
    "        compute_clip_embeddings(0, 1, embedding_args)\n"
   ]
  },
  {
   "cell_type": "code",
   "execution_count": 7,
   "id": "c5d8af4d",
   "metadata": {},
   "outputs": [],
   "source": [
    "\n",
    "# ------------------------------\n",
    "# Section 4: Train Compatibility Prediction (CP)\n",
    "# ------------------------------\n",
    "\n",
    "# Dataset for CP training\n",
    "class PolyvoreCompatibilityDataset(Dataset):\n",
    "    \"\"\"Dataset for Compatibility Prediction task.\n",
    "    \n",
    "    Attributes:\n",
    "        dataset_dir (str): Path to the Polyvore dataset directory.\n",
    "        metadata (dict): Item metadata.\n",
    "        data (list): List of outfit data with labels.\n",
    "        load_image (bool): Whether to load images.\n",
    "        embedding_dict (dict): Dictionary mapping item_id to CLIP embedding.\n",
    "    \n",
    "    Data Format:\n",
    "        Each item in data is a dict with:\n",
    "            'question': List of item IDs for the outfit.\n",
    "            'label': Binary label (0: incompatible, 1: compatible).\n",
    "    \"\"\"\n",
    "    def __init__(self, dataset_dir, dataset_type='nondisjoint', dataset_split='train', \n",
    "                 metadata=None, load_image=False, embedding_dict=None):\n",
    "        self.dataset_dir = dataset_dir\n",
    "        self.metadata = metadata if metadata else load_metadata(dataset_dir)\n",
    "        self.data = load_task_data(dataset_dir, dataset_type, 'compatibility', dataset_split)\n",
    "        self.load_image = load_image\n",
    "        self.embedding_dict = embedding_dict\n",
    "        # Validate label distribution\n",
    "        labels = [item['label'] for item in self.data]\n",
    "        label_counts = Counter(labels)\n",
    "        logger.info(f\"{dataset_split} CP dataset: {len(self.data)} outfits, Label distribution: {label_counts}\")\n",
    "        print(f\"{dataset_split} CP dataset: {len(self.data)} outfits, Label distribution: {label_counts}\")\n",
    "\n",
    "    def __len__(self):\n",
    "        return len(self.data)\n",
    "    \n",
    "    def __getitem__(self, idx):\n",
    "        # Return outfit and label\n",
    "        label = self.data[idx]['label']\n",
    "        outfit = [\n",
    "            load_item(self.dataset_dir, self.metadata, item_id, self.load_image, self.embedding_dict)\n",
    "            for item_id in self.data[idx]['question']\n",
    "        ]\n",
    "        return {'label': label, 'query': outfit}\n",
    "\n",
    "# Collate function for CP\n",
    "def cp_collate_fn(batch):\n",
    "    \"\"\"Collate function for PolyvoreCompatibilityDataset.\n",
    "    \n",
    "    Args:\n",
    "        batch (list): List of dicts with 'label' and 'query'.\n",
    "    \n",
    "    Returns:\n",
    "        dict: Dictionary with 'label' (list of int) and 'query' (list of lists of FashionItem).\n",
    "    \"\"\"\n",
    "    labels = [item['label'] for item in batch]\n",
    "    queries = [item['query'] for item in batch]\n",
    "    return {'label': labels, 'query': queries}\n",
    "\n",
    "# Focal Loss for CP\n",
    "class FocalLoss(nn.Module):\n",
    "    \"\"\"Focal Loss for binary classification, emphasizing hard examples.\n",
    "    \n",
    "    Args:\n",
    "        gamma (float): Focusing parameter (default: 2).\n",
    "        alpha (float): Weight for positive class (default: 0.5).\n",
    "        reduction (str): Reduction method ('mean', 'sum', or 'none').\n",
    "    \n",
    "    Forward:\n",
    "        Input:\n",
    "            y_prob (torch.Tensor): Predicted logits (batch_size,).\n",
    "            y_true (torch.Tensor): True labels (batch_size,).\n",
    "        Output:\n",
    "            torch.Tensor: Scalar loss (if reduction='mean').\n",
    "    \"\"\"\n",
    "    def __init__(self, gamma=2, alpha=0.5, reduction='mean'):\n",
    "        super().__init__()\n",
    "        self.gamma = gamma\n",
    "        self.alpha = alpha\n",
    "        self.reduction = reduction\n",
    "\n",
    "    def forward(self, y_prob, y_true):\n",
    "        ce_loss = F.binary_cross_entropy_with_logits(y_prob, y_true, reduction=\"none\")\n",
    "        p_t = y_prob * y_true + (1 - y_prob) * (1 - y_true)\n",
    "        loss = ce_loss * ((1 - p_t) ** self.gamma)\n",
    "        if self.alpha >= 0:\n",
    "            alpha_t = self.alpha * y_true + (1 - self.alpha) * (1 - y_true)\n",
    "            loss = alpha_t * loss\n",
    "        if self.reduction == \"mean\":\n",
    "            return loss.mean()\n",
    "        elif self.reduction == \"sum\":\n",
    "            return loss.sum()\n",
    "        return loss\n",
    "\n",
    "# Metrics for CP\n",
    "def compute_cp_scores(predictions, labels):\n",
    "    \"\"\"Compute metrics for Compatibility Prediction.\n",
    "    \n",
    "    Args:\n",
    "        predictions (torch.Tensor): Predicted logits (batch_size,).\n",
    "        labels (torch.Tensor): True labels (batch_size,).\n",
    "    \n",
    "    Returns:\n",
    "        dict: Metrics including 'acc', 'precision', 'recall', 'f1', 'auc'.\n",
    "    \"\"\"\n",
    "    try:\n",
    "        auc = roc_auc_score(labels.detach().cpu().numpy(), \n",
    "                           predictions.detach().cpu().numpy()) if len(torch.unique(labels)) > 1 else 0.0\n",
    "    except ValueError as e:\n",
    "        logger.warning(f\"AUC calculation failed: {e}. Setting auc=0.0\")\n",
    "        auc = 0.0\n",
    "    predictions = (predictions > 0).int()  # Threshold at 0 for logits\n",
    "    tp = torch.sum((predictions == 1) & (labels == 1)).item()\n",
    "    fp = torch.sum((predictions == 1) & (labels == 0)).item()\n",
    "    fn = torch.sum((predictions == 0) & (labels == 1)).item()\n",
    "    accuracy = torch.mean((predictions == labels).float()).item()\n",
    "    precision = tp / (tp + fp) if (tp + fp) > 0 else 0.0\n",
    "    recall = tp / (tp + fn) if (tp + fn) > 0 else 0.0\n",
    "    f1 = (2 * precision * recall) / (precision + recall) if (precision + recall) > 0 else 0.0\n",
    "    return {'acc': accuracy, 'precision': precision, 'recall': recall, 'f1': f1, 'auc': auc}\n",
    "\n",
    "# Configuration for OutfitTransformer\n",
    "@dataclass\n",
    "class OutfitTransformerConfig:\n",
    "    \"\"\"Configuration for OutfitTransformer model.\"\"\"\n",
    "    n_items: int = 251008  # Number of unique items in Polyvore\n",
    "    d_model: int = 128     # Embedding dimension\n",
    "    n_layers: int = 4      # Number of transformer layers\n",
    "    n_head: int = 4        # Number of attention heads\n",
    "    dropout: float = 0.1   # Dropout rate\n",
    "    item_enc_norm_out: bool = True\n",
    "    aggregation_method: str = 'concat'\n",
    "\n",
    "@dataclass\n",
    "class OutfitCLIPTransformerConfig(OutfitTransformerConfig):\n",
    "    \"\"\"Configuration for OutfitCLIPTransformer, extending OutfitTransformerConfig.\"\"\"\n",
    "    item_enc_clip_model_name: str = \"patrickjohncyh/fashion-clip\"\n",
    "\n",
    "# OutfitTransformer model\n",
    "class OutfitTransformer(nn.Module):\n",
    "    \"\"\"Transformer model for outfit compatibility prediction.\n",
    "    \n",
    "    Architecture:\n",
    "        - Input: List of outfits, each a list of FashionItem objects with CLIP embeddings (1024,).\n",
    "        - Linear layer: Projects CLIP embeddings to d_model (1024 -> 128).\n",
    "        - CLS token: Learnable token prepended to each outfit sequence.\n",
    "        - Transformer Encoder: Processes outfit embeddings with attention.\n",
    "        - Classification Head: Maps CLS token embedding to a logit.\n",
    "    \n",
    "    Args:\n",
    "        cfg (OutfitTransformerConfig): Model configuration.\n",
    "    \n",
    "    Forward:\n",
    "        Input:\n",
    "            queries (List[List[FashionItem]]): Batch of outfits, each a list of items.\n",
    "            use_precomputed_embedding (bool): Whether to use precomputed CLIP embeddings.\n",
    "        Output:\n",
    "            torch.Tensor: Logits (batch_size,) for compatibility prediction.\n",
    "    \"\"\"\n",
    "    def __init__(self, cfg=OutfitTransformerConfig()):\n",
    "        super().__init__()\n",
    "        self.cfg = cfg\n",
    "        # Linear layer to project CLIP embeddings (1024,) to model dimension (128,)\n",
    "        self.fc = nn.Linear(1024, cfg.d_model)\n",
    "        # Transformer encoder layer with multi-head attention\n",
    "        encoder_layer = nn.TransformerEncoderLayer(\n",
    "            d_model=cfg.d_model, nhead=cfg.n_head, dropout=cfg.dropout, batch_first=True\n",
    "        )\n",
    "        # Stack of transformer encoder layers\n",
    "        self.transformer_encoder = nn.TransformerEncoder(encoder_layer, num_layers=cfg.n_layers)\n",
    "        # Learnable CLS token for outfit representation\n",
    "        self.cls_token = nn.Parameter(torch.randn(1, 1, cfg.d_model))\n",
    "        # Classification head to predict compatibility\n",
    "        self.classification_head = nn.Linear(cfg.d_model, 1)\n",
    "        self.device = torch.device('cuda' if torch.cuda.is_available() else 'cpu')\n",
    "\n",
    "    def forward(self, queries, use_precomputed_embedding=True):\n",
    "        # queries: List of outfits, each a list of FashionItem objects\n",
    "        batch_size = len(queries)  # Number of outfits in the batch\n",
    "        max_len = max(len(query) for query in queries)  # Maximum number of items in any outfit\n",
    "        \n",
    "        # Prepare embeddings and mask\n",
    "        embeddings = []\n",
    "        mask = []\n",
    "        for query in queries:\n",
    "            # Extract precomputed CLIP embeddings for each item\n",
    "            # Shape: (seq_len, 1024), where seq_len is number of items in outfit\n",
    "            outfit_embeds = torch.from_numpy(np.array([item.embedding for item in query])).to(\n",
    "                dtype=torch.float32, device=self.device\n",
    "            )\n",
    "            # Pad embeddings to max_len\n",
    "            padded_embeds = torch.zeros(max_len, 1024, device=self.device)\n",
    "            padded_embeds[:len(query)] = outfit_embeds\n",
    "            embeddings.append(padded_embeds)\n",
    "            # Create mask: 0 for valid items, 1 for padding\n",
    "            outfit_mask = torch.zeros(max_len, device=self.device)\n",
    "            outfit_mask[len(query):] = 1\n",
    "            mask.append(outfit_mask)\n",
    "        \n",
    "        # Stack embeddings and mask\n",
    "        embeddings = torch.stack(embeddings, dim=0)  # (batch_size, max_len, 1024)\n",
    "        mask = torch.stack(mask, dim=0)  # (batch_size, max_len)\n",
    "        \n",
    "        # Project embeddings to model dimension\n",
    "        embeddings = self.fc(embeddings)  # (batch_size, max_len, d_model)\n",
    "        \n",
    "        # Add CLS token\n",
    "        cls_token = self.cls_token.expand(batch_size, -1, -1)  # (batch_size, 1, d_model)\n",
    "        features = torch.cat([cls_token, embeddings], dim=1)  # (batch_size, max_len+1, d_model)\n",
    "        \n",
    "        # Update mask for CLS token\n",
    "        cls_mask = torch.zeros(batch_size, 1, device=self.device)  # CLS token is valid (0)\n",
    "        mask = torch.cat([cls_mask, mask], dim=1)  # (batch_size, max_len+1)\n",
    "        \n",
    "        # Apply transformer encoder\n",
    "        # Input: features (batch_size, max_len+1, d_model), mask (batch_size, max_len+1)\n",
    "        # Output: transformed_features (batch_size, max_len+1, d_model)\n",
    "        transformed_features = self.transformer_encoder(features, src_key_padding_mask=mask.bool())\n",
    "        \n",
    "        # Extract CLS token embedding\n",
    "        outfit_embedding = transformed_features[:, 0, :]  # (batch_size, d_model)\n",
    "        \n",
    "        # Predict compatibility\n",
    "        logits = self.classification_head(outfit_embedding)  # (batch_size, 1)\n",
    "        return logits.squeeze(-1)  # (batch_size,)\n",
    "\n",
    "# OutfitCLIPTransformer model\n",
    "class OutfitCLIPTransformer(OutfitTransformer):\n",
    "    \"\"\"OutfitTransformer specialized for CLIP embeddings.\n",
    "    \n",
    "    Args:\n",
    "        cfg (OutfitCLIPTransformerConfig): Model configuration.\n",
    "    \"\"\"\n",
    "    def __init__(self, cfg=OutfitCLIPTransformerConfig()):\n",
    "        super().__init__(cfg)\n",
    "        logger.info(\"Initialized OutfitCLIPTransformer\")\n",
    "\n",
    "# Training function for CP\n",
    "def train_cp(args, model, train_dataloader, valid_dataloader, optimizer, scheduler, loss_fn, device):\n",
    "    \"\"\"Train the Compatibility Prediction model.\n",
    "    \n",
    "    Args:\n",
    "        args (Args): Training arguments.\n",
    "        model (OutfitCLIPTransformer): Model to train.\n",
    "        train_dataloader (DataLoader): Training DataLoader.\n",
    "        valid_dataloader (DataLoader): Validation DataLoader.\n",
    "        optimizer (optim.Optimizer): Optimizer.\n",
    "        scheduler (optim.lr_scheduler): Learning rate scheduler.\n",
    "        loss_fn (nn.Module): Loss function (FocalLoss).\n",
    "        device (torch.device): Device (CPU/GPU).\n",
    "    \n",
    "    Returns:\n",
    "        tuple: Lists of train_losses, valid_losses, train_aucs, valid_aucs.\n",
    "    \"\"\"\n",
    "    train_losses, valid_losses, train_aucs, valid_aucs = [], [], [], []\n",
    "    \n",
    "    for epoch in range(args.n_epochs):\n",
    "        # Training\n",
    "        model.train()\n",
    "        train_loss, train_preds, train_labels = 0.0, [], []\n",
    "        pbar = tqdm(train_dataloader, desc=f'Train CP Epoch {epoch+1}/{args.n_epochs}')\n",
    "        for i, data in enumerate(pbar):\n",
    "            queries = data['query']\n",
    "            labels = torch.tensor(data['label'], dtype=torch.float32).to(device)\n",
    "            # Forward pass\n",
    "            # Input: queries (batch_size lists of FashionItem)\n",
    "            # Output: preds (batch_size,) logits\n",
    "            preds = model(queries, use_precomputed_embedding=True)\n",
    "            # Compute loss\n",
    "            loss = loss_fn(preds, labels) / args.accumulation_steps\n",
    "            loss.backward()\n",
    "            # Gradient accumulation\n",
    "            if (i + 1) % args.accumulation_steps == 0:\n",
    "                nn.utils.clip_grad_norm_(model.parameters(), max_norm=1.0)\n",
    "                optimizer.step()\n",
    "                optimizer.zero_grad()\n",
    "                scheduler.step()\n",
    "            train_loss += loss.item() * args.accumulation_steps\n",
    "            train_preds.append(preds.detach())\n",
    "            train_labels.append(labels.detach())\n",
    "            pbar.set_postfix(loss=loss.item() * args.accumulation_steps)\n",
    "        \n",
    "        train_loss /= len(train_dataloader)\n",
    "        train_preds = torch.cat(train_preds)\n",
    "        train_labels = torch.cat(train_labels)\n",
    "        train_scores = compute_cp_scores(train_preds, train_labels)\n",
    "        train_losses.append(train_loss)\n",
    "        train_aucs.append(train_scores['auc'])\n",
    "        logger.info(f'Epoch {epoch+1}/{args.n_epochs} Train CP --> Loss: {train_loss:.4f}, '\n",
    "                   f'AUC: {train_scores[\"auc\"]:.4f}, Acc: {train_scores[\"acc\"]:.4f}, '\n",
    "                   f'F1: {train_scores[\"f1\"]:.4f}')\n",
    "        print(f'Epoch {epoch+1}/{args.n_epochs} Train CP --> Loss: {train_loss:.4f}, '\n",
    "              f'AUC: {train_scores[\"auc\"]:.4f}, Acc: {train_scores[\"acc\"]:.4f}, '\n",
    "              f'F1: {train_scores[\"f1\"]:.4f}')\n",
    "        \n",
    "        # Validation\n",
    "        model.eval()\n",
    "        valid_loss, valid_preds, valid_labels = 0.0, [], []\n",
    "        pbar = tqdm(valid_dataloader, desc=f'Valid CP Epoch {epoch+1}/{args.n_epochs}')\n",
    "        with torch.no_grad():\n",
    "            for data in pbar:\n",
    "                queries = data['query']\n",
    "                labels = torch.tensor(data['label'], dtype=torch.float32).to(device)\n",
    "                preds = model(queries, use_precomputed_embedding=True)\n",
    "                loss = loss_fn(preds, labels)\n",
    "                valid_loss += loss.item()\n",
    "                valid_preds.append(preds)\n",
    "                valid_labels.append(labels)\n",
    "                pbar.set_postfix(loss=loss.item())\n",
    "        \n",
    "        valid_loss /= len(valid_dataloader)\n",
    "        valid_preds = torch.cat(valid_preds)\n",
    "        valid_labels = torch.cat(valid_labels)\n",
    "        valid_scores = compute_cp_scores(valid_preds, valid_labels)\n",
    "        valid_losses.append(valid_loss)\n",
    "        valid_aucs.append(valid_scores['auc'])\n",
    "        logger.info(f'Epoch {epoch+1}/{args.n_epochs} Valid CP --> Loss: {valid_loss:.4f}, '\n",
    "                   f'AUC: {valid_scores[\"auc\"]:.4f}, Acc: {valid_scores[\"acc\"]:.4f}, '\n",
    "                   f'F1: {valid_scores[\"f1\"]:.4f}')\n",
    "        print(f'Epoch {epoch+1}/{args.n_epochs} Valid CP --> Loss: {valid_loss:.4f}, '\n",
    "              f'AUC: {valid_scores[\"auc\"]:.4f}, Acc: {valid_scores[\"acc\"]:.4f}, '\n",
    "              f'F1: {valid_scores[\"f1\"]:.4f}')\n",
    "        \n",
    "        # Save checkpoint\n",
    "        checkpoint_path = os.path.join(CHECKPOINT_DIR, 'compatibility_clip', f'epoch_{epoch+1}.pth')\n",
    "        torch.save({'config': model.cfg.__dict__, 'model': model.state_dict()}, checkpoint_path)\n",
    "        logger.info(f'Checkpoint saved at {checkpoint_path}')\n",
    "        print(f'Checkpoint saved at {checkpoint_path}')\n",
    "    \n",
    "    return train_losses, valid_losses, train_aucs, valid_aucs\n",
    "\n",
    "# Configuration for CP training\n",
    "class CPArgs:\n",
    "    \"\"\"Configuration for Compatibility Prediction training.\"\"\"\n",
    "    model_type = 'clip'\n",
    "    polyvore_dir = POLYVORE_DIR\n",
    "    polyvore_type = 'nondisjoint'\n",
    "    batch_sz_per_gpu = 32\n",
    "    n_workers_per_gpu = 4\n",
    "    n_epochs = 200\n",
    "    lr = 2e-5\n",
    "    accumulation_steps = 4\n",
    "    wandb_key = None\n",
    "    seed = 42\n",
    "    checkpoint = None\n",
    "    world_size = 1\n",
    "    project_name = 'compatibility_clip_notebook'\n",
    "    demo = False\n"
   ]
  },
  {
   "cell_type": "code",
   "execution_count": 8,
   "id": "303f8035",
   "metadata": {},
   "outputs": [
    {
     "name": "stdout",
     "output_type": "stream",
     "text": [
      "CP Arguments: {}\n",
      "Loaded 251008 metadata entries\n",
      "Loaded 251008 embeddings into dictionary\n",
      "train CP dataset: 106612 outfits, Label distribution: Counter({1: 53306, 0: 53306})\n",
      "valid CP dataset: 10000 outfits, Label distribution: Counter({1: 5000, 0: 5000})\n"
     ]
    }
   ],
   "source": [
    "\n",
    "cp_args = CPArgs()\n",
    "logger.info(f\"CP Arguments: {vars(cp_args)}\")\n",
    "print(f\"CP Arguments: {vars(cp_args)}\")\n",
    "\n",
    "# Load datasets for CP\n",
    "metadata = load_metadata(cp_args.polyvore_dir)\n",
    "embedding_dict = load_embedding_dict(cp_args.polyvore_dir)\n",
    "\n",
    "train_dataset = PolyvoreCompatibilityDataset(\n",
    "    dataset_dir=cp_args.polyvore_dir,\n",
    "    dataset_type=cp_args.polyvore_type,\n",
    "    dataset_split='train',\n",
    "    metadata=metadata,\n",
    "    load_image=False,\n",
    "    embedding_dict=embedding_dict\n",
    ")\n",
    "\n",
    "valid_dataset = PolyvoreCompatibilityDataset(\n",
    "    dataset_dir=cp_args.polyvore_dir,\n",
    "    dataset_type=cp_args.polyvore_type,\n",
    "    dataset_split='valid',\n",
    "    metadata=metadata,\n",
    "    load_image=False,\n",
    "    embedding_dict=embedding_dict\n",
    ")\n",
    "\n",
    "# Create DataLoaders\n",
    "train_dataloader = DataLoader(\n",
    "    dataset=train_dataset,\n",
    "    batch_size=cp_args.batch_sz_per_gpu,\n",
    "    shuffle=True,\n",
    "    num_workers=cp_args.n_workers_per_gpu,\n",
    "    collate_fn=cp_collate_fn\n",
    ")\n",
    "\n",
    "valid_dataloader = DataLoader(\n",
    "    dataset=valid_dataset,\n",
    "    batch_size=cp_args.batch_sz_per_gpu,\n",
    "    shuffle=False,\n",
    "    num_workers=cp_args.n_workers_per_gpu,\n",
    "    collate_fn=cp_collate_fn\n",
    ")\n",
    "\n",
    "# Initialize model, optimizer, scheduler, and loss\n",
    "device = torch.device('cuda' if torch.cuda.is_available() else 'cpu')\n",
    "cp_model = OutfitCLIPTransformer(OutfitCLIPTransformerConfig(n_items=len(metadata))).to(device)\n",
    "cp_optimizer = optim.AdamW(cp_model.parameters(), lr=cp_args.lr)\n",
    "cp_scheduler = optim.lr_scheduler.OneCycleLR(\n",
    "    cp_optimizer,\n",
    "    max_lr=cp_args.lr,\n",
    "    epochs=cp_args.n_epochs,\n",
    "    steps_per_epoch=int(len(train_dataloader) / cp_args.accumulation_steps),\n",
    "    pct_start=0.3,\n",
    "    anneal_strategy='cos',\n",
    "    div_factor=25,\n",
    "    final_div_factor=1e4\n",
    ")\n",
    "cp_loss_fn = FocalLoss(alpha=0.5, gamma=2)\n"
   ]
  },
  {
   "cell_type": "code",
   "execution_count": 9,
   "id": "788e8c70",
   "metadata": {},
   "outputs": [
    {
     "name": "stderr",
     "output_type": "stream",
     "text": [
      "Train CP Epoch 1/200: 100%|██████████| 3332/3332 [00:31<00:00, 106.12it/s, loss=0.0796]\n"
     ]
    },
    {
     "name": "stdout",
     "output_type": "stream",
     "text": [
      "Epoch 1/200 Train CP --> Loss: 0.1198, AUC: 0.5032, Acc: 0.5007, F1: 0.6490\n"
     ]
    },
    {
     "name": "stderr",
     "output_type": "stream",
     "text": [
      "Valid CP Epoch 1/200:   0%|          | 0/313 [00:00<?, ?it/s]/home/ia/Documentos/TFG_Lara/TransformingFashion/outfit_transformer_env/lib/python3.12/site-packages/torch/nn/modules/transformer.py:502: UserWarning: The PyTorch API of nested tensors is in prototype stage and will change in the near future. (Triggered internally at ../aten/src/ATen/NestedTensorImpl.cpp:178.)\n",
      "  output = torch._nested_tensor_from_mask(\n",
      "Valid CP Epoch 1/200: 100%|██████████| 313/313 [00:01<00:00, 162.69it/s, loss=0.0591]\n"
     ]
    },
    {
     "name": "stdout",
     "output_type": "stream",
     "text": [
      "Epoch 1/200 Valid CP --> Loss: 0.0831, AUC: 0.5045, Acc: 0.5000, F1: 0.6667\n",
      "Checkpoint saved at /home/ia/Documentos/TFG_Lara/TransformingFashion/checkpoints/compatibility_clip/epoch_1.pth\n"
     ]
    },
    {
     "name": "stderr",
     "output_type": "stream",
     "text": [
      "Train CP Epoch 2/200: 100%|██████████| 3332/3332 [00:31<00:00, 107.39it/s, loss=0.0887]\n"
     ]
    },
    {
     "name": "stdout",
     "output_type": "stream",
     "text": [
      "Epoch 2/200 Train CP --> Loss: 0.0884, AUC: 0.4980, Acc: 0.5000, F1: 0.6666\n"
     ]
    },
    {
     "name": "stderr",
     "output_type": "stream",
     "text": [
      "Valid CP Epoch 2/200: 100%|██████████| 313/313 [00:01<00:00, 165.15it/s, loss=0.0622]\n"
     ]
    },
    {
     "name": "stdout",
     "output_type": "stream",
     "text": [
      "Epoch 2/200 Valid CP --> Loss: 0.0827, AUC: 0.5092, Acc: 0.5000, F1: 0.6667\n",
      "Checkpoint saved at /home/ia/Documentos/TFG_Lara/TransformingFashion/checkpoints/compatibility_clip/epoch_2.pth\n"
     ]
    },
    {
     "name": "stderr",
     "output_type": "stream",
     "text": [
      "Train CP Epoch 3/200: 100%|██████████| 3332/3332 [00:31<00:00, 105.26it/s, loss=0.0946]\n"
     ]
    },
    {
     "name": "stdout",
     "output_type": "stream",
     "text": [
      "Epoch 3/200 Train CP --> Loss: 0.0867, AUC: 0.4998, Acc: 0.5000, F1: 0.6667\n"
     ]
    },
    {
     "name": "stderr",
     "output_type": "stream",
     "text": [
      "Valid CP Epoch 3/200: 100%|██████████| 313/313 [00:01<00:00, 158.38it/s, loss=0.0626]\n"
     ]
    },
    {
     "name": "stdout",
     "output_type": "stream",
     "text": [
      "Epoch 3/200 Valid CP --> Loss: 0.0826, AUC: 0.5128, Acc: 0.5000, F1: 0.6667\n",
      "Checkpoint saved at /home/ia/Documentos/TFG_Lara/TransformingFashion/checkpoints/compatibility_clip/epoch_3.pth\n"
     ]
    },
    {
     "name": "stderr",
     "output_type": "stream",
     "text": [
      "Train CP Epoch 4/200: 100%|██████████| 3332/3332 [00:31<00:00, 104.36it/s, loss=0.0791]\n"
     ]
    },
    {
     "name": "stdout",
     "output_type": "stream",
     "text": [
      "Epoch 4/200 Train CP --> Loss: 0.0859, AUC: 0.5009, Acc: 0.5000, F1: 0.6667\n"
     ]
    },
    {
     "name": "stderr",
     "output_type": "stream",
     "text": [
      "Valid CP Epoch 4/200: 100%|██████████| 313/313 [00:02<00:00, 147.78it/s, loss=0.0638]\n"
     ]
    },
    {
     "name": "stdout",
     "output_type": "stream",
     "text": [
      "Epoch 4/200 Valid CP --> Loss: 0.0826, AUC: 0.5162, Acc: 0.5000, F1: 0.6667\n",
      "Checkpoint saved at /home/ia/Documentos/TFG_Lara/TransformingFashion/checkpoints/compatibility_clip/epoch_4.pth\n"
     ]
    },
    {
     "name": "stderr",
     "output_type": "stream",
     "text": [
      "Train CP Epoch 5/200: 100%|██████████| 3332/3332 [00:31<00:00, 104.77it/s, loss=0.0738]\n"
     ]
    },
    {
     "name": "stdout",
     "output_type": "stream",
     "text": [
      "Epoch 5/200 Train CP --> Loss: 0.0852, AUC: 0.5030, Acc: 0.5000, F1: 0.6667\n"
     ]
    },
    {
     "name": "stderr",
     "output_type": "stream",
     "text": [
      "Valid CP Epoch 5/200: 100%|██████████| 313/313 [00:01<00:00, 161.07it/s, loss=0.0629]\n"
     ]
    },
    {
     "name": "stdout",
     "output_type": "stream",
     "text": [
      "Epoch 5/200 Valid CP --> Loss: 0.0826, AUC: 0.5176, Acc: 0.5000, F1: 0.6667\n",
      "Checkpoint saved at /home/ia/Documentos/TFG_Lara/TransformingFashion/checkpoints/compatibility_clip/epoch_5.pth\n"
     ]
    },
    {
     "name": "stderr",
     "output_type": "stream",
     "text": [
      "Train CP Epoch 6/200: 100%|██████████| 3332/3332 [00:31<00:00, 106.92it/s, loss=0.0882]\n"
     ]
    },
    {
     "name": "stdout",
     "output_type": "stream",
     "text": [
      "Epoch 6/200 Train CP --> Loss: 0.0850, AUC: 0.4994, Acc: 0.5000, F1: 0.6667\n"
     ]
    },
    {
     "name": "stderr",
     "output_type": "stream",
     "text": [
      "Valid CP Epoch 6/200: 100%|██████████| 313/313 [00:01<00:00, 164.93it/s, loss=0.0594]\n"
     ]
    },
    {
     "name": "stdout",
     "output_type": "stream",
     "text": [
      "Epoch 6/200 Valid CP --> Loss: 0.0828, AUC: 0.5208, Acc: 0.5000, F1: 0.6667\n",
      "Checkpoint saved at /home/ia/Documentos/TFG_Lara/TransformingFashion/checkpoints/compatibility_clip/epoch_6.pth\n"
     ]
    },
    {
     "name": "stderr",
     "output_type": "stream",
     "text": [
      "Train CP Epoch 7/200: 100%|██████████| 3332/3332 [00:31<00:00, 106.30it/s, loss=0.0817]\n"
     ]
    },
    {
     "name": "stdout",
     "output_type": "stream",
     "text": [
      "Epoch 7/200 Train CP --> Loss: 0.0845, AUC: 0.5029, Acc: 0.5000, F1: 0.6667\n"
     ]
    },
    {
     "name": "stderr",
     "output_type": "stream",
     "text": [
      "Valid CP Epoch 7/200: 100%|██████████| 313/313 [00:01<00:00, 159.04it/s, loss=0.0642]\n"
     ]
    },
    {
     "name": "stdout",
     "output_type": "stream",
     "text": [
      "Epoch 7/200 Valid CP --> Loss: 0.0825, AUC: 0.5278, Acc: 0.5000, F1: 0.6667\n",
      "Checkpoint saved at /home/ia/Documentos/TFG_Lara/TransformingFashion/checkpoints/compatibility_clip/epoch_7.pth\n"
     ]
    },
    {
     "name": "stderr",
     "output_type": "stream",
     "text": [
      "Train CP Epoch 8/200: 100%|██████████| 3332/3332 [00:31<00:00, 105.99it/s, loss=0.0852]\n"
     ]
    },
    {
     "name": "stdout",
     "output_type": "stream",
     "text": [
      "Epoch 8/200 Train CP --> Loss: 0.0842, AUC: 0.5020, Acc: 0.5000, F1: 0.6667\n"
     ]
    },
    {
     "name": "stderr",
     "output_type": "stream",
     "text": [
      "Valid CP Epoch 8/200: 100%|██████████| 313/313 [00:01<00:00, 160.29it/s, loss=0.0599]\n"
     ]
    },
    {
     "name": "stdout",
     "output_type": "stream",
     "text": [
      "Epoch 8/200 Valid CP --> Loss: 0.0827, AUC: 0.5338, Acc: 0.5000, F1: 0.6667\n",
      "Checkpoint saved at /home/ia/Documentos/TFG_Lara/TransformingFashion/checkpoints/compatibility_clip/epoch_8.pth\n"
     ]
    },
    {
     "name": "stderr",
     "output_type": "stream",
     "text": [
      "Train CP Epoch 9/200: 100%|██████████| 3332/3332 [00:31<00:00, 105.35it/s, loss=0.0769]\n"
     ]
    },
    {
     "name": "stdout",
     "output_type": "stream",
     "text": [
      "Epoch 9/200 Train CP --> Loss: 0.0839, AUC: 0.5061, Acc: 0.5000, F1: 0.6667\n"
     ]
    },
    {
     "name": "stderr",
     "output_type": "stream",
     "text": [
      "Valid CP Epoch 9/200: 100%|██████████| 313/313 [00:01<00:00, 156.54it/s, loss=0.055] \n"
     ]
    },
    {
     "name": "stdout",
     "output_type": "stream",
     "text": [
      "Epoch 9/200 Valid CP --> Loss: 0.0831, AUC: 0.5436, Acc: 0.5000, F1: 0.6667\n",
      "Checkpoint saved at /home/ia/Documentos/TFG_Lara/TransformingFashion/checkpoints/compatibility_clip/epoch_9.pth\n"
     ]
    },
    {
     "name": "stderr",
     "output_type": "stream",
     "text": [
      "Train CP Epoch 10/200: 100%|██████████| 3332/3332 [00:31<00:00, 104.30it/s, loss=0.0799]\n"
     ]
    },
    {
     "name": "stdout",
     "output_type": "stream",
     "text": [
      "Epoch 10/200 Train CP --> Loss: 0.0837, AUC: 0.5057, Acc: 0.5000, F1: 0.6667\n"
     ]
    },
    {
     "name": "stderr",
     "output_type": "stream",
     "text": [
      "Valid CP Epoch 10/200: 100%|██████████| 313/313 [00:01<00:00, 161.06it/s, loss=0.0594]\n"
     ]
    },
    {
     "name": "stdout",
     "output_type": "stream",
     "text": [
      "Epoch 10/200 Valid CP --> Loss: 0.0826, AUC: 0.5617, Acc: 0.5000, F1: 0.6667\n",
      "Checkpoint saved at /home/ia/Documentos/TFG_Lara/TransformingFashion/checkpoints/compatibility_clip/epoch_10.pth\n"
     ]
    },
    {
     "name": "stderr",
     "output_type": "stream",
     "text": [
      "Train CP Epoch 11/200: 100%|██████████| 3332/3332 [00:31<00:00, 107.06it/s, loss=0.0862]\n"
     ]
    },
    {
     "name": "stdout",
     "output_type": "stream",
     "text": [
      "Epoch 11/200 Train CP --> Loss: 0.0836, AUC: 0.5033, Acc: 0.5000, F1: 0.6667\n"
     ]
    },
    {
     "name": "stderr",
     "output_type": "stream",
     "text": [
      "Valid CP Epoch 11/200: 100%|██████████| 313/313 [00:01<00:00, 163.99it/s, loss=0.0626]\n"
     ]
    },
    {
     "name": "stdout",
     "output_type": "stream",
     "text": [
      "Epoch 11/200 Valid CP --> Loss: 0.0822, AUC: 0.5965, Acc: 0.5000, F1: 0.6667\n",
      "Checkpoint saved at /home/ia/Documentos/TFG_Lara/TransformingFashion/checkpoints/compatibility_clip/epoch_11.pth\n"
     ]
    },
    {
     "name": "stderr",
     "output_type": "stream",
     "text": [
      "Train CP Epoch 12/200: 100%|██████████| 3332/3332 [00:28<00:00, 116.34it/s, loss=0.0868]\n"
     ]
    },
    {
     "name": "stdout",
     "output_type": "stream",
     "text": [
      "Epoch 12/200 Train CP --> Loss: 0.0829, AUC: 0.5246, Acc: 0.5000, F1: 0.6667\n"
     ]
    },
    {
     "name": "stderr",
     "output_type": "stream",
     "text": [
      "Valid CP Epoch 12/200: 100%|██████████| 313/313 [00:01<00:00, 170.16it/s, loss=0.0546]\n"
     ]
    },
    {
     "name": "stdout",
     "output_type": "stream",
     "text": [
      "Epoch 12/200 Valid CP --> Loss: 0.0804, AUC: 0.6571, Acc: 0.5000, F1: 0.6667\n",
      "Checkpoint saved at /home/ia/Documentos/TFG_Lara/TransformingFashion/checkpoints/compatibility_clip/epoch_12.pth\n"
     ]
    },
    {
     "name": "stderr",
     "output_type": "stream",
     "text": [
      "Train CP Epoch 13/200: 100%|██████████| 3332/3332 [00:27<00:00, 121.73it/s, loss=0.0741]\n"
     ]
    },
    {
     "name": "stdout",
     "output_type": "stream",
     "text": [
      "Epoch 13/200 Train CP --> Loss: 0.0787, AUC: 0.6277, Acc: 0.5000, F1: 0.6667\n"
     ]
    },
    {
     "name": "stderr",
     "output_type": "stream",
     "text": [
      "Valid CP Epoch 13/200: 100%|██████████| 313/313 [00:01<00:00, 167.63it/s, loss=0.0544]\n"
     ]
    },
    {
     "name": "stdout",
     "output_type": "stream",
     "text": [
      "Epoch 13/200 Valid CP --> Loss: 0.0751, AUC: 0.6872, Acc: 0.5000, F1: 0.6667\n",
      "Checkpoint saved at /home/ia/Documentos/TFG_Lara/TransformingFashion/checkpoints/compatibility_clip/epoch_13.pth\n"
     ]
    },
    {
     "name": "stderr",
     "output_type": "stream",
     "text": [
      "Train CP Epoch 14/200: 100%|██████████| 3332/3332 [00:28<00:00, 116.99it/s, loss=0.0537]\n"
     ]
    },
    {
     "name": "stdout",
     "output_type": "stream",
     "text": [
      "Epoch 14/200 Train CP --> Loss: 0.0751, AUC: 0.6812, Acc: 0.5000, F1: 0.6667\n"
     ]
    },
    {
     "name": "stderr",
     "output_type": "stream",
     "text": [
      "Valid CP Epoch 14/200: 100%|██████████| 313/313 [00:01<00:00, 194.47it/s, loss=0.0506]\n"
     ]
    },
    {
     "name": "stdout",
     "output_type": "stream",
     "text": [
      "Epoch 14/200 Valid CP --> Loss: 0.0705, AUC: 0.7366, Acc: 0.5000, F1: 0.6667\n",
      "Checkpoint saved at /home/ia/Documentos/TFG_Lara/TransformingFashion/checkpoints/compatibility_clip/epoch_14.pth\n"
     ]
    },
    {
     "name": "stderr",
     "output_type": "stream",
     "text": [
      "Train CP Epoch 15/200: 100%|██████████| 3332/3332 [00:28<00:00, 118.03it/s, loss=0.0594]\n"
     ]
    },
    {
     "name": "stdout",
     "output_type": "stream",
     "text": [
      "Epoch 15/200 Train CP --> Loss: 0.0707, AUC: 0.7310, Acc: 0.5000, F1: 0.6667\n"
     ]
    },
    {
     "name": "stderr",
     "output_type": "stream",
     "text": [
      "Valid CP Epoch 15/200: 100%|██████████| 313/313 [00:01<00:00, 158.17it/s, loss=0.0517]\n"
     ]
    },
    {
     "name": "stdout",
     "output_type": "stream",
     "text": [
      "Epoch 15/200 Valid CP --> Loss: 0.0661, AUC: 0.7744, Acc: 0.5000, F1: 0.6667\n",
      "Checkpoint saved at /home/ia/Documentos/TFG_Lara/TransformingFashion/checkpoints/compatibility_clip/epoch_15.pth\n"
     ]
    },
    {
     "name": "stderr",
     "output_type": "stream",
     "text": [
      "Train CP Epoch 16/200: 100%|██████████| 3332/3332 [00:27<00:00, 123.28it/s, loss=0.0649]\n"
     ]
    },
    {
     "name": "stdout",
     "output_type": "stream",
     "text": [
      "Epoch 16/200 Train CP --> Loss: 0.0670, AUC: 0.7660, Acc: 0.5004, F1: 0.6668\n"
     ]
    },
    {
     "name": "stderr",
     "output_type": "stream",
     "text": [
      "Valid CP Epoch 16/200: 100%|██████████| 313/313 [00:01<00:00, 173.17it/s, loss=0.0533]\n"
     ]
    },
    {
     "name": "stdout",
     "output_type": "stream",
     "text": [
      "Epoch 16/200 Valid CP --> Loss: 0.0617, AUC: 0.8095, Acc: 0.5026, F1: 0.6678\n",
      "Checkpoint saved at /home/ia/Documentos/TFG_Lara/TransformingFashion/checkpoints/compatibility_clip/epoch_16.pth\n"
     ]
    },
    {
     "name": "stderr",
     "output_type": "stream",
     "text": [
      "Train CP Epoch 17/200: 100%|██████████| 3332/3332 [00:28<00:00, 115.10it/s, loss=0.0755]\n"
     ]
    },
    {
     "name": "stdout",
     "output_type": "stream",
     "text": [
      "Epoch 17/200 Train CP --> Loss: 0.0631, AUC: 0.7989, Acc: 0.5053, F1: 0.6689\n"
     ]
    },
    {
     "name": "stderr",
     "output_type": "stream",
     "text": [
      "Valid CP Epoch 17/200: 100%|██████████| 313/313 [00:01<00:00, 184.40it/s, loss=0.0561]\n"
     ]
    },
    {
     "name": "stdout",
     "output_type": "stream",
     "text": [
      "Epoch 17/200 Valid CP --> Loss: 0.0578, AUC: 0.8367, Acc: 0.5285, F1: 0.6791\n",
      "Checkpoint saved at /home/ia/Documentos/TFG_Lara/TransformingFashion/checkpoints/compatibility_clip/epoch_17.pth\n"
     ]
    },
    {
     "name": "stderr",
     "output_type": "stream",
     "text": [
      "Train CP Epoch 18/200: 100%|██████████| 3332/3332 [00:28<00:00, 115.83it/s, loss=0.0549]\n"
     ]
    },
    {
     "name": "stdout",
     "output_type": "stream",
     "text": [
      "Epoch 18/200 Train CP --> Loss: 0.0592, AUC: 0.8260, Acc: 0.5172, F1: 0.6741\n"
     ]
    },
    {
     "name": "stderr",
     "output_type": "stream",
     "text": [
      "Valid CP Epoch 18/200: 100%|██████████| 313/313 [00:02<00:00, 150.79it/s, loss=0.0586]\n"
     ]
    },
    {
     "name": "stdout",
     "output_type": "stream",
     "text": [
      "Epoch 18/200 Valid CP --> Loss: 0.0554, AUC: 0.8531, Acc: 0.5575, F1: 0.6921\n",
      "Checkpoint saved at /home/ia/Documentos/TFG_Lara/TransformingFashion/checkpoints/compatibility_clip/epoch_18.pth\n"
     ]
    },
    {
     "name": "stderr",
     "output_type": "stream",
     "text": [
      "Train CP Epoch 19/200: 100%|██████████| 3332/3332 [00:27<00:00, 120.63it/s, loss=0.0511]\n"
     ]
    },
    {
     "name": "stdout",
     "output_type": "stream",
     "text": [
      "Epoch 19/200 Train CP --> Loss: 0.0566, AUC: 0.8434, Acc: 0.5291, F1: 0.6793\n"
     ]
    },
    {
     "name": "stderr",
     "output_type": "stream",
     "text": [
      "Valid CP Epoch 19/200: 100%|██████████| 313/313 [00:01<00:00, 181.76it/s, loss=0.0532]\n"
     ]
    },
    {
     "name": "stdout",
     "output_type": "stream",
     "text": [
      "Epoch 19/200 Valid CP --> Loss: 0.0535, AUC: 0.8673, Acc: 0.5885, F1: 0.7066\n",
      "Checkpoint saved at /home/ia/Documentos/TFG_Lara/TransformingFashion/checkpoints/compatibility_clip/epoch_19.pth\n"
     ]
    },
    {
     "name": "stderr",
     "output_type": "stream",
     "text": [
      "Train CP Epoch 20/200: 100%|██████████| 3332/3332 [00:28<00:00, 115.59it/s, loss=0.0783]\n"
     ]
    },
    {
     "name": "stdout",
     "output_type": "stream",
     "text": [
      "Epoch 20/200 Train CP --> Loss: 0.0544, AUC: 0.8565, Acc: 0.5369, F1: 0.6828\n"
     ]
    },
    {
     "name": "stderr",
     "output_type": "stream",
     "text": [
      "Valid CP Epoch 20/200: 100%|██████████| 313/313 [00:01<00:00, 193.06it/s, loss=0.0548]\n"
     ]
    },
    {
     "name": "stdout",
     "output_type": "stream",
     "text": [
      "Epoch 20/200 Valid CP --> Loss: 0.0511, AUC: 0.8766, Acc: 0.5750, F1: 0.7006\n",
      "Checkpoint saved at /home/ia/Documentos/TFG_Lara/TransformingFashion/checkpoints/compatibility_clip/epoch_20.pth\n"
     ]
    },
    {
     "name": "stderr",
     "output_type": "stream",
     "text": [
      "Train CP Epoch 21/200: 100%|██████████| 3332/3332 [00:28<00:00, 116.59it/s, loss=0.0708]\n"
     ]
    },
    {
     "name": "stdout",
     "output_type": "stream",
     "text": [
      "Epoch 21/200 Train CP --> Loss: 0.0526, AUC: 0.8667, Acc: 0.5414, F1: 0.6849\n"
     ]
    },
    {
     "name": "stderr",
     "output_type": "stream",
     "text": [
      "Valid CP Epoch 21/200: 100%|██████████| 313/313 [00:01<00:00, 165.87it/s, loss=0.0613]\n"
     ]
    },
    {
     "name": "stdout",
     "output_type": "stream",
     "text": [
      "Epoch 21/200 Valid CP --> Loss: 0.0496, AUC: 0.8833, Acc: 0.5680, F1: 0.6976\n",
      "Checkpoint saved at /home/ia/Documentos/TFG_Lara/TransformingFashion/checkpoints/compatibility_clip/epoch_21.pth\n"
     ]
    },
    {
     "name": "stderr",
     "output_type": "stream",
     "text": [
      "Train CP Epoch 22/200: 100%|██████████| 3332/3332 [00:28<00:00, 117.23it/s, loss=0.0836]\n"
     ]
    },
    {
     "name": "stdout",
     "output_type": "stream",
     "text": [
      "Epoch 22/200 Train CP --> Loss: 0.0507, AUC: 0.8765, Acc: 0.5462, F1: 0.6873\n"
     ]
    },
    {
     "name": "stderr",
     "output_type": "stream",
     "text": [
      "Valid CP Epoch 22/200: 100%|██████████| 313/313 [00:01<00:00, 180.24it/s, loss=0.0569]\n"
     ]
    },
    {
     "name": "stdout",
     "output_type": "stream",
     "text": [
      "Epoch 22/200 Valid CP --> Loss: 0.0495, AUC: 0.8884, Acc: 0.6106, F1: 0.7175\n",
      "Checkpoint saved at /home/ia/Documentos/TFG_Lara/TransformingFashion/checkpoints/compatibility_clip/epoch_22.pth\n"
     ]
    },
    {
     "name": "stderr",
     "output_type": "stream",
     "text": [
      "Train CP Epoch 23/200: 100%|██████████| 3332/3332 [00:28<00:00, 117.93it/s, loss=0.0501]\n"
     ]
    },
    {
     "name": "stdout",
     "output_type": "stream",
     "text": [
      "Epoch 23/200 Train CP --> Loss: 0.0490, AUC: 0.8851, Acc: 0.5515, F1: 0.6897\n"
     ]
    },
    {
     "name": "stderr",
     "output_type": "stream",
     "text": [
      "Valid CP Epoch 23/200: 100%|██████████| 313/313 [00:01<00:00, 170.66it/s, loss=0.0586]\n"
     ]
    },
    {
     "name": "stdout",
     "output_type": "stream",
     "text": [
      "Epoch 23/200 Valid CP --> Loss: 0.0473, AUC: 0.8958, Acc: 0.5883, F1: 0.7070\n",
      "Checkpoint saved at /home/ia/Documentos/TFG_Lara/TransformingFashion/checkpoints/compatibility_clip/epoch_23.pth\n"
     ]
    },
    {
     "name": "stderr",
     "output_type": "stream",
     "text": [
      "Train CP Epoch 24/200: 100%|██████████| 3332/3332 [00:29<00:00, 114.03it/s, loss=0.0244]\n"
     ]
    },
    {
     "name": "stdout",
     "output_type": "stream",
     "text": [
      "Epoch 24/200 Train CP --> Loss: 0.0474, AUC: 0.8931, Acc: 0.5573, F1: 0.6925\n"
     ]
    },
    {
     "name": "stderr",
     "output_type": "stream",
     "text": [
      "Valid CP Epoch 24/200: 100%|██████████| 313/313 [00:01<00:00, 171.34it/s, loss=0.0691]\n"
     ]
    },
    {
     "name": "stdout",
     "output_type": "stream",
     "text": [
      "Epoch 24/200 Valid CP --> Loss: 0.0461, AUC: 0.9024, Acc: 0.5831, F1: 0.7051\n",
      "Checkpoint saved at /home/ia/Documentos/TFG_Lara/TransformingFashion/checkpoints/compatibility_clip/epoch_24.pth\n"
     ]
    },
    {
     "name": "stderr",
     "output_type": "stream",
     "text": [
      "Train CP Epoch 25/200: 100%|██████████| 3332/3332 [00:28<00:00, 117.87it/s, loss=0.0568]\n"
     ]
    },
    {
     "name": "stdout",
     "output_type": "stream",
     "text": [
      "Epoch 25/200 Train CP --> Loss: 0.0460, AUC: 0.8999, Acc: 0.5620, F1: 0.6948\n"
     ]
    },
    {
     "name": "stderr",
     "output_type": "stream",
     "text": [
      "Valid CP Epoch 25/200: 100%|██████████| 313/313 [00:01<00:00, 175.53it/s, loss=0.0599]\n"
     ]
    },
    {
     "name": "stdout",
     "output_type": "stream",
     "text": [
      "Epoch 25/200 Valid CP --> Loss: 0.0447, AUC: 0.9085, Acc: 0.5828, F1: 0.7049\n",
      "Checkpoint saved at /home/ia/Documentos/TFG_Lara/TransformingFashion/checkpoints/compatibility_clip/epoch_25.pth\n"
     ]
    },
    {
     "name": "stderr",
     "output_type": "stream",
     "text": [
      "Train CP Epoch 26/200: 100%|██████████| 3332/3332 [00:28<00:00, 117.36it/s, loss=0.0269]\n"
     ]
    },
    {
     "name": "stdout",
     "output_type": "stream",
     "text": [
      "Epoch 26/200 Train CP --> Loss: 0.0446, AUC: 0.9063, Acc: 0.5668, F1: 0.6971\n"
     ]
    },
    {
     "name": "stderr",
     "output_type": "stream",
     "text": [
      "Valid CP Epoch 26/200: 100%|██████████| 313/313 [00:01<00:00, 167.39it/s, loss=0.0508]\n"
     ]
    },
    {
     "name": "stdout",
     "output_type": "stream",
     "text": [
      "Epoch 26/200 Valid CP --> Loss: 0.0431, AUC: 0.9139, Acc: 0.6085, F1: 0.7176\n",
      "Checkpoint saved at /home/ia/Documentos/TFG_Lara/TransformingFashion/checkpoints/compatibility_clip/epoch_26.pth\n"
     ]
    },
    {
     "name": "stderr",
     "output_type": "stream",
     "text": [
      "Train CP Epoch 27/200: 100%|██████████| 3332/3332 [00:28<00:00, 118.27it/s, loss=0.0437]\n"
     ]
    },
    {
     "name": "stdout",
     "output_type": "stream",
     "text": [
      "Epoch 27/200 Train CP --> Loss: 0.0433, AUC: 0.9121, Acc: 0.5726, F1: 0.7000\n"
     ]
    },
    {
     "name": "stderr",
     "output_type": "stream",
     "text": [
      "Valid CP Epoch 27/200: 100%|██████████| 313/313 [00:01<00:00, 170.61it/s, loss=0.0561]\n"
     ]
    },
    {
     "name": "stdout",
     "output_type": "stream",
     "text": [
      "Epoch 27/200 Valid CP --> Loss: 0.0422, AUC: 0.9177, Acc: 0.6056, F1: 0.7163\n",
      "Checkpoint saved at /home/ia/Documentos/TFG_Lara/TransformingFashion/checkpoints/compatibility_clip/epoch_27.pth\n"
     ]
    },
    {
     "name": "stderr",
     "output_type": "stream",
     "text": [
      "Train CP Epoch 28/200: 100%|██████████| 3332/3332 [00:29<00:00, 111.96it/s, loss=0.0191]\n"
     ]
    },
    {
     "name": "stdout",
     "output_type": "stream",
     "text": [
      "Epoch 28/200 Train CP --> Loss: 0.0422, AUC: 0.9173, Acc: 0.5765, F1: 0.7021\n"
     ]
    },
    {
     "name": "stderr",
     "output_type": "stream",
     "text": [
      "Valid CP Epoch 28/200: 100%|██████████| 313/313 [00:02<00:00, 154.51it/s, loss=0.044] \n"
     ]
    },
    {
     "name": "stdout",
     "output_type": "stream",
     "text": [
      "Epoch 28/200 Valid CP --> Loss: 0.0413, AUC: 0.9216, Acc: 0.6284, F1: 0.7278\n",
      "Checkpoint saved at /home/ia/Documentos/TFG_Lara/TransformingFashion/checkpoints/compatibility_clip/epoch_28.pth\n"
     ]
    },
    {
     "name": "stderr",
     "output_type": "stream",
     "text": [
      "Train CP Epoch 29/200: 100%|██████████| 3332/3332 [00:32<00:00, 103.57it/s, loss=0.0392]\n"
     ]
    },
    {
     "name": "stdout",
     "output_type": "stream",
     "text": [
      "Epoch 29/200 Train CP --> Loss: 0.0410, AUC: 0.9219, Acc: 0.5815, F1: 0.7045\n"
     ]
    },
    {
     "name": "stderr",
     "output_type": "stream",
     "text": [
      "Valid CP Epoch 29/200: 100%|██████████| 313/313 [00:01<00:00, 166.34it/s, loss=0.0338] \n"
     ]
    },
    {
     "name": "stdout",
     "output_type": "stream",
     "text": [
      "Epoch 29/200 Valid CP --> Loss: 0.0413, AUC: 0.9246, Acc: 0.6483, F1: 0.7386\n",
      "Checkpoint saved at /home/ia/Documentos/TFG_Lara/TransformingFashion/checkpoints/compatibility_clip/epoch_29.pth\n"
     ]
    },
    {
     "name": "stderr",
     "output_type": "stream",
     "text": [
      "Train CP Epoch 30/200: 100%|██████████| 3332/3332 [00:32<00:00, 103.86it/s, loss=0.0377]\n"
     ]
    },
    {
     "name": "stdout",
     "output_type": "stream",
     "text": [
      "Epoch 30/200 Train CP --> Loss: 0.0402, AUC: 0.9251, Acc: 0.5832, F1: 0.7053\n"
     ]
    },
    {
     "name": "stderr",
     "output_type": "stream",
     "text": [
      "Valid CP Epoch 30/200: 100%|██████████| 313/313 [00:01<00:00, 158.03it/s, loss=0.0354] \n"
     ]
    },
    {
     "name": "stdout",
     "output_type": "stream",
     "text": [
      "Epoch 30/200 Valid CP --> Loss: 0.0403, AUC: 0.9275, Acc: 0.6454, F1: 0.7368\n",
      "Checkpoint saved at /home/ia/Documentos/TFG_Lara/TransformingFashion/checkpoints/compatibility_clip/epoch_30.pth\n"
     ]
    },
    {
     "name": "stderr",
     "output_type": "stream",
     "text": [
      "Train CP Epoch 31/200: 100%|██████████| 3332/3332 [00:32<00:00, 101.14it/s, loss=0.0553]\n"
     ]
    },
    {
     "name": "stdout",
     "output_type": "stream",
     "text": [
      "Epoch 31/200 Train CP --> Loss: 0.0392, AUC: 0.9291, Acc: 0.5885, F1: 0.7079\n"
     ]
    },
    {
     "name": "stderr",
     "output_type": "stream",
     "text": [
      "Valid CP Epoch 31/200: 100%|██████████| 313/313 [00:01<00:00, 156.88it/s, loss=0.0394] \n"
     ]
    },
    {
     "name": "stdout",
     "output_type": "stream",
     "text": [
      "Epoch 31/200 Valid CP --> Loss: 0.0393, AUC: 0.9294, Acc: 0.6313, F1: 0.7298\n",
      "Checkpoint saved at /home/ia/Documentos/TFG_Lara/TransformingFashion/checkpoints/compatibility_clip/epoch_31.pth\n"
     ]
    },
    {
     "name": "stderr",
     "output_type": "stream",
     "text": [
      "Train CP Epoch 32/200: 100%|██████████| 3332/3332 [00:33<00:00, 100.42it/s, loss=0.0448]\n"
     ]
    },
    {
     "name": "stdout",
     "output_type": "stream",
     "text": [
      "Epoch 32/200 Train CP --> Loss: 0.0384, AUC: 0.9321, Acc: 0.5907, F1: 0.7091\n"
     ]
    },
    {
     "name": "stderr",
     "output_type": "stream",
     "text": [
      "Valid CP Epoch 32/200: 100%|██████████| 313/313 [00:02<00:00, 156.17it/s, loss=0.0362] \n"
     ]
    },
    {
     "name": "stdout",
     "output_type": "stream",
     "text": [
      "Epoch 32/200 Valid CP --> Loss: 0.0383, AUC: 0.9331, Acc: 0.6384, F1: 0.7335\n",
      "Checkpoint saved at /home/ia/Documentos/TFG_Lara/TransformingFashion/checkpoints/compatibility_clip/epoch_32.pth\n"
     ]
    },
    {
     "name": "stderr",
     "output_type": "stream",
     "text": [
      "Train CP Epoch 33/200: 100%|██████████| 3332/3332 [00:31<00:00, 105.59it/s, loss=0.0192]\n"
     ]
    },
    {
     "name": "stdout",
     "output_type": "stream",
     "text": [
      "Epoch 33/200 Train CP --> Loss: 0.0371, AUC: 0.9364, Acc: 0.5963, F1: 0.7120\n"
     ]
    },
    {
     "name": "stderr",
     "output_type": "stream",
     "text": [
      "Valid CP Epoch 33/200: 100%|██████████| 313/313 [00:01<00:00, 168.43it/s, loss=0.0387]\n"
     ]
    },
    {
     "name": "stdout",
     "output_type": "stream",
     "text": [
      "Epoch 33/200 Valid CP --> Loss: 0.0378, AUC: 0.9355, Acc: 0.6191, F1: 0.7236\n",
      "Checkpoint saved at /home/ia/Documentos/TFG_Lara/TransformingFashion/checkpoints/compatibility_clip/epoch_33.pth\n"
     ]
    },
    {
     "name": "stderr",
     "output_type": "stream",
     "text": [
      "Train CP Epoch 34/200: 100%|██████████| 3332/3332 [00:31<00:00, 105.29it/s, loss=0.0299]\n"
     ]
    },
    {
     "name": "stdout",
     "output_type": "stream",
     "text": [
      "Epoch 34/200 Train CP --> Loss: 0.0363, AUC: 0.9392, Acc: 0.5989, F1: 0.7133\n"
     ]
    },
    {
     "name": "stderr",
     "output_type": "stream",
     "text": [
      "Valid CP Epoch 34/200: 100%|██████████| 313/313 [00:01<00:00, 158.47it/s, loss=0.0351] \n"
     ]
    },
    {
     "name": "stdout",
     "output_type": "stream",
     "text": [
      "Epoch 34/200 Valid CP --> Loss: 0.0373, AUC: 0.9365, Acc: 0.6312, F1: 0.7297\n",
      "Checkpoint saved at /home/ia/Documentos/TFG_Lara/TransformingFashion/checkpoints/compatibility_clip/epoch_34.pth\n"
     ]
    },
    {
     "name": "stderr",
     "output_type": "stream",
     "text": [
      "Train CP Epoch 35/200: 100%|██████████| 3332/3332 [00:32<00:00, 103.85it/s, loss=0.039] \n"
     ]
    },
    {
     "name": "stdout",
     "output_type": "stream",
     "text": [
      "Epoch 35/200 Train CP --> Loss: 0.0355, AUC: 0.9422, Acc: 0.6016, F1: 0.7146\n"
     ]
    },
    {
     "name": "stderr",
     "output_type": "stream",
     "text": [
      "Valid CP Epoch 35/200: 100%|██████████| 313/313 [00:01<00:00, 169.12it/s, loss=0.0333]\n"
     ]
    },
    {
     "name": "stdout",
     "output_type": "stream",
     "text": [
      "Epoch 35/200 Valid CP --> Loss: 0.0371, AUC: 0.9381, Acc: 0.6424, F1: 0.7357\n",
      "Checkpoint saved at /home/ia/Documentos/TFG_Lara/TransformingFashion/checkpoints/compatibility_clip/epoch_35.pth\n"
     ]
    },
    {
     "name": "stderr",
     "output_type": "stream",
     "text": [
      "Train CP Epoch 36/200: 100%|██████████| 3332/3332 [00:32<00:00, 103.65it/s, loss=0.0266]\n"
     ]
    },
    {
     "name": "stdout",
     "output_type": "stream",
     "text": [
      "Epoch 36/200 Train CP --> Loss: 0.0348, AUC: 0.9442, Acc: 0.6044, F1: 0.7161\n"
     ]
    },
    {
     "name": "stderr",
     "output_type": "stream",
     "text": [
      "Valid CP Epoch 36/200: 100%|██████████| 313/313 [00:01<00:00, 160.75it/s, loss=0.0289]\n"
     ]
    },
    {
     "name": "stdout",
     "output_type": "stream",
     "text": [
      "Epoch 36/200 Valid CP --> Loss: 0.0358, AUC: 0.9414, Acc: 0.6446, F1: 0.7369\n",
      "Checkpoint saved at /home/ia/Documentos/TFG_Lara/TransformingFashion/checkpoints/compatibility_clip/epoch_36.pth\n"
     ]
    },
    {
     "name": "stderr",
     "output_type": "stream",
     "text": [
      "Train CP Epoch 37/200: 100%|██████████| 3332/3332 [00:32<00:00, 102.88it/s, loss=0.0309]\n"
     ]
    },
    {
     "name": "stdout",
     "output_type": "stream",
     "text": [
      "Epoch 37/200 Train CP --> Loss: 0.0339, AUC: 0.9469, Acc: 0.6071, F1: 0.7175\n"
     ]
    },
    {
     "name": "stderr",
     "output_type": "stream",
     "text": [
      "Valid CP Epoch 37/200: 100%|██████████| 313/313 [00:02<00:00, 154.76it/s, loss=0.0391]\n"
     ]
    },
    {
     "name": "stdout",
     "output_type": "stream",
     "text": [
      "Epoch 37/200 Valid CP --> Loss: 0.0370, AUC: 0.9381, Acc: 0.6275, F1: 0.7279\n",
      "Checkpoint saved at /home/ia/Documentos/TFG_Lara/TransformingFashion/checkpoints/compatibility_clip/epoch_37.pth\n"
     ]
    },
    {
     "name": "stderr",
     "output_type": "stream",
     "text": [
      "Train CP Epoch 38/200: 100%|██████████| 3332/3332 [00:33<00:00, 100.38it/s, loss=0.0343] \n"
     ]
    },
    {
     "name": "stdout",
     "output_type": "stream",
     "text": [
      "Epoch 38/200 Train CP --> Loss: 0.0332, AUC: 0.9488, Acc: 0.6082, F1: 0.7181\n"
     ]
    },
    {
     "name": "stderr",
     "output_type": "stream",
     "text": [
      "Valid CP Epoch 38/200: 100%|██████████| 313/313 [00:01<00:00, 164.53it/s, loss=0.0198] \n"
     ]
    },
    {
     "name": "stdout",
     "output_type": "stream",
     "text": [
      "Epoch 38/200 Valid CP --> Loss: 0.0357, AUC: 0.9439, Acc: 0.6994, F1: 0.7675\n",
      "Checkpoint saved at /home/ia/Documentos/TFG_Lara/TransformingFashion/checkpoints/compatibility_clip/epoch_38.pth\n"
     ]
    },
    {
     "name": "stderr",
     "output_type": "stream",
     "text": [
      "Train CP Epoch 39/200: 100%|██████████| 3332/3332 [00:32<00:00, 101.71it/s, loss=0.0566] \n"
     ]
    },
    {
     "name": "stdout",
     "output_type": "stream",
     "text": [
      "Epoch 39/200 Train CP --> Loss: 0.0323, AUC: 0.9510, Acc: 0.6085, F1: 0.7183\n"
     ]
    },
    {
     "name": "stderr",
     "output_type": "stream",
     "text": [
      "Valid CP Epoch 39/200: 100%|██████████| 313/313 [00:01<00:00, 163.43it/s, loss=0.0307] \n"
     ]
    },
    {
     "name": "stdout",
     "output_type": "stream",
     "text": [
      "Epoch 39/200 Valid CP --> Loss: 0.0354, AUC: 0.9439, Acc: 0.6535, F1: 0.7416\n",
      "Checkpoint saved at /home/ia/Documentos/TFG_Lara/TransformingFashion/checkpoints/compatibility_clip/epoch_39.pth\n"
     ]
    },
    {
     "name": "stderr",
     "output_type": "stream",
     "text": [
      "Train CP Epoch 40/200: 100%|██████████| 3332/3332 [00:32<00:00, 102.67it/s, loss=0.0274] \n"
     ]
    },
    {
     "name": "stdout",
     "output_type": "stream",
     "text": [
      "Epoch 40/200 Train CP --> Loss: 0.0316, AUC: 0.9527, Acc: 0.6100, F1: 0.7190\n"
     ]
    },
    {
     "name": "stderr",
     "output_type": "stream",
     "text": [
      "Valid CP Epoch 40/200: 100%|██████████| 313/313 [00:02<00:00, 154.22it/s, loss=0.0269] \n"
     ]
    },
    {
     "name": "stdout",
     "output_type": "stream",
     "text": [
      "Epoch 40/200 Valid CP --> Loss: 0.0344, AUC: 0.9446, Acc: 0.6575, F1: 0.7440\n",
      "Checkpoint saved at /home/ia/Documentos/TFG_Lara/TransformingFashion/checkpoints/compatibility_clip/epoch_40.pth\n"
     ]
    },
    {
     "name": "stderr",
     "output_type": "stream",
     "text": [
      "Train CP Epoch 41/200: 100%|██████████| 3332/3332 [00:31<00:00, 106.93it/s, loss=0.00982]\n"
     ]
    },
    {
     "name": "stdout",
     "output_type": "stream",
     "text": [
      "Epoch 41/200 Train CP --> Loss: 0.0307, AUC: 0.9549, Acc: 0.6092, F1: 0.7186\n"
     ]
    },
    {
     "name": "stderr",
     "output_type": "stream",
     "text": [
      "Valid CP Epoch 41/200: 100%|██████████| 313/313 [00:01<00:00, 180.44it/s, loss=0.0358] \n"
     ]
    },
    {
     "name": "stdout",
     "output_type": "stream",
     "text": [
      "Epoch 41/200 Valid CP --> Loss: 0.0346, AUC: 0.9461, Acc: 0.6368, F1: 0.7329\n",
      "Checkpoint saved at /home/ia/Documentos/TFG_Lara/TransformingFashion/checkpoints/compatibility_clip/epoch_41.pth\n"
     ]
    },
    {
     "name": "stderr",
     "output_type": "stream",
     "text": [
      "Train CP Epoch 42/200: 100%|██████████| 3332/3332 [00:28<00:00, 116.41it/s, loss=0.0143] \n"
     ]
    },
    {
     "name": "stdout",
     "output_type": "stream",
     "text": [
      "Epoch 42/200 Train CP --> Loss: 0.0301, AUC: 0.9562, Acc: 0.6076, F1: 0.7179\n"
     ]
    },
    {
     "name": "stderr",
     "output_type": "stream",
     "text": [
      "Valid CP Epoch 42/200: 100%|██████████| 313/313 [00:01<00:00, 175.58it/s, loss=0.0449]\n"
     ]
    },
    {
     "name": "stdout",
     "output_type": "stream",
     "text": [
      "Epoch 42/200 Valid CP --> Loss: 0.0359, AUC: 0.9467, Acc: 0.5896, F1: 0.7087\n",
      "Checkpoint saved at /home/ia/Documentos/TFG_Lara/TransformingFashion/checkpoints/compatibility_clip/epoch_42.pth\n"
     ]
    },
    {
     "name": "stderr",
     "output_type": "stream",
     "text": [
      "Train CP Epoch 43/200: 100%|██████████| 3332/3332 [00:28<00:00, 116.21it/s, loss=0.0483] \n"
     ]
    },
    {
     "name": "stdout",
     "output_type": "stream",
     "text": [
      "Epoch 43/200 Train CP --> Loss: 0.0294, AUC: 0.9578, Acc: 0.6039, F1: 0.7159\n"
     ]
    },
    {
     "name": "stderr",
     "output_type": "stream",
     "text": [
      "Valid CP Epoch 43/200: 100%|██████████| 313/313 [00:01<00:00, 159.81it/s, loss=0.0336] \n"
     ]
    },
    {
     "name": "stdout",
     "output_type": "stream",
     "text": [
      "Epoch 43/200 Valid CP --> Loss: 0.0337, AUC: 0.9478, Acc: 0.6772, F1: 0.7549\n",
      "Checkpoint saved at /home/ia/Documentos/TFG_Lara/TransformingFashion/checkpoints/compatibility_clip/epoch_43.pth\n"
     ]
    },
    {
     "name": "stderr",
     "output_type": "stream",
     "text": [
      "Train CP Epoch 44/200: 100%|██████████| 3332/3332 [00:28<00:00, 118.88it/s, loss=0.0166] \n"
     ]
    },
    {
     "name": "stdout",
     "output_type": "stream",
     "text": [
      "Epoch 44/200 Train CP --> Loss: 0.0287, AUC: 0.9597, Acc: 0.6061, F1: 0.7171\n"
     ]
    },
    {
     "name": "stderr",
     "output_type": "stream",
     "text": [
      "Valid CP Epoch 44/200: 100%|██████████| 313/313 [00:01<00:00, 172.06it/s, loss=0.0342] \n"
     ]
    },
    {
     "name": "stdout",
     "output_type": "stream",
     "text": [
      "Epoch 44/200 Valid CP --> Loss: 0.0343, AUC: 0.9472, Acc: 0.6536, F1: 0.7421\n",
      "Checkpoint saved at /home/ia/Documentos/TFG_Lara/TransformingFashion/checkpoints/compatibility_clip/epoch_44.pth\n"
     ]
    },
    {
     "name": "stderr",
     "output_type": "stream",
     "text": [
      "Train CP Epoch 45/200: 100%|██████████| 3332/3332 [00:29<00:00, 114.25it/s, loss=0.0169] \n"
     ]
    },
    {
     "name": "stdout",
     "output_type": "stream",
     "text": [
      "Epoch 45/200 Train CP --> Loss: 0.0282, AUC: 0.9611, Acc: 0.6044, F1: 0.7163\n"
     ]
    },
    {
     "name": "stderr",
     "output_type": "stream",
     "text": [
      "Valid CP Epoch 45/200: 100%|██████████| 313/313 [00:02<00:00, 156.12it/s, loss=0.0277] \n"
     ]
    },
    {
     "name": "stdout",
     "output_type": "stream",
     "text": [
      "Epoch 45/200 Valid CP --> Loss: 0.0337, AUC: 0.9486, Acc: 0.6810, F1: 0.7569\n",
      "Checkpoint saved at /home/ia/Documentos/TFG_Lara/TransformingFashion/checkpoints/compatibility_clip/epoch_45.pth\n"
     ]
    },
    {
     "name": "stderr",
     "output_type": "stream",
     "text": [
      "Train CP Epoch 46/200: 100%|██████████| 3332/3332 [00:27<00:00, 120.31it/s, loss=0.0165] \n"
     ]
    },
    {
     "name": "stdout",
     "output_type": "stream",
     "text": [
      "Epoch 46/200 Train CP --> Loss: 0.0276, AUC: 0.9623, Acc: 0.6024, F1: 0.7152\n"
     ]
    },
    {
     "name": "stderr",
     "output_type": "stream",
     "text": [
      "Valid CP Epoch 46/200: 100%|██████████| 313/313 [00:01<00:00, 170.93it/s, loss=0.0207] \n"
     ]
    },
    {
     "name": "stdout",
     "output_type": "stream",
     "text": [
      "Epoch 46/200 Valid CP --> Loss: 0.0330, AUC: 0.9492, Acc: 0.6594, F1: 0.7451\n",
      "Checkpoint saved at /home/ia/Documentos/TFG_Lara/TransformingFashion/checkpoints/compatibility_clip/epoch_46.pth\n"
     ]
    },
    {
     "name": "stderr",
     "output_type": "stream",
     "text": [
      "Train CP Epoch 47/200: 100%|██████████| 3332/3332 [00:28<00:00, 115.64it/s, loss=0.0404] \n"
     ]
    },
    {
     "name": "stdout",
     "output_type": "stream",
     "text": [
      "Epoch 47/200 Train CP --> Loss: 0.0270, AUC: 0.9637, Acc: 0.6052, F1: 0.7167\n"
     ]
    },
    {
     "name": "stderr",
     "output_type": "stream",
     "text": [
      "Valid CP Epoch 47/200: 100%|██████████| 313/313 [00:01<00:00, 169.27it/s, loss=0.0273] \n"
     ]
    },
    {
     "name": "stdout",
     "output_type": "stream",
     "text": [
      "Epoch 47/200 Valid CP --> Loss: 0.0336, AUC: 0.9495, Acc: 0.6178, F1: 0.7230\n",
      "Checkpoint saved at /home/ia/Documentos/TFG_Lara/TransformingFashion/checkpoints/compatibility_clip/epoch_47.pth\n"
     ]
    },
    {
     "name": "stderr",
     "output_type": "stream",
     "text": [
      "Train CP Epoch 48/200: 100%|██████████| 3332/3332 [00:28<00:00, 115.73it/s, loss=0.0497] \n"
     ]
    },
    {
     "name": "stdout",
     "output_type": "stream",
     "text": [
      "Epoch 48/200 Train CP --> Loss: 0.0263, AUC: 0.9656, Acc: 0.6072, F1: 0.7177\n"
     ]
    },
    {
     "name": "stderr",
     "output_type": "stream",
     "text": [
      "Valid CP Epoch 48/200: 100%|██████████| 313/313 [00:01<00:00, 171.11it/s, loss=0.0182] \n"
     ]
    },
    {
     "name": "stdout",
     "output_type": "stream",
     "text": [
      "Epoch 48/200 Valid CP --> Loss: 0.0335, AUC: 0.9481, Acc: 0.5976, F1: 0.7124\n",
      "Checkpoint saved at /home/ia/Documentos/TFG_Lara/TransformingFashion/checkpoints/compatibility_clip/epoch_48.pth\n"
     ]
    },
    {
     "name": "stderr",
     "output_type": "stream",
     "text": [
      "Train CP Epoch 49/200: 100%|██████████| 3332/3332 [00:28<00:00, 116.89it/s, loss=0.0206] \n"
     ]
    },
    {
     "name": "stdout",
     "output_type": "stream",
     "text": [
      "Epoch 49/200 Train CP --> Loss: 0.0258, AUC: 0.9664, Acc: 0.6068, F1: 0.7174\n"
     ]
    },
    {
     "name": "stderr",
     "output_type": "stream",
     "text": [
      "Valid CP Epoch 49/200: 100%|██████████| 313/313 [00:01<00:00, 167.44it/s, loss=0.0348] \n"
     ]
    },
    {
     "name": "stdout",
     "output_type": "stream",
     "text": [
      "Epoch 49/200 Valid CP --> Loss: 0.0347, AUC: 0.9487, Acc: 0.6657, F1: 0.7483\n",
      "Checkpoint saved at /home/ia/Documentos/TFG_Lara/TransformingFashion/checkpoints/compatibility_clip/epoch_49.pth\n"
     ]
    },
    {
     "name": "stderr",
     "output_type": "stream",
     "text": [
      "Train CP Epoch 50/200: 100%|██████████| 3332/3332 [00:28<00:00, 116.30it/s, loss=0.0314] \n"
     ]
    },
    {
     "name": "stdout",
     "output_type": "stream",
     "text": [
      "Epoch 50/200 Train CP --> Loss: 0.0253, AUC: 0.9674, Acc: 0.6055, F1: 0.7168\n"
     ]
    },
    {
     "name": "stderr",
     "output_type": "stream",
     "text": [
      "Valid CP Epoch 50/200: 100%|██████████| 313/313 [00:01<00:00, 173.53it/s, loss=0.0244] \n"
     ]
    },
    {
     "name": "stdout",
     "output_type": "stream",
     "text": [
      "Epoch 50/200 Valid CP --> Loss: 0.0331, AUC: 0.9504, Acc: 0.6185, F1: 0.7231\n",
      "Checkpoint saved at /home/ia/Documentos/TFG_Lara/TransformingFashion/checkpoints/compatibility_clip/epoch_50.pth\n"
     ]
    },
    {
     "name": "stderr",
     "output_type": "stream",
     "text": [
      "Train CP Epoch 51/200: 100%|██████████| 3332/3332 [00:28<00:00, 117.11it/s, loss=0.0384] \n"
     ]
    },
    {
     "name": "stdout",
     "output_type": "stream",
     "text": [
      "Epoch 51/200 Train CP --> Loss: 0.0248, AUC: 0.9686, Acc: 0.6043, F1: 0.7162\n"
     ]
    },
    {
     "name": "stderr",
     "output_type": "stream",
     "text": [
      "Valid CP Epoch 51/200: 100%|██████████| 313/313 [00:02<00:00, 147.91it/s, loss=0.0233] \n"
     ]
    },
    {
     "name": "stdout",
     "output_type": "stream",
     "text": [
      "Epoch 51/200 Valid CP --> Loss: 0.0336, AUC: 0.9496, Acc: 0.6836, F1: 0.7581\n",
      "Checkpoint saved at /home/ia/Documentos/TFG_Lara/TransformingFashion/checkpoints/compatibility_clip/epoch_51.pth\n"
     ]
    },
    {
     "name": "stderr",
     "output_type": "stream",
     "text": [
      "Train CP Epoch 52/200: 100%|██████████| 3332/3332 [00:28<00:00, 116.65it/s, loss=0.0182] \n"
     ]
    },
    {
     "name": "stdout",
     "output_type": "stream",
     "text": [
      "Epoch 52/200 Train CP --> Loss: 0.0241, AUC: 0.9703, Acc: 0.6074, F1: 0.7178\n"
     ]
    },
    {
     "name": "stderr",
     "output_type": "stream",
     "text": [
      "Valid CP Epoch 52/200: 100%|██████████| 313/313 [00:01<00:00, 181.26it/s, loss=0.0324] \n"
     ]
    },
    {
     "name": "stdout",
     "output_type": "stream",
     "text": [
      "Epoch 52/200 Valid CP --> Loss: 0.0339, AUC: 0.9495, Acc: 0.6786, F1: 0.7555\n",
      "Checkpoint saved at /home/ia/Documentos/TFG_Lara/TransformingFashion/checkpoints/compatibility_clip/epoch_52.pth\n"
     ]
    },
    {
     "name": "stderr",
     "output_type": "stream",
     "text": [
      "Train CP Epoch 53/200: 100%|██████████| 3332/3332 [00:28<00:00, 115.75it/s, loss=0.0629] \n"
     ]
    },
    {
     "name": "stdout",
     "output_type": "stream",
     "text": [
      "Epoch 53/200 Train CP --> Loss: 0.0237, AUC: 0.9708, Acc: 0.6050, F1: 0.7165\n"
     ]
    },
    {
     "name": "stderr",
     "output_type": "stream",
     "text": [
      "Valid CP Epoch 53/200: 100%|██████████| 313/313 [00:01<00:00, 172.80it/s, loss=0.035]  \n"
     ]
    },
    {
     "name": "stdout",
     "output_type": "stream",
     "text": [
      "Epoch 53/200 Valid CP --> Loss: 0.0343, AUC: 0.9495, Acc: 0.6517, F1: 0.7408\n",
      "Checkpoint saved at /home/ia/Documentos/TFG_Lara/TransformingFashion/checkpoints/compatibility_clip/epoch_53.pth\n"
     ]
    },
    {
     "name": "stderr",
     "output_type": "stream",
     "text": [
      "Train CP Epoch 54/200: 100%|██████████| 3332/3332 [00:29<00:00, 114.48it/s, loss=0.0291] \n"
     ]
    },
    {
     "name": "stdout",
     "output_type": "stream",
     "text": [
      "Epoch 54/200 Train CP --> Loss: 0.0232, AUC: 0.9720, Acc: 0.6060, F1: 0.7170\n"
     ]
    },
    {
     "name": "stderr",
     "output_type": "stream",
     "text": [
      "Valid CP Epoch 54/200: 100%|██████████| 313/313 [00:01<00:00, 164.44it/s, loss=0.0264] \n"
     ]
    },
    {
     "name": "stdout",
     "output_type": "stream",
     "text": [
      "Epoch 54/200 Valid CP --> Loss: 0.0342, AUC: 0.9491, Acc: 0.6791, F1: 0.7556\n",
      "Checkpoint saved at /home/ia/Documentos/TFG_Lara/TransformingFashion/checkpoints/compatibility_clip/epoch_54.pth\n"
     ]
    },
    {
     "name": "stderr",
     "output_type": "stream",
     "text": [
      "Train CP Epoch 55/200: 100%|██████████| 3332/3332 [00:28<00:00, 116.95it/s, loss=0.0155] \n"
     ]
    },
    {
     "name": "stdout",
     "output_type": "stream",
     "text": [
      "Epoch 55/200 Train CP --> Loss: 0.0228, AUC: 0.9728, Acc: 0.6056, F1: 0.7169\n"
     ]
    },
    {
     "name": "stderr",
     "output_type": "stream",
     "text": [
      "Valid CP Epoch 55/200: 100%|██████████| 313/313 [00:01<00:00, 190.36it/s, loss=0.0423] \n"
     ]
    },
    {
     "name": "stdout",
     "output_type": "stream",
     "text": [
      "Epoch 55/200 Valid CP --> Loss: 0.0354, AUC: 0.9487, Acc: 0.6174, F1: 0.7226\n",
      "Checkpoint saved at /home/ia/Documentos/TFG_Lara/TransformingFashion/checkpoints/compatibility_clip/epoch_55.pth\n"
     ]
    },
    {
     "name": "stderr",
     "output_type": "stream",
     "text": [
      "Train CP Epoch 56/200: 100%|██████████| 3332/3332 [00:29<00:00, 114.25it/s, loss=0.0205] \n"
     ]
    },
    {
     "name": "stdout",
     "output_type": "stream",
     "text": [
      "Epoch 56/200 Train CP --> Loss: 0.0221, AUC: 0.9741, Acc: 0.6067, F1: 0.7174\n"
     ]
    },
    {
     "name": "stderr",
     "output_type": "stream",
     "text": [
      "Valid CP Epoch 56/200: 100%|██████████| 313/313 [00:01<00:00, 170.29it/s, loss=0.0313] \n"
     ]
    },
    {
     "name": "stdout",
     "output_type": "stream",
     "text": [
      "Epoch 56/200 Valid CP --> Loss: 0.0349, AUC: 0.9496, Acc: 0.6341, F1: 0.7311\n",
      "Checkpoint saved at /home/ia/Documentos/TFG_Lara/TransformingFashion/checkpoints/compatibility_clip/epoch_56.pth\n"
     ]
    },
    {
     "name": "stderr",
     "output_type": "stream",
     "text": [
      "Train CP Epoch 57/200: 100%|██████████| 3332/3332 [00:28<00:00, 115.94it/s, loss=0.0175] \n"
     ]
    },
    {
     "name": "stdout",
     "output_type": "stream",
     "text": [
      "Epoch 57/200 Train CP --> Loss: 0.0215, AUC: 0.9753, Acc: 0.6088, F1: 0.7185\n"
     ]
    },
    {
     "name": "stderr",
     "output_type": "stream",
     "text": [
      "Valid CP Epoch 57/200: 100%|██████████| 313/313 [00:01<00:00, 173.75it/s, loss=0.0292] \n"
     ]
    },
    {
     "name": "stdout",
     "output_type": "stream",
     "text": [
      "Epoch 57/200 Valid CP --> Loss: 0.0359, AUC: 0.9463, Acc: 0.5449, F1: 0.6869\n",
      "Checkpoint saved at /home/ia/Documentos/TFG_Lara/TransformingFashion/checkpoints/compatibility_clip/epoch_57.pth\n"
     ]
    },
    {
     "name": "stderr",
     "output_type": "stream",
     "text": [
      "Train CP Epoch 58/200: 100%|██████████| 3332/3332 [00:28<00:00, 114.93it/s, loss=0.0105] \n"
     ]
    },
    {
     "name": "stdout",
     "output_type": "stream",
     "text": [
      "Epoch 58/200 Train CP --> Loss: 0.0209, AUC: 0.9762, Acc: 0.6058, F1: 0.7170\n"
     ]
    },
    {
     "name": "stderr",
     "output_type": "stream",
     "text": [
      "Valid CP Epoch 58/200: 100%|██████████| 313/313 [00:01<00:00, 162.85it/s, loss=0.0266] \n"
     ]
    },
    {
     "name": "stdout",
     "output_type": "stream",
     "text": [
      "Epoch 58/200 Valid CP --> Loss: 0.0356, AUC: 0.9481, Acc: 0.6855, F1: 0.7589\n",
      "Checkpoint saved at /home/ia/Documentos/TFG_Lara/TransformingFashion/checkpoints/compatibility_clip/epoch_58.pth\n"
     ]
    },
    {
     "name": "stderr",
     "output_type": "stream",
     "text": [
      "Train CP Epoch 59/200: 100%|██████████| 3332/3332 [00:28<00:00, 118.15it/s, loss=0.0427] \n"
     ]
    },
    {
     "name": "stdout",
     "output_type": "stream",
     "text": [
      "Epoch 59/200 Train CP --> Loss: 0.0204, AUC: 0.9773, Acc: 0.6109, F1: 0.7196\n"
     ]
    },
    {
     "name": "stderr",
     "output_type": "stream",
     "text": [
      "Valid CP Epoch 59/200: 100%|██████████| 313/313 [00:01<00:00, 178.45it/s, loss=0.0298] \n"
     ]
    },
    {
     "name": "stdout",
     "output_type": "stream",
     "text": [
      "Epoch 59/200 Valid CP --> Loss: 0.0364, AUC: 0.9471, Acc: 0.6616, F1: 0.7456\n",
      "Checkpoint saved at /home/ia/Documentos/TFG_Lara/TransformingFashion/checkpoints/compatibility_clip/epoch_59.pth\n"
     ]
    },
    {
     "name": "stderr",
     "output_type": "stream",
     "text": [
      "Train CP Epoch 60/200: 100%|██████████| 3332/3332 [00:28<00:00, 117.43it/s, loss=0.0174] \n"
     ]
    },
    {
     "name": "stdout",
     "output_type": "stream",
     "text": [
      "Epoch 60/200 Train CP --> Loss: 0.0200, AUC: 0.9779, Acc: 0.6095, F1: 0.7188\n"
     ]
    },
    {
     "name": "stderr",
     "output_type": "stream",
     "text": [
      "Valid CP Epoch 60/200: 100%|██████████| 313/313 [00:01<00:00, 168.61it/s, loss=0.0476] \n"
     ]
    },
    {
     "name": "stdout",
     "output_type": "stream",
     "text": [
      "Epoch 60/200 Valid CP --> Loss: 0.0377, AUC: 0.9472, Acc: 0.6261, F1: 0.7269\n",
      "Checkpoint saved at /home/ia/Documentos/TFG_Lara/TransformingFashion/checkpoints/compatibility_clip/epoch_60.pth\n"
     ]
    },
    {
     "name": "stderr",
     "output_type": "stream",
     "text": [
      "Train CP Epoch 61/200: 100%|██████████| 3332/3332 [00:28<00:00, 115.38it/s, loss=0.00765]\n"
     ]
    },
    {
     "name": "stdout",
     "output_type": "stream",
     "text": [
      "Epoch 61/200 Train CP --> Loss: 0.0193, AUC: 0.9790, Acc: 0.6108, F1: 0.7196\n"
     ]
    },
    {
     "name": "stderr",
     "output_type": "stream",
     "text": [
      "Valid CP Epoch 61/200: 100%|██████████| 313/313 [00:01<00:00, 178.21it/s, loss=0.0382] \n"
     ]
    },
    {
     "name": "stdout",
     "output_type": "stream",
     "text": [
      "Epoch 61/200 Valid CP --> Loss: 0.0367, AUC: 0.9469, Acc: 0.5957, F1: 0.7111\n",
      "Checkpoint saved at /home/ia/Documentos/TFG_Lara/TransformingFashion/checkpoints/compatibility_clip/epoch_61.pth\n"
     ]
    },
    {
     "name": "stderr",
     "output_type": "stream",
     "text": [
      "Train CP Epoch 62/200: 100%|██████████| 3332/3332 [00:28<00:00, 114.99it/s, loss=0.0274] \n"
     ]
    },
    {
     "name": "stdout",
     "output_type": "stream",
     "text": [
      "Epoch 62/200 Train CP --> Loss: 0.0190, AUC: 0.9793, Acc: 0.6041, F1: 0.7160\n"
     ]
    },
    {
     "name": "stderr",
     "output_type": "stream",
     "text": [
      "Valid CP Epoch 62/200: 100%|██████████| 313/313 [00:01<00:00, 178.25it/s, loss=0.0177] \n"
     ]
    },
    {
     "name": "stdout",
     "output_type": "stream",
     "text": [
      "Epoch 62/200 Valid CP --> Loss: 0.0364, AUC: 0.9467, Acc: 0.5950, F1: 0.7109\n",
      "Checkpoint saved at /home/ia/Documentos/TFG_Lara/TransformingFashion/checkpoints/compatibility_clip/epoch_62.pth\n"
     ]
    },
    {
     "name": "stderr",
     "output_type": "stream",
     "text": [
      "Train CP Epoch 63/200: 100%|██████████| 3332/3332 [00:28<00:00, 118.69it/s, loss=0.00406]\n"
     ]
    },
    {
     "name": "stdout",
     "output_type": "stream",
     "text": [
      "Epoch 63/200 Train CP --> Loss: 0.0185, AUC: 0.9806, Acc: 0.6117, F1: 0.7200\n"
     ]
    },
    {
     "name": "stderr",
     "output_type": "stream",
     "text": [
      "Valid CP Epoch 63/200: 100%|██████████| 313/313 [00:01<00:00, 174.91it/s, loss=0.0941] \n"
     ]
    },
    {
     "name": "stdout",
     "output_type": "stream",
     "text": [
      "Epoch 63/200 Valid CP --> Loss: 0.0415, AUC: 0.9459, Acc: 0.6356, F1: 0.7319\n",
      "Checkpoint saved at /home/ia/Documentos/TFG_Lara/TransformingFashion/checkpoints/compatibility_clip/epoch_63.pth\n"
     ]
    },
    {
     "name": "stderr",
     "output_type": "stream",
     "text": [
      "Train CP Epoch 64/200: 100%|██████████| 3332/3332 [00:27<00:00, 122.90it/s, loss=0.0114]  \n"
     ]
    },
    {
     "name": "stdout",
     "output_type": "stream",
     "text": [
      "Epoch 64/200 Train CP --> Loss: 0.0178, AUC: 0.9815, Acc: 0.6136, F1: 0.7210\n"
     ]
    },
    {
     "name": "stderr",
     "output_type": "stream",
     "text": [
      "Valid CP Epoch 64/200: 100%|██████████| 313/313 [00:01<00:00, 170.62it/s, loss=0.016]  \n"
     ]
    },
    {
     "name": "stdout",
     "output_type": "stream",
     "text": [
      "Epoch 64/200 Valid CP --> Loss: 0.0368, AUC: 0.9461, Acc: 0.5474, F1: 0.6876\n",
      "Checkpoint saved at /home/ia/Documentos/TFG_Lara/TransformingFashion/checkpoints/compatibility_clip/epoch_64.pth\n"
     ]
    },
    {
     "name": "stderr",
     "output_type": "stream",
     "text": [
      "Train CP Epoch 65/200: 100%|██████████| 3332/3332 [00:28<00:00, 115.38it/s, loss=0.0248] \n"
     ]
    },
    {
     "name": "stdout",
     "output_type": "stream",
     "text": [
      "Epoch 65/200 Train CP --> Loss: 0.0174, AUC: 0.9821, Acc: 0.6090, F1: 0.7186\n"
     ]
    },
    {
     "name": "stderr",
     "output_type": "stream",
     "text": [
      "Valid CP Epoch 65/200: 100%|██████████| 313/313 [00:02<00:00, 147.39it/s, loss=0.0334] \n"
     ]
    },
    {
     "name": "stdout",
     "output_type": "stream",
     "text": [
      "Epoch 65/200 Valid CP --> Loss: 0.0376, AUC: 0.9445, Acc: 0.5695, F1: 0.6980\n",
      "Checkpoint saved at /home/ia/Documentos/TFG_Lara/TransformingFashion/checkpoints/compatibility_clip/epoch_65.pth\n"
     ]
    },
    {
     "name": "stderr",
     "output_type": "stream",
     "text": [
      "Train CP Epoch 66/200: 100%|██████████| 3332/3332 [00:28<00:00, 117.08it/s, loss=0.0206]  \n"
     ]
    },
    {
     "name": "stdout",
     "output_type": "stream",
     "text": [
      "Epoch 66/200 Train CP --> Loss: 0.0168, AUC: 0.9831, Acc: 0.6099, F1: 0.7191\n"
     ]
    },
    {
     "name": "stderr",
     "output_type": "stream",
     "text": [
      "Valid CP Epoch 66/200: 100%|██████████| 313/313 [00:01<00:00, 171.92it/s, loss=0.0597] \n"
     ]
    },
    {
     "name": "stdout",
     "output_type": "stream",
     "text": [
      "Epoch 66/200 Valid CP --> Loss: 0.0403, AUC: 0.9461, Acc: 0.5124, F1: 0.6720\n",
      "Checkpoint saved at /home/ia/Documentos/TFG_Lara/TransformingFashion/checkpoints/compatibility_clip/epoch_66.pth\n"
     ]
    },
    {
     "name": "stderr",
     "output_type": "stream",
     "text": [
      "Train CP Epoch 67/200: 100%|██████████| 3332/3332 [00:28<00:00, 117.56it/s, loss=0.00845] \n"
     ]
    },
    {
     "name": "stdout",
     "output_type": "stream",
     "text": [
      "Epoch 67/200 Train CP --> Loss: 0.0166, AUC: 0.9836, Acc: 0.6163, F1: 0.7224\n"
     ]
    },
    {
     "name": "stderr",
     "output_type": "stream",
     "text": [
      "Valid CP Epoch 67/200: 100%|██████████| 313/313 [00:01<00:00, 173.83it/s, loss=0.0603] \n"
     ]
    },
    {
     "name": "stdout",
     "output_type": "stream",
     "text": [
      "Epoch 67/200 Valid CP --> Loss: 0.0382, AUC: 0.9458, Acc: 0.6414, F1: 0.7344\n",
      "Checkpoint saved at /home/ia/Documentos/TFG_Lara/TransformingFashion/checkpoints/compatibility_clip/epoch_67.pth\n"
     ]
    },
    {
     "name": "stderr",
     "output_type": "stream",
     "text": [
      "Train CP Epoch 68/200: 100%|██████████| 3332/3332 [00:28<00:00, 117.02it/s, loss=0.0034]  \n"
     ]
    },
    {
     "name": "stdout",
     "output_type": "stream",
     "text": [
      "Epoch 68/200 Train CP --> Loss: 0.0160, AUC: 0.9843, Acc: 0.6147, F1: 0.7216\n"
     ]
    },
    {
     "name": "stderr",
     "output_type": "stream",
     "text": [
      "Valid CP Epoch 68/200: 100%|██████████| 313/313 [00:01<00:00, 173.60it/s, loss=0.0467] \n"
     ]
    },
    {
     "name": "stdout",
     "output_type": "stream",
     "text": [
      "Epoch 68/200 Valid CP --> Loss: 0.0415, AUC: 0.9442, Acc: 0.5947, F1: 0.7106\n",
      "Checkpoint saved at /home/ia/Documentos/TFG_Lara/TransformingFashion/checkpoints/compatibility_clip/epoch_68.pth\n"
     ]
    },
    {
     "name": "stderr",
     "output_type": "stream",
     "text": [
      "Train CP Epoch 69/200: 100%|██████████| 3332/3332 [00:28<00:00, 117.64it/s, loss=0.021]   \n"
     ]
    },
    {
     "name": "stdout",
     "output_type": "stream",
     "text": [
      "Epoch 69/200 Train CP --> Loss: 0.0158, AUC: 0.9847, Acc: 0.6132, F1: 0.7208\n"
     ]
    },
    {
     "name": "stderr",
     "output_type": "stream",
     "text": [
      "Valid CP Epoch 69/200: 100%|██████████| 313/313 [00:01<00:00, 176.71it/s, loss=0.06]   \n"
     ]
    },
    {
     "name": "stdout",
     "output_type": "stream",
     "text": [
      "Epoch 69/200 Valid CP --> Loss: 0.0414, AUC: 0.9431, Acc: 0.5270, F1: 0.6783\n",
      "Checkpoint saved at /home/ia/Documentos/TFG_Lara/TransformingFashion/checkpoints/compatibility_clip/epoch_69.pth\n"
     ]
    },
    {
     "name": "stderr",
     "output_type": "stream",
     "text": [
      "Train CP Epoch 70/200: 100%|██████████| 3332/3332 [00:29<00:00, 114.67it/s, loss=0.0134]  \n"
     ]
    },
    {
     "name": "stdout",
     "output_type": "stream",
     "text": [
      "Epoch 70/200 Train CP --> Loss: 0.0151, AUC: 0.9854, Acc: 0.6166, F1: 0.7225\n"
     ]
    },
    {
     "name": "stderr",
     "output_type": "stream",
     "text": [
      "Valid CP Epoch 70/200: 100%|██████████| 313/313 [00:01<00:00, 167.93it/s, loss=0.0728] \n"
     ]
    },
    {
     "name": "stdout",
     "output_type": "stream",
     "text": [
      "Epoch 70/200 Valid CP --> Loss: 0.0401, AUC: 0.9410, Acc: 0.5624, F1: 0.6944\n",
      "Checkpoint saved at /home/ia/Documentos/TFG_Lara/TransformingFashion/checkpoints/compatibility_clip/epoch_70.pth\n"
     ]
    },
    {
     "name": "stderr",
     "output_type": "stream",
     "text": [
      "Train CP Epoch 71/200: 100%|██████████| 3332/3332 [00:28<00:00, 115.40it/s, loss=0.0176]  \n"
     ]
    },
    {
     "name": "stdout",
     "output_type": "stream",
     "text": [
      "Epoch 71/200 Train CP --> Loss: 0.0147, AUC: 0.9859, Acc: 0.6168, F1: 0.7226\n"
     ]
    },
    {
     "name": "stderr",
     "output_type": "stream",
     "text": [
      "Valid CP Epoch 71/200: 100%|██████████| 313/313 [00:01<00:00, 168.28it/s, loss=0.0793] \n"
     ]
    },
    {
     "name": "stdout",
     "output_type": "stream",
     "text": [
      "Epoch 71/200 Valid CP --> Loss: 0.0414, AUC: 0.9439, Acc: 0.5714, F1: 0.6988\n",
      "Checkpoint saved at /home/ia/Documentos/TFG_Lara/TransformingFashion/checkpoints/compatibility_clip/epoch_71.pth\n"
     ]
    },
    {
     "name": "stderr",
     "output_type": "stream",
     "text": [
      "Train CP Epoch 72/200: 100%|██████████| 3332/3332 [00:28<00:00, 116.25it/s, loss=0.0223]  \n"
     ]
    },
    {
     "name": "stdout",
     "output_type": "stream",
     "text": [
      "Epoch 72/200 Train CP --> Loss: 0.0143, AUC: 0.9864, Acc: 0.6164, F1: 0.7224\n"
     ]
    },
    {
     "name": "stderr",
     "output_type": "stream",
     "text": [
      "Valid CP Epoch 72/200: 100%|██████████| 313/313 [00:02<00:00, 151.59it/s, loss=0.0702] \n"
     ]
    },
    {
     "name": "stdout",
     "output_type": "stream",
     "text": [
      "Epoch 72/200 Valid CP --> Loss: 0.0425, AUC: 0.9414, Acc: 0.5346, F1: 0.6815\n",
      "Checkpoint saved at /home/ia/Documentos/TFG_Lara/TransformingFashion/checkpoints/compatibility_clip/epoch_72.pth\n"
     ]
    },
    {
     "name": "stderr",
     "output_type": "stream",
     "text": [
      "Train CP Epoch 73/200: 100%|██████████| 3332/3332 [00:28<00:00, 115.19it/s, loss=0.0292]  \n"
     ]
    },
    {
     "name": "stdout",
     "output_type": "stream",
     "text": [
      "Epoch 73/200 Train CP --> Loss: 0.0139, AUC: 0.9870, Acc: 0.6161, F1: 0.7222\n"
     ]
    },
    {
     "name": "stderr",
     "output_type": "stream",
     "text": [
      "Valid CP Epoch 73/200: 100%|██████████| 313/313 [00:02<00:00, 154.62it/s, loss=0.0724] \n"
     ]
    },
    {
     "name": "stdout",
     "output_type": "stream",
     "text": [
      "Epoch 73/200 Valid CP --> Loss: 0.0398, AUC: 0.9426, Acc: 0.5195, F1: 0.6748\n",
      "Checkpoint saved at /home/ia/Documentos/TFG_Lara/TransformingFashion/checkpoints/compatibility_clip/epoch_73.pth\n"
     ]
    },
    {
     "name": "stderr",
     "output_type": "stream",
     "text": [
      "Train CP Epoch 74/200: 100%|██████████| 3332/3332 [00:28<00:00, 116.19it/s, loss=0.0038]  \n"
     ]
    },
    {
     "name": "stdout",
     "output_type": "stream",
     "text": [
      "Epoch 74/200 Train CP --> Loss: 0.0137, AUC: 0.9874, Acc: 0.6174, F1: 0.7230\n"
     ]
    },
    {
     "name": "stderr",
     "output_type": "stream",
     "text": [
      "Valid CP Epoch 74/200: 100%|██████████| 313/313 [00:01<00:00, 180.89it/s, loss=0.125]  \n"
     ]
    },
    {
     "name": "stdout",
     "output_type": "stream",
     "text": [
      "Epoch 74/200 Valid CP --> Loss: 0.0465, AUC: 0.9388, Acc: 0.5564, F1: 0.6917\n",
      "Checkpoint saved at /home/ia/Documentos/TFG_Lara/TransformingFashion/checkpoints/compatibility_clip/epoch_74.pth\n"
     ]
    },
    {
     "name": "stderr",
     "output_type": "stream",
     "text": [
      "Train CP Epoch 75/200: 100%|██████████| 3332/3332 [00:28<00:00, 114.90it/s, loss=0.00296] \n"
     ]
    },
    {
     "name": "stdout",
     "output_type": "stream",
     "text": [
      "Epoch 75/200 Train CP --> Loss: 0.0133, AUC: 0.9880, Acc: 0.6226, F1: 0.7257\n"
     ]
    },
    {
     "name": "stderr",
     "output_type": "stream",
     "text": [
      "Valid CP Epoch 75/200: 100%|██████████| 313/313 [00:01<00:00, 157.30it/s, loss=0.0373]  \n"
     ]
    },
    {
     "name": "stdout",
     "output_type": "stream",
     "text": [
      "Epoch 75/200 Valid CP --> Loss: 0.0408, AUC: 0.9405, Acc: 0.6282, F1: 0.7269\n",
      "Checkpoint saved at /home/ia/Documentos/TFG_Lara/TransformingFashion/checkpoints/compatibility_clip/epoch_75.pth\n"
     ]
    },
    {
     "name": "stderr",
     "output_type": "stream",
     "text": [
      "Train CP Epoch 76/200: 100%|██████████| 3332/3332 [00:28<00:00, 117.70it/s, loss=0.015]   \n"
     ]
    },
    {
     "name": "stdout",
     "output_type": "stream",
     "text": [
      "Epoch 76/200 Train CP --> Loss: 0.0127, AUC: 0.9885, Acc: 0.6243, F1: 0.7266\n"
     ]
    },
    {
     "name": "stderr",
     "output_type": "stream",
     "text": [
      "Valid CP Epoch 76/200: 100%|██████████| 313/313 [00:01<00:00, 169.90it/s, loss=0.0629]  \n"
     ]
    },
    {
     "name": "stdout",
     "output_type": "stream",
     "text": [
      "Epoch 76/200 Valid CP --> Loss: 0.0438, AUC: 0.9392, Acc: 0.6368, F1: 0.7315\n",
      "Checkpoint saved at /home/ia/Documentos/TFG_Lara/TransformingFashion/checkpoints/compatibility_clip/epoch_76.pth\n"
     ]
    },
    {
     "name": "stderr",
     "output_type": "stream",
     "text": [
      "Train CP Epoch 77/200: 100%|██████████| 3332/3332 [00:28<00:00, 116.22it/s, loss=0.00426] \n"
     ]
    },
    {
     "name": "stdout",
     "output_type": "stream",
     "text": [
      "Epoch 77/200 Train CP --> Loss: 0.0123, AUC: 0.9889, Acc: 0.6186, F1: 0.7236\n"
     ]
    },
    {
     "name": "stderr",
     "output_type": "stream",
     "text": [
      "Valid CP Epoch 77/200: 100%|██████████| 313/313 [00:01<00:00, 170.20it/s, loss=0.0966] \n"
     ]
    },
    {
     "name": "stdout",
     "output_type": "stream",
     "text": [
      "Epoch 77/200 Valid CP --> Loss: 0.0444, AUC: 0.9375, Acc: 0.5240, F1: 0.6768\n",
      "Checkpoint saved at /home/ia/Documentos/TFG_Lara/TransformingFashion/checkpoints/compatibility_clip/epoch_77.pth\n"
     ]
    },
    {
     "name": "stderr",
     "output_type": "stream",
     "text": [
      "Train CP Epoch 78/200: 100%|██████████| 3332/3332 [00:28<00:00, 117.25it/s, loss=0.00232] \n"
     ]
    },
    {
     "name": "stdout",
     "output_type": "stream",
     "text": [
      "Epoch 78/200 Train CP --> Loss: 0.0122, AUC: 0.9893, Acc: 0.6196, F1: 0.7241\n"
     ]
    },
    {
     "name": "stderr",
     "output_type": "stream",
     "text": [
      "Valid CP Epoch 78/200: 100%|██████████| 313/313 [00:01<00:00, 162.91it/s, loss=0.0891] \n"
     ]
    },
    {
     "name": "stdout",
     "output_type": "stream",
     "text": [
      "Epoch 78/200 Valid CP --> Loss: 0.0442, AUC: 0.9371, Acc: 0.5273, F1: 0.6781\n",
      "Checkpoint saved at /home/ia/Documentos/TFG_Lara/TransformingFashion/checkpoints/compatibility_clip/epoch_78.pth\n"
     ]
    },
    {
     "name": "stderr",
     "output_type": "stream",
     "text": [
      "Train CP Epoch 79/200: 100%|██████████| 3332/3332 [00:28<00:00, 117.33it/s, loss=0.00344] \n"
     ]
    },
    {
     "name": "stdout",
     "output_type": "stream",
     "text": [
      "Epoch 79/200 Train CP --> Loss: 0.0120, AUC: 0.9896, Acc: 0.6231, F1: 0.7260\n"
     ]
    },
    {
     "name": "stderr",
     "output_type": "stream",
     "text": [
      "Valid CP Epoch 79/200: 100%|██████████| 313/313 [00:01<00:00, 174.79it/s, loss=0.068]  \n"
     ]
    },
    {
     "name": "stdout",
     "output_type": "stream",
     "text": [
      "Epoch 79/200 Valid CP --> Loss: 0.0449, AUC: 0.9392, Acc: 0.5979, F1: 0.7117\n",
      "Checkpoint saved at /home/ia/Documentos/TFG_Lara/TransformingFashion/checkpoints/compatibility_clip/epoch_79.pth\n"
     ]
    },
    {
     "name": "stderr",
     "output_type": "stream",
     "text": [
      "Train CP Epoch 80/200: 100%|██████████| 3332/3332 [00:28<00:00, 115.20it/s, loss=0.00139] \n"
     ]
    },
    {
     "name": "stdout",
     "output_type": "stream",
     "text": [
      "Epoch 80/200 Train CP --> Loss: 0.0115, AUC: 0.9900, Acc: 0.6241, F1: 0.7265\n"
     ]
    },
    {
     "name": "stderr",
     "output_type": "stream",
     "text": [
      "Valid CP Epoch 80/200: 100%|██████████| 313/313 [00:01<00:00, 161.24it/s, loss=0.0934] \n"
     ]
    },
    {
     "name": "stdout",
     "output_type": "stream",
     "text": [
      "Epoch 80/200 Valid CP --> Loss: 0.0439, AUC: 0.9391, Acc: 0.6469, F1: 0.7364\n",
      "Checkpoint saved at /home/ia/Documentos/TFG_Lara/TransformingFashion/checkpoints/compatibility_clip/epoch_80.pth\n"
     ]
    },
    {
     "name": "stderr",
     "output_type": "stream",
     "text": [
      "Train CP Epoch 81/200: 100%|██████████| 3332/3332 [00:29<00:00, 114.12it/s, loss=0.0168]  \n"
     ]
    },
    {
     "name": "stdout",
     "output_type": "stream",
     "text": [
      "Epoch 81/200 Train CP --> Loss: 0.0114, AUC: 0.9901, Acc: 0.6216, F1: 0.7252\n"
     ]
    },
    {
     "name": "stderr",
     "output_type": "stream",
     "text": [
      "Valid CP Epoch 81/200: 100%|██████████| 313/313 [00:01<00:00, 164.52it/s, loss=0.148]  \n"
     ]
    },
    {
     "name": "stdout",
     "output_type": "stream",
     "text": [
      "Epoch 81/200 Valid CP --> Loss: 0.0495, AUC: 0.9348, Acc: 0.5166, F1: 0.6736\n",
      "Checkpoint saved at /home/ia/Documentos/TFG_Lara/TransformingFashion/checkpoints/compatibility_clip/epoch_81.pth\n"
     ]
    },
    {
     "name": "stderr",
     "output_type": "stream",
     "text": [
      "Train CP Epoch 82/200: 100%|██████████| 3332/3332 [00:28<00:00, 117.73it/s, loss=0.00082] \n"
     ]
    },
    {
     "name": "stdout",
     "output_type": "stream",
     "text": [
      "Epoch 82/200 Train CP --> Loss: 0.0110, AUC: 0.9907, Acc: 0.6248, F1: 0.7269\n"
     ]
    },
    {
     "name": "stderr",
     "output_type": "stream",
     "text": [
      "Valid CP Epoch 82/200: 100%|██████████| 313/313 [00:02<00:00, 153.00it/s, loss=0.0802]  \n"
     ]
    },
    {
     "name": "stdout",
     "output_type": "stream",
     "text": [
      "Epoch 82/200 Valid CP --> Loss: 0.0444, AUC: 0.9377, Acc: 0.6198, F1: 0.7221\n",
      "Checkpoint saved at /home/ia/Documentos/TFG_Lara/TransformingFashion/checkpoints/compatibility_clip/epoch_82.pth\n"
     ]
    },
    {
     "name": "stderr",
     "output_type": "stream",
     "text": [
      "Train CP Epoch 83/200: 100%|██████████| 3332/3332 [00:28<00:00, 116.48it/s, loss=0.00196] \n"
     ]
    },
    {
     "name": "stdout",
     "output_type": "stream",
     "text": [
      "Epoch 83/200 Train CP --> Loss: 0.0106, AUC: 0.9911, Acc: 0.6257, F1: 0.7274\n"
     ]
    },
    {
     "name": "stderr",
     "output_type": "stream",
     "text": [
      "Valid CP Epoch 83/200: 100%|██████████| 313/313 [00:01<00:00, 182.96it/s, loss=0.102]  \n"
     ]
    },
    {
     "name": "stdout",
     "output_type": "stream",
     "text": [
      "Epoch 83/200 Valid CP --> Loss: 0.0478, AUC: 0.9367, Acc: 0.5666, F1: 0.6958\n",
      "Checkpoint saved at /home/ia/Documentos/TFG_Lara/TransformingFashion/checkpoints/compatibility_clip/epoch_83.pth\n"
     ]
    },
    {
     "name": "stderr",
     "output_type": "stream",
     "text": [
      "Train CP Epoch 84/200: 100%|██████████| 3332/3332 [00:29<00:00, 113.50it/s, loss=0.00879] \n"
     ]
    },
    {
     "name": "stdout",
     "output_type": "stream",
     "text": [
      "Epoch 84/200 Train CP --> Loss: 0.0103, AUC: 0.9915, Acc: 0.6254, F1: 0.7272\n"
     ]
    },
    {
     "name": "stderr",
     "output_type": "stream",
     "text": [
      "Valid CP Epoch 84/200: 100%|██████████| 313/313 [00:01<00:00, 169.93it/s, loss=0.0475]  \n"
     ]
    },
    {
     "name": "stdout",
     "output_type": "stream",
     "text": [
      "Epoch 84/200 Valid CP --> Loss: 0.0424, AUC: 0.9355, Acc: 0.6150, F1: 0.7190\n",
      "Checkpoint saved at /home/ia/Documentos/TFG_Lara/TransformingFashion/checkpoints/compatibility_clip/epoch_84.pth\n"
     ]
    },
    {
     "name": "stderr",
     "output_type": "stream",
     "text": [
      "Train CP Epoch 85/200: 100%|██████████| 3332/3332 [00:28<00:00, 115.62it/s, loss=0.0119]  \n"
     ]
    },
    {
     "name": "stdout",
     "output_type": "stream",
     "text": [
      "Epoch 85/200 Train CP --> Loss: 0.0102, AUC: 0.9915, Acc: 0.6282, F1: 0.7287\n"
     ]
    },
    {
     "name": "stderr",
     "output_type": "stream",
     "text": [
      "Valid CP Epoch 85/200: 100%|██████████| 313/313 [00:01<00:00, 174.39it/s, loss=0.116]  \n"
     ]
    },
    {
     "name": "stdout",
     "output_type": "stream",
     "text": [
      "Epoch 85/200 Valid CP --> Loss: 0.0464, AUC: 0.9351, Acc: 0.5063, F1: 0.6691\n",
      "Checkpoint saved at /home/ia/Documentos/TFG_Lara/TransformingFashion/checkpoints/compatibility_clip/epoch_85.pth\n"
     ]
    },
    {
     "name": "stderr",
     "output_type": "stream",
     "text": [
      "Train CP Epoch 86/200: 100%|██████████| 3332/3332 [00:29<00:00, 113.54it/s, loss=0.00244] \n"
     ]
    },
    {
     "name": "stdout",
     "output_type": "stream",
     "text": [
      "Epoch 86/200 Train CP --> Loss: 0.0098, AUC: 0.9918, Acc: 0.6279, F1: 0.7285\n"
     ]
    },
    {
     "name": "stderr",
     "output_type": "stream",
     "text": [
      "Valid CP Epoch 86/200: 100%|██████████| 313/313 [00:01<00:00, 162.84it/s, loss=0.111]  \n"
     ]
    },
    {
     "name": "stdout",
     "output_type": "stream",
     "text": [
      "Epoch 86/200 Valid CP --> Loss: 0.0466, AUC: 0.9353, Acc: 0.5788, F1: 0.7015\n",
      "Checkpoint saved at /home/ia/Documentos/TFG_Lara/TransformingFashion/checkpoints/compatibility_clip/epoch_86.pth\n"
     ]
    },
    {
     "name": "stderr",
     "output_type": "stream",
     "text": [
      "Train CP Epoch 87/200: 100%|██████████| 3332/3332 [00:28<00:00, 116.11it/s, loss=0.0161]  \n"
     ]
    },
    {
     "name": "stdout",
     "output_type": "stream",
     "text": [
      "Epoch 87/200 Train CP --> Loss: 0.0096, AUC: 0.9923, Acc: 0.6270, F1: 0.7281\n"
     ]
    },
    {
     "name": "stderr",
     "output_type": "stream",
     "text": [
      "Valid CP Epoch 87/200: 100%|██████████| 313/313 [00:01<00:00, 176.85it/s, loss=0.135]  \n"
     ]
    },
    {
     "name": "stdout",
     "output_type": "stream",
     "text": [
      "Epoch 87/200 Valid CP --> Loss: 0.0470, AUC: 0.9339, Acc: 0.6149, F1: 0.7195\n",
      "Checkpoint saved at /home/ia/Documentos/TFG_Lara/TransformingFashion/checkpoints/compatibility_clip/epoch_87.pth\n"
     ]
    },
    {
     "name": "stderr",
     "output_type": "stream",
     "text": [
      "Train CP Epoch 88/200: 100%|██████████| 3332/3332 [00:28<00:00, 116.54it/s, loss=0.000333]\n"
     ]
    },
    {
     "name": "stdout",
     "output_type": "stream",
     "text": [
      "Epoch 88/200 Train CP --> Loss: 0.0093, AUC: 0.9924, Acc: 0.6280, F1: 0.7286\n"
     ]
    },
    {
     "name": "stderr",
     "output_type": "stream",
     "text": [
      "Valid CP Epoch 88/200: 100%|██████████| 313/313 [00:01<00:00, 165.67it/s, loss=0.0839] \n"
     ]
    },
    {
     "name": "stdout",
     "output_type": "stream",
     "text": [
      "Epoch 88/200 Valid CP --> Loss: 0.0461, AUC: 0.9334, Acc: 0.6725, F1: 0.7497\n",
      "Checkpoint saved at /home/ia/Documentos/TFG_Lara/TransformingFashion/checkpoints/compatibility_clip/epoch_88.pth\n"
     ]
    },
    {
     "name": "stderr",
     "output_type": "stream",
     "text": [
      "Train CP Epoch 89/200: 100%|██████████| 3332/3332 [00:29<00:00, 114.85it/s, loss=0.00159] \n"
     ]
    },
    {
     "name": "stdout",
     "output_type": "stream",
     "text": [
      "Epoch 89/200 Train CP --> Loss: 0.0090, AUC: 0.9926, Acc: 0.6316, F1: 0.7305\n"
     ]
    },
    {
     "name": "stderr",
     "output_type": "stream",
     "text": [
      "Valid CP Epoch 89/200: 100%|██████████| 313/313 [00:01<00:00, 182.01it/s, loss=0.0845]  \n"
     ]
    },
    {
     "name": "stdout",
     "output_type": "stream",
     "text": [
      "Epoch 89/200 Valid CP --> Loss: 0.0457, AUC: 0.9343, Acc: 0.5494, F1: 0.6874\n",
      "Checkpoint saved at /home/ia/Documentos/TFG_Lara/TransformingFashion/checkpoints/compatibility_clip/epoch_89.pth\n"
     ]
    },
    {
     "name": "stderr",
     "output_type": "stream",
     "text": [
      "Train CP Epoch 90/200: 100%|██████████| 3332/3332 [00:29<00:00, 114.28it/s, loss=0.0138]  \n"
     ]
    },
    {
     "name": "stdout",
     "output_type": "stream",
     "text": [
      "Epoch 90/200 Train CP --> Loss: 0.0088, AUC: 0.9930, Acc: 0.6296, F1: 0.7295\n"
     ]
    },
    {
     "name": "stderr",
     "output_type": "stream",
     "text": [
      "Valid CP Epoch 90/200: 100%|██████████| 313/313 [00:01<00:00, 179.71it/s, loss=0.0757]  \n"
     ]
    },
    {
     "name": "stdout",
     "output_type": "stream",
     "text": [
      "Epoch 90/200 Valid CP --> Loss: 0.0456, AUC: 0.9332, Acc: 0.7702, F1: 0.8072\n",
      "Checkpoint saved at /home/ia/Documentos/TFG_Lara/TransformingFashion/checkpoints/compatibility_clip/epoch_90.pth\n"
     ]
    },
    {
     "name": "stderr",
     "output_type": "stream",
     "text": [
      "Train CP Epoch 91/200: 100%|██████████| 3332/3332 [00:28<00:00, 115.45it/s, loss=0.000157]\n"
     ]
    },
    {
     "name": "stdout",
     "output_type": "stream",
     "text": [
      "Epoch 91/200 Train CP --> Loss: 0.0086, AUC: 0.9933, Acc: 0.6316, F1: 0.7305\n"
     ]
    },
    {
     "name": "stderr",
     "output_type": "stream",
     "text": [
      "Valid CP Epoch 91/200: 100%|██████████| 313/313 [00:01<00:00, 165.98it/s, loss=0.149]   \n"
     ]
    },
    {
     "name": "stdout",
     "output_type": "stream",
     "text": [
      "Epoch 91/200 Valid CP --> Loss: 0.0490, AUC: 0.9317, Acc: 0.5635, F1: 0.6941\n",
      "Checkpoint saved at /home/ia/Documentos/TFG_Lara/TransformingFashion/checkpoints/compatibility_clip/epoch_91.pth\n"
     ]
    },
    {
     "name": "stderr",
     "output_type": "stream",
     "text": [
      "Train CP Epoch 92/200: 100%|██████████| 3332/3332 [00:29<00:00, 114.59it/s, loss=0.00296] \n"
     ]
    },
    {
     "name": "stdout",
     "output_type": "stream",
     "text": [
      "Epoch 92/200 Train CP --> Loss: 0.0084, AUC: 0.9931, Acc: 0.6308, F1: 0.7301\n"
     ]
    },
    {
     "name": "stderr",
     "output_type": "stream",
     "text": [
      "Valid CP Epoch 92/200: 100%|██████████| 313/313 [00:01<00:00, 178.17it/s, loss=0.189]   \n"
     ]
    },
    {
     "name": "stdout",
     "output_type": "stream",
     "text": [
      "Epoch 92/200 Valid CP --> Loss: 0.0567, AUC: 0.9267, Acc: 0.5215, F1: 0.6755\n",
      "Checkpoint saved at /home/ia/Documentos/TFG_Lara/TransformingFashion/checkpoints/compatibility_clip/epoch_92.pth\n"
     ]
    },
    {
     "name": "stderr",
     "output_type": "stream",
     "text": [
      "Train CP Epoch 93/200: 100%|██████████| 3332/3332 [00:28<00:00, 115.36it/s, loss=0.00402] \n"
     ]
    },
    {
     "name": "stdout",
     "output_type": "stream",
     "text": [
      "Epoch 93/200 Train CP --> Loss: 0.0083, AUC: 0.9934, Acc: 0.6325, F1: 0.7310\n"
     ]
    },
    {
     "name": "stderr",
     "output_type": "stream",
     "text": [
      "Valid CP Epoch 93/200: 100%|██████████| 313/313 [00:01<00:00, 170.13it/s, loss=0.136]   \n"
     ]
    },
    {
     "name": "stdout",
     "output_type": "stream",
     "text": [
      "Epoch 93/200 Valid CP --> Loss: 0.0478, AUC: 0.9333, Acc: 0.6246, F1: 0.7241\n",
      "Checkpoint saved at /home/ia/Documentos/TFG_Lara/TransformingFashion/checkpoints/compatibility_clip/epoch_93.pth\n"
     ]
    },
    {
     "name": "stderr",
     "output_type": "stream",
     "text": [
      "Train CP Epoch 94/200: 100%|██████████| 3332/3332 [00:28<00:00, 115.71it/s, loss=0.00197] \n"
     ]
    },
    {
     "name": "stdout",
     "output_type": "stream",
     "text": [
      "Epoch 94/200 Train CP --> Loss: 0.0080, AUC: 0.9935, Acc: 0.6330, F1: 0.7313\n"
     ]
    },
    {
     "name": "stderr",
     "output_type": "stream",
     "text": [
      "Valid CP Epoch 94/200: 100%|██████████| 313/313 [00:01<00:00, 178.50it/s, loss=0.112]   \n"
     ]
    },
    {
     "name": "stdout",
     "output_type": "stream",
     "text": [
      "Epoch 94/200 Valid CP --> Loss: 0.0476, AUC: 0.9307, Acc: 0.5495, F1: 0.6872\n",
      "Checkpoint saved at /home/ia/Documentos/TFG_Lara/TransformingFashion/checkpoints/compatibility_clip/epoch_94.pth\n"
     ]
    },
    {
     "name": "stderr",
     "output_type": "stream",
     "text": [
      "Train CP Epoch 95/200: 100%|██████████| 3332/3332 [00:28<00:00, 117.10it/s, loss=0.000639]\n"
     ]
    },
    {
     "name": "stdout",
     "output_type": "stream",
     "text": [
      "Epoch 95/200 Train CP --> Loss: 0.0079, AUC: 0.9938, Acc: 0.6343, F1: 0.7320\n"
     ]
    },
    {
     "name": "stderr",
     "output_type": "stream",
     "text": [
      "Valid CP Epoch 95/200: 100%|██████████| 313/313 [00:02<00:00, 156.30it/s, loss=0.135]   \n"
     ]
    },
    {
     "name": "stdout",
     "output_type": "stream",
     "text": [
      "Epoch 95/200 Valid CP --> Loss: 0.0488, AUC: 0.9303, Acc: 0.5387, F1: 0.6822\n",
      "Checkpoint saved at /home/ia/Documentos/TFG_Lara/TransformingFashion/checkpoints/compatibility_clip/epoch_95.pth\n"
     ]
    },
    {
     "name": "stderr",
     "output_type": "stream",
     "text": [
      "Train CP Epoch 96/200: 100%|██████████| 3332/3332 [00:29<00:00, 113.82it/s, loss=0.000411]\n"
     ]
    },
    {
     "name": "stdout",
     "output_type": "stream",
     "text": [
      "Epoch 96/200 Train CP --> Loss: 0.0076, AUC: 0.9939, Acc: 0.6323, F1: 0.7309\n"
     ]
    },
    {
     "name": "stderr",
     "output_type": "stream",
     "text": [
      "Valid CP Epoch 96/200: 100%|██████████| 313/313 [00:01<00:00, 184.21it/s, loss=0.112]  \n"
     ]
    },
    {
     "name": "stdout",
     "output_type": "stream",
     "text": [
      "Epoch 96/200 Valid CP --> Loss: 0.0504, AUC: 0.9279, Acc: 0.5112, F1: 0.6708\n",
      "Checkpoint saved at /home/ia/Documentos/TFG_Lara/TransformingFashion/checkpoints/compatibility_clip/epoch_96.pth\n"
     ]
    },
    {
     "name": "stderr",
     "output_type": "stream",
     "text": [
      "Train CP Epoch 97/200: 100%|██████████| 3332/3332 [00:30<00:00, 109.26it/s, loss=0.000787]\n"
     ]
    },
    {
     "name": "stdout",
     "output_type": "stream",
     "text": [
      "Epoch 97/200 Train CP --> Loss: 0.0075, AUC: 0.9938, Acc: 0.6323, F1: 0.7308\n"
     ]
    },
    {
     "name": "stderr",
     "output_type": "stream",
     "text": [
      "Valid CP Epoch 97/200: 100%|██████████| 313/313 [00:01<00:00, 183.96it/s, loss=0.131]  \n"
     ]
    },
    {
     "name": "stdout",
     "output_type": "stream",
     "text": [
      "Epoch 97/200 Valid CP --> Loss: 0.0497, AUC: 0.9274, Acc: 0.5068, F1: 0.6687\n",
      "Checkpoint saved at /home/ia/Documentos/TFG_Lara/TransformingFashion/checkpoints/compatibility_clip/epoch_97.pth\n"
     ]
    },
    {
     "name": "stderr",
     "output_type": "stream",
     "text": [
      "Train CP Epoch 98/200: 100%|██████████| 3332/3332 [00:28<00:00, 116.55it/s, loss=0.00271] \n"
     ]
    },
    {
     "name": "stdout",
     "output_type": "stream",
     "text": [
      "Epoch 98/200 Train CP --> Loss: 0.0072, AUC: 0.9944, Acc: 0.6371, F1: 0.7335\n"
     ]
    },
    {
     "name": "stderr",
     "output_type": "stream",
     "text": [
      "Valid CP Epoch 98/200: 100%|██████████| 313/313 [00:01<00:00, 165.05it/s, loss=0.128]  \n"
     ]
    },
    {
     "name": "stdout",
     "output_type": "stream",
     "text": [
      "Epoch 98/200 Valid CP --> Loss: 0.0507, AUC: 0.9274, Acc: 0.5129, F1: 0.6714\n",
      "Checkpoint saved at /home/ia/Documentos/TFG_Lara/TransformingFashion/checkpoints/compatibility_clip/epoch_98.pth\n"
     ]
    },
    {
     "name": "stderr",
     "output_type": "stream",
     "text": [
      "Train CP Epoch 99/200: 100%|██████████| 3332/3332 [00:29<00:00, 114.25it/s, loss=0.00506] \n"
     ]
    },
    {
     "name": "stdout",
     "output_type": "stream",
     "text": [
      "Epoch 99/200 Train CP --> Loss: 0.0071, AUC: 0.9946, Acc: 0.6350, F1: 0.7324\n"
     ]
    },
    {
     "name": "stderr",
     "output_type": "stream",
     "text": [
      "Valid CP Epoch 99/200: 100%|██████████| 313/313 [00:02<00:00, 138.63it/s, loss=0.13]    \n"
     ]
    },
    {
     "name": "stdout",
     "output_type": "stream",
     "text": [
      "Epoch 99/200 Valid CP --> Loss: 0.0512, AUC: 0.9275, Acc: 0.5550, F1: 0.6898\n",
      "Checkpoint saved at /home/ia/Documentos/TFG_Lara/TransformingFashion/checkpoints/compatibility_clip/epoch_99.pth\n"
     ]
    },
    {
     "name": "stderr",
     "output_type": "stream",
     "text": [
      "Train CP Epoch 100/200: 100%|██████████| 3332/3332 [00:29<00:00, 113.60it/s, loss=0.0176]  \n"
     ]
    },
    {
     "name": "stdout",
     "output_type": "stream",
     "text": [
      "Epoch 100/200 Train CP --> Loss: 0.0070, AUC: 0.9947, Acc: 0.6352, F1: 0.7325\n"
     ]
    },
    {
     "name": "stderr",
     "output_type": "stream",
     "text": [
      "Valid CP Epoch 100/200: 100%|██████████| 313/313 [00:02<00:00, 155.99it/s, loss=0.0538]  \n"
     ]
    },
    {
     "name": "stdout",
     "output_type": "stream",
     "text": [
      "Epoch 100/200 Valid CP --> Loss: 0.0479, AUC: 0.9296, Acc: 0.5377, F1: 0.6815\n",
      "Checkpoint saved at /home/ia/Documentos/TFG_Lara/TransformingFashion/checkpoints/compatibility_clip/epoch_100.pth\n"
     ]
    },
    {
     "name": "stderr",
     "output_type": "stream",
     "text": [
      "Train CP Epoch 101/200: 100%|██████████| 3332/3332 [00:28<00:00, 115.38it/s, loss=0.00172] \n"
     ]
    },
    {
     "name": "stdout",
     "output_type": "stream",
     "text": [
      "Epoch 101/200 Train CP --> Loss: 0.0069, AUC: 0.9947, Acc: 0.6335, F1: 0.7316\n"
     ]
    },
    {
     "name": "stderr",
     "output_type": "stream",
     "text": [
      "Valid CP Epoch 101/200: 100%|██████████| 313/313 [00:02<00:00, 151.91it/s, loss=0.0761] \n"
     ]
    },
    {
     "name": "stdout",
     "output_type": "stream",
     "text": [
      "Epoch 101/200 Valid CP --> Loss: 0.0489, AUC: 0.9277, Acc: 0.5636, F1: 0.6931\n",
      "Checkpoint saved at /home/ia/Documentos/TFG_Lara/TransformingFashion/checkpoints/compatibility_clip/epoch_101.pth\n"
     ]
    },
    {
     "name": "stderr",
     "output_type": "stream",
     "text": [
      "Train CP Epoch 102/200: 100%|██████████| 3332/3332 [00:28<00:00, 115.78it/s, loss=0.000316]\n"
     ]
    },
    {
     "name": "stdout",
     "output_type": "stream",
     "text": [
      "Epoch 102/200 Train CP --> Loss: 0.0066, AUC: 0.9950, Acc: 0.6376, F1: 0.7338\n"
     ]
    },
    {
     "name": "stderr",
     "output_type": "stream",
     "text": [
      "Valid CP Epoch 102/200: 100%|██████████| 313/313 [00:01<00:00, 178.23it/s, loss=0.096]   \n"
     ]
    },
    {
     "name": "stdout",
     "output_type": "stream",
     "text": [
      "Epoch 102/200 Valid CP --> Loss: 0.0528, AUC: 0.9234, Acc: 0.5342, F1: 0.6803\n",
      "Checkpoint saved at /home/ia/Documentos/TFG_Lara/TransformingFashion/checkpoints/compatibility_clip/epoch_102.pth\n"
     ]
    },
    {
     "name": "stderr",
     "output_type": "stream",
     "text": [
      "Train CP Epoch 103/200: 100%|██████████| 3332/3332 [00:29<00:00, 112.85it/s, loss=0.00225] \n"
     ]
    },
    {
     "name": "stdout",
     "output_type": "stream",
     "text": [
      "Epoch 103/200 Train CP --> Loss: 0.0065, AUC: 0.9952, Acc: 0.6378, F1: 0.7339\n"
     ]
    },
    {
     "name": "stderr",
     "output_type": "stream",
     "text": [
      "Valid CP Epoch 103/200: 100%|██████████| 313/313 [00:01<00:00, 180.33it/s, loss=0.0883]  \n"
     ]
    },
    {
     "name": "stdout",
     "output_type": "stream",
     "text": [
      "Epoch 103/200 Valid CP --> Loss: 0.0517, AUC: 0.9280, Acc: 0.5402, F1: 0.6829\n",
      "Checkpoint saved at /home/ia/Documentos/TFG_Lara/TransformingFashion/checkpoints/compatibility_clip/epoch_103.pth\n"
     ]
    },
    {
     "name": "stderr",
     "output_type": "stream",
     "text": [
      "Train CP Epoch 104/200: 100%|██████████| 3332/3332 [00:29<00:00, 114.36it/s, loss=0.00185] \n"
     ]
    },
    {
     "name": "stdout",
     "output_type": "stream",
     "text": [
      "Epoch 104/200 Train CP --> Loss: 0.0064, AUC: 0.9951, Acc: 0.6377, F1: 0.7338\n"
     ]
    },
    {
     "name": "stderr",
     "output_type": "stream",
     "text": [
      "Valid CP Epoch 104/200: 100%|██████████| 313/313 [00:01<00:00, 172.63it/s, loss=0.0896]  \n"
     ]
    },
    {
     "name": "stdout",
     "output_type": "stream",
     "text": [
      "Epoch 104/200 Valid CP --> Loss: 0.0497, AUC: 0.9282, Acc: 0.5459, F1: 0.6848\n",
      "Checkpoint saved at /home/ia/Documentos/TFG_Lara/TransformingFashion/checkpoints/compatibility_clip/epoch_104.pth\n"
     ]
    },
    {
     "name": "stderr",
     "output_type": "stream",
     "text": [
      "Train CP Epoch 105/200: 100%|██████████| 3332/3332 [00:29<00:00, 112.51it/s, loss=0.0507]  \n"
     ]
    },
    {
     "name": "stdout",
     "output_type": "stream",
     "text": [
      "Epoch 105/200 Train CP --> Loss: 0.0063, AUC: 0.9950, Acc: 0.6333, F1: 0.7314\n"
     ]
    },
    {
     "name": "stderr",
     "output_type": "stream",
     "text": [
      "Valid CP Epoch 105/200: 100%|██████████| 313/313 [00:02<00:00, 142.30it/s, loss=0.122]   \n"
     ]
    },
    {
     "name": "stdout",
     "output_type": "stream",
     "text": [
      "Epoch 105/200 Valid CP --> Loss: 0.0510, AUC: 0.9300, Acc: 0.5437, F1: 0.6845\n",
      "Checkpoint saved at /home/ia/Documentos/TFG_Lara/TransformingFashion/checkpoints/compatibility_clip/epoch_105.pth\n"
     ]
    },
    {
     "name": "stderr",
     "output_type": "stream",
     "text": [
      "Train CP Epoch 106/200: 100%|██████████| 3332/3332 [00:30<00:00, 110.67it/s, loss=0.0002]  \n"
     ]
    },
    {
     "name": "stdout",
     "output_type": "stream",
     "text": [
      "Epoch 106/200 Train CP --> Loss: 0.0062, AUC: 0.9953, Acc: 0.6372, F1: 0.7336\n"
     ]
    },
    {
     "name": "stderr",
     "output_type": "stream",
     "text": [
      "Valid CP Epoch 106/200: 100%|██████████| 313/313 [00:01<00:00, 165.82it/s, loss=0.0941] \n"
     ]
    },
    {
     "name": "stdout",
     "output_type": "stream",
     "text": [
      "Epoch 106/200 Valid CP --> Loss: 0.0519, AUC: 0.9274, Acc: 0.5370, F1: 0.6813\n",
      "Checkpoint saved at /home/ia/Documentos/TFG_Lara/TransformingFashion/checkpoints/compatibility_clip/epoch_106.pth\n"
     ]
    },
    {
     "name": "stderr",
     "output_type": "stream",
     "text": [
      "Train CP Epoch 107/200: 100%|██████████| 3332/3332 [00:29<00:00, 114.15it/s, loss=0.0217]  \n"
     ]
    },
    {
     "name": "stdout",
     "output_type": "stream",
     "text": [
      "Epoch 107/200 Train CP --> Loss: 0.0058, AUC: 0.9958, Acc: 0.6392, F1: 0.7347\n"
     ]
    },
    {
     "name": "stderr",
     "output_type": "stream",
     "text": [
      "Valid CP Epoch 107/200: 100%|██████████| 313/313 [00:01<00:00, 171.65it/s, loss=0.0957]  \n"
     ]
    },
    {
     "name": "stdout",
     "output_type": "stream",
     "text": [
      "Epoch 107/200 Valid CP --> Loss: 0.0551, AUC: 0.9250, Acc: 0.5868, F1: 0.7045\n",
      "Checkpoint saved at /home/ia/Documentos/TFG_Lara/TransformingFashion/checkpoints/compatibility_clip/epoch_107.pth\n"
     ]
    },
    {
     "name": "stderr",
     "output_type": "stream",
     "text": [
      "Train CP Epoch 108/200: 100%|██████████| 3332/3332 [00:29<00:00, 113.41it/s, loss=0.000771]\n"
     ]
    },
    {
     "name": "stdout",
     "output_type": "stream",
     "text": [
      "Epoch 108/200 Train CP --> Loss: 0.0059, AUC: 0.9954, Acc: 0.6339, F1: 0.7318\n"
     ]
    },
    {
     "name": "stderr",
     "output_type": "stream",
     "text": [
      "Valid CP Epoch 108/200: 100%|██████████| 313/313 [00:02<00:00, 146.91it/s, loss=0.0952] \n"
     ]
    },
    {
     "name": "stdout",
     "output_type": "stream",
     "text": [
      "Epoch 108/200 Valid CP --> Loss: 0.0508, AUC: 0.9254, Acc: 0.5156, F1: 0.6718\n",
      "Checkpoint saved at /home/ia/Documentos/TFG_Lara/TransformingFashion/checkpoints/compatibility_clip/epoch_108.pth\n"
     ]
    },
    {
     "name": "stderr",
     "output_type": "stream",
     "text": [
      "Train CP Epoch 109/200: 100%|██████████| 3332/3332 [00:30<00:00, 110.89it/s, loss=0.00513] \n"
     ]
    },
    {
     "name": "stdout",
     "output_type": "stream",
     "text": [
      "Epoch 109/200 Train CP --> Loss: 0.0058, AUC: 0.9957, Acc: 0.6334, F1: 0.7316\n"
     ]
    },
    {
     "name": "stderr",
     "output_type": "stream",
     "text": [
      "Valid CP Epoch 109/200: 100%|██████████| 313/313 [00:01<00:00, 168.90it/s, loss=0.0603]  \n"
     ]
    },
    {
     "name": "stdout",
     "output_type": "stream",
     "text": [
      "Epoch 109/200 Valid CP --> Loss: 0.0496, AUC: 0.9267, Acc: 0.6390, F1: 0.7302\n",
      "Checkpoint saved at /home/ia/Documentos/TFG_Lara/TransformingFashion/checkpoints/compatibility_clip/epoch_109.pth\n"
     ]
    },
    {
     "name": "stderr",
     "output_type": "stream",
     "text": [
      "Train CP Epoch 110/200: 100%|██████████| 3332/3332 [00:29<00:00, 113.64it/s, loss=0.00606] \n"
     ]
    },
    {
     "name": "stdout",
     "output_type": "stream",
     "text": [
      "Epoch 110/200 Train CP --> Loss: 0.0056, AUC: 0.9959, Acc: 0.6368, F1: 0.7334\n"
     ]
    },
    {
     "name": "stderr",
     "output_type": "stream",
     "text": [
      "Valid CP Epoch 110/200: 100%|██████████| 313/313 [00:01<00:00, 163.10it/s, loss=0.103]   \n"
     ]
    },
    {
     "name": "stdout",
     "output_type": "stream",
     "text": [
      "Epoch 110/200 Valid CP --> Loss: 0.0538, AUC: 0.9246, Acc: 0.5154, F1: 0.6721\n",
      "Checkpoint saved at /home/ia/Documentos/TFG_Lara/TransformingFashion/checkpoints/compatibility_clip/epoch_110.pth\n"
     ]
    },
    {
     "name": "stderr",
     "output_type": "stream",
     "text": [
      "Train CP Epoch 111/200: 100%|██████████| 3332/3332 [00:29<00:00, 114.19it/s, loss=0.00644] \n"
     ]
    },
    {
     "name": "stdout",
     "output_type": "stream",
     "text": [
      "Epoch 111/200 Train CP --> Loss: 0.0055, AUC: 0.9959, Acc: 0.6382, F1: 0.7341\n"
     ]
    },
    {
     "name": "stderr",
     "output_type": "stream",
     "text": [
      "Valid CP Epoch 111/200: 100%|██████████| 313/313 [00:01<00:00, 185.97it/s, loss=0.0871]  \n"
     ]
    },
    {
     "name": "stdout",
     "output_type": "stream",
     "text": [
      "Epoch 111/200 Valid CP --> Loss: 0.0496, AUC: 0.9248, Acc: 0.5180, F1: 0.6727\n",
      "Checkpoint saved at /home/ia/Documentos/TFG_Lara/TransformingFashion/checkpoints/compatibility_clip/epoch_111.pth\n"
     ]
    },
    {
     "name": "stderr",
     "output_type": "stream",
     "text": [
      "Train CP Epoch 112/200: 100%|██████████| 3332/3332 [00:29<00:00, 111.82it/s, loss=0.0168]  \n"
     ]
    },
    {
     "name": "stdout",
     "output_type": "stream",
     "text": [
      "Epoch 112/200 Train CP --> Loss: 0.0055, AUC: 0.9959, Acc: 0.6364, F1: 0.7332\n"
     ]
    },
    {
     "name": "stderr",
     "output_type": "stream",
     "text": [
      "Valid CP Epoch 112/200: 100%|██████████| 313/313 [00:01<00:00, 181.63it/s, loss=0.135]  \n"
     ]
    },
    {
     "name": "stdout",
     "output_type": "stream",
     "text": [
      "Epoch 112/200 Valid CP --> Loss: 0.0552, AUC: 0.9254, Acc: 0.5253, F1: 0.6761\n",
      "Checkpoint saved at /home/ia/Documentos/TFG_Lara/TransformingFashion/checkpoints/compatibility_clip/epoch_112.pth\n"
     ]
    },
    {
     "name": "stderr",
     "output_type": "stream",
     "text": [
      "Train CP Epoch 113/200: 100%|██████████| 3332/3332 [00:29<00:00, 112.38it/s, loss=0.000938]\n"
     ]
    },
    {
     "name": "stdout",
     "output_type": "stream",
     "text": [
      "Epoch 113/200 Train CP --> Loss: 0.0052, AUC: 0.9962, Acc: 0.6381, F1: 0.7341\n"
     ]
    },
    {
     "name": "stderr",
     "output_type": "stream",
     "text": [
      "Valid CP Epoch 113/200: 100%|██████████| 313/313 [00:01<00:00, 168.11it/s, loss=0.104]   \n"
     ]
    },
    {
     "name": "stdout",
     "output_type": "stream",
     "text": [
      "Epoch 113/200 Valid CP --> Loss: 0.0509, AUC: 0.9278, Acc: 0.5468, F1: 0.6860\n",
      "Checkpoint saved at /home/ia/Documentos/TFG_Lara/TransformingFashion/checkpoints/compatibility_clip/epoch_113.pth\n"
     ]
    },
    {
     "name": "stderr",
     "output_type": "stream",
     "text": [
      "Train CP Epoch 114/200: 100%|██████████| 3332/3332 [00:30<00:00, 110.12it/s, loss=0.00695] \n"
     ]
    },
    {
     "name": "stdout",
     "output_type": "stream",
     "text": [
      "Epoch 114/200 Train CP --> Loss: 0.0052, AUC: 0.9962, Acc: 0.6371, F1: 0.7336\n"
     ]
    },
    {
     "name": "stderr",
     "output_type": "stream",
     "text": [
      "Valid CP Epoch 114/200: 100%|██████████| 313/313 [00:01<00:00, 175.95it/s, loss=0.084]   \n"
     ]
    },
    {
     "name": "stdout",
     "output_type": "stream",
     "text": [
      "Epoch 114/200 Valid CP --> Loss: 0.0492, AUC: 0.9231, Acc: 0.5335, F1: 0.6784\n",
      "Checkpoint saved at /home/ia/Documentos/TFG_Lara/TransformingFashion/checkpoints/compatibility_clip/epoch_114.pth\n"
     ]
    },
    {
     "name": "stderr",
     "output_type": "stream",
     "text": [
      "Train CP Epoch 115/200: 100%|██████████| 3332/3332 [00:27<00:00, 119.36it/s, loss=9.41e-5] \n"
     ]
    },
    {
     "name": "stdout",
     "output_type": "stream",
     "text": [
      "Epoch 115/200 Train CP --> Loss: 0.0050, AUC: 0.9963, Acc: 0.6397, F1: 0.7349\n"
     ]
    },
    {
     "name": "stderr",
     "output_type": "stream",
     "text": [
      "Valid CP Epoch 115/200: 100%|██████████| 313/313 [00:01<00:00, 162.88it/s, loss=0.0868]  \n"
     ]
    },
    {
     "name": "stdout",
     "output_type": "stream",
     "text": [
      "Epoch 115/200 Valid CP --> Loss: 0.0525, AUC: 0.9241, Acc: 0.5295, F1: 0.6775\n",
      "Checkpoint saved at /home/ia/Documentos/TFG_Lara/TransformingFashion/checkpoints/compatibility_clip/epoch_115.pth\n"
     ]
    },
    {
     "name": "stderr",
     "output_type": "stream",
     "text": [
      "Train CP Epoch 116/200: 100%|██████████| 3332/3332 [00:30<00:00, 109.42it/s, loss=0.0174]  \n"
     ]
    },
    {
     "name": "stdout",
     "output_type": "stream",
     "text": [
      "Epoch 116/200 Train CP --> Loss: 0.0051, AUC: 0.9962, Acc: 0.6361, F1: 0.7331\n"
     ]
    },
    {
     "name": "stderr",
     "output_type": "stream",
     "text": [
      "Valid CP Epoch 116/200: 100%|██████████| 313/313 [00:02<00:00, 154.79it/s, loss=0.0642]  \n"
     ]
    },
    {
     "name": "stdout",
     "output_type": "stream",
     "text": [
      "Epoch 116/200 Valid CP --> Loss: 0.0500, AUC: 0.9231, Acc: 0.5448, F1: 0.6829\n",
      "Checkpoint saved at /home/ia/Documentos/TFG_Lara/TransformingFashion/checkpoints/compatibility_clip/epoch_116.pth\n"
     ]
    },
    {
     "name": "stderr",
     "output_type": "stream",
     "text": [
      "Train CP Epoch 117/200: 100%|██████████| 3332/3332 [00:28<00:00, 115.49it/s, loss=0.0186]  \n"
     ]
    },
    {
     "name": "stdout",
     "output_type": "stream",
     "text": [
      "Epoch 117/200 Train CP --> Loss: 0.0048, AUC: 0.9963, Acc: 0.6399, F1: 0.7351\n"
     ]
    },
    {
     "name": "stderr",
     "output_type": "stream",
     "text": [
      "Valid CP Epoch 117/200: 100%|██████████| 313/313 [00:01<00:00, 170.73it/s, loss=0.0686]  \n"
     ]
    },
    {
     "name": "stdout",
     "output_type": "stream",
     "text": [
      "Epoch 117/200 Valid CP --> Loss: 0.0521, AUC: 0.9213, Acc: 0.5294, F1: 0.6769\n",
      "Checkpoint saved at /home/ia/Documentos/TFG_Lara/TransformingFashion/checkpoints/compatibility_clip/epoch_117.pth\n"
     ]
    },
    {
     "name": "stderr",
     "output_type": "stream",
     "text": [
      "Train CP Epoch 118/200: 100%|██████████| 3332/3332 [00:29<00:00, 112.77it/s, loss=0.0235]  \n"
     ]
    },
    {
     "name": "stdout",
     "output_type": "stream",
     "text": [
      "Epoch 118/200 Train CP --> Loss: 0.0047, AUC: 0.9964, Acc: 0.6366, F1: 0.7333\n"
     ]
    },
    {
     "name": "stderr",
     "output_type": "stream",
     "text": [
      "Valid CP Epoch 118/200: 100%|██████████| 313/313 [00:01<00:00, 167.70it/s, loss=0.0684]  \n"
     ]
    },
    {
     "name": "stdout",
     "output_type": "stream",
     "text": [
      "Epoch 118/200 Valid CP --> Loss: 0.0524, AUC: 0.9224, Acc: 0.5293, F1: 0.6773\n",
      "Checkpoint saved at /home/ia/Documentos/TFG_Lara/TransformingFashion/checkpoints/compatibility_clip/epoch_118.pth\n"
     ]
    },
    {
     "name": "stderr",
     "output_type": "stream",
     "text": [
      "Train CP Epoch 119/200: 100%|██████████| 3332/3332 [00:29<00:00, 113.97it/s, loss=0.0173]  \n"
     ]
    },
    {
     "name": "stdout",
     "output_type": "stream",
     "text": [
      "Epoch 119/200 Train CP --> Loss: 0.0048, AUC: 0.9962, Acc: 0.6300, F1: 0.7298\n"
     ]
    },
    {
     "name": "stderr",
     "output_type": "stream",
     "text": [
      "Valid CP Epoch 119/200: 100%|██████████| 313/313 [00:01<00:00, 173.01it/s, loss=0.128]  \n"
     ]
    },
    {
     "name": "stdout",
     "output_type": "stream",
     "text": [
      "Epoch 119/200 Valid CP --> Loss: 0.0562, AUC: 0.9264, Acc: 0.5775, F1: 0.6994\n",
      "Checkpoint saved at /home/ia/Documentos/TFG_Lara/TransformingFashion/checkpoints/compatibility_clip/epoch_119.pth\n"
     ]
    },
    {
     "name": "stderr",
     "output_type": "stream",
     "text": [
      "Train CP Epoch 120/200: 100%|██████████| 3332/3332 [00:29<00:00, 112.84it/s, loss=0.0094]  \n"
     ]
    },
    {
     "name": "stdout",
     "output_type": "stream",
     "text": [
      "Epoch 120/200 Train CP --> Loss: 0.0045, AUC: 0.9964, Acc: 0.6336, F1: 0.7317\n"
     ]
    },
    {
     "name": "stderr",
     "output_type": "stream",
     "text": [
      "Valid CP Epoch 120/200: 100%|██████████| 313/313 [00:02<00:00, 152.47it/s, loss=0.129]  \n"
     ]
    },
    {
     "name": "stdout",
     "output_type": "stream",
     "text": [
      "Epoch 120/200 Valid CP --> Loss: 0.0507, AUC: 0.9220, Acc: 0.5978, F1: 0.7077\n",
      "Checkpoint saved at /home/ia/Documentos/TFG_Lara/TransformingFashion/checkpoints/compatibility_clip/epoch_120.pth\n"
     ]
    },
    {
     "name": "stderr",
     "output_type": "stream",
     "text": [
      "Train CP Epoch 121/200: 100%|██████████| 3332/3332 [00:29<00:00, 112.91it/s, loss=0.00025] \n"
     ]
    },
    {
     "name": "stdout",
     "output_type": "stream",
     "text": [
      "Epoch 121/200 Train CP --> Loss: 0.0045, AUC: 0.9965, Acc: 0.6354, F1: 0.7327\n"
     ]
    },
    {
     "name": "stderr",
     "output_type": "stream",
     "text": [
      "Valid CP Epoch 121/200: 100%|██████████| 313/313 [00:01<00:00, 170.82it/s, loss=0.151]   \n"
     ]
    },
    {
     "name": "stdout",
     "output_type": "stream",
     "text": [
      "Epoch 121/200 Valid CP --> Loss: 0.0548, AUC: 0.9227, Acc: 0.5130, F1: 0.6711\n",
      "Checkpoint saved at /home/ia/Documentos/TFG_Lara/TransformingFashion/checkpoints/compatibility_clip/epoch_121.pth\n"
     ]
    },
    {
     "name": "stderr",
     "output_type": "stream",
     "text": [
      "Train CP Epoch 122/200: 100%|██████████| 3332/3332 [00:29<00:00, 111.14it/s, loss=0.0208]  \n"
     ]
    },
    {
     "name": "stdout",
     "output_type": "stream",
     "text": [
      "Epoch 122/200 Train CP --> Loss: 0.0045, AUC: 0.9967, Acc: 0.6308, F1: 0.7302\n"
     ]
    },
    {
     "name": "stderr",
     "output_type": "stream",
     "text": [
      "Valid CP Epoch 122/200: 100%|██████████| 313/313 [00:02<00:00, 156.15it/s, loss=0.0975] \n"
     ]
    },
    {
     "name": "stdout",
     "output_type": "stream",
     "text": [
      "Epoch 122/200 Valid CP --> Loss: 0.0539, AUC: 0.9245, Acc: 0.5293, F1: 0.6776\n",
      "Checkpoint saved at /home/ia/Documentos/TFG_Lara/TransformingFashion/checkpoints/compatibility_clip/epoch_122.pth\n"
     ]
    },
    {
     "name": "stderr",
     "output_type": "stream",
     "text": [
      "Train CP Epoch 123/200: 100%|██████████| 3332/3332 [00:29<00:00, 112.04it/s, loss=0.00125] \n"
     ]
    },
    {
     "name": "stdout",
     "output_type": "stream",
     "text": [
      "Epoch 123/200 Train CP --> Loss: 0.0044, AUC: 0.9967, Acc: 0.6307, F1: 0.7302\n"
     ]
    },
    {
     "name": "stderr",
     "output_type": "stream",
     "text": [
      "Valid CP Epoch 123/200: 100%|██████████| 313/313 [00:01<00:00, 171.93it/s, loss=0.14]   \n"
     ]
    },
    {
     "name": "stdout",
     "output_type": "stream",
     "text": [
      "Epoch 123/200 Valid CP --> Loss: 0.0565, AUC: 0.9234, Acc: 0.5397, F1: 0.6826\n",
      "Checkpoint saved at /home/ia/Documentos/TFG_Lara/TransformingFashion/checkpoints/compatibility_clip/epoch_123.pth\n"
     ]
    },
    {
     "name": "stderr",
     "output_type": "stream",
     "text": [
      "Train CP Epoch 124/200: 100%|██████████| 3332/3332 [00:29<00:00, 112.45it/s, loss=0.000424]\n"
     ]
    },
    {
     "name": "stdout",
     "output_type": "stream",
     "text": [
      "Epoch 124/200 Train CP --> Loss: 0.0044, AUC: 0.9966, Acc: 0.6370, F1: 0.7336\n"
     ]
    },
    {
     "name": "stderr",
     "output_type": "stream",
     "text": [
      "Valid CP Epoch 124/200: 100%|██████████| 313/313 [00:01<00:00, 167.16it/s, loss=0.0869] \n"
     ]
    },
    {
     "name": "stdout",
     "output_type": "stream",
     "text": [
      "Epoch 124/200 Valid CP --> Loss: 0.0533, AUC: 0.9237, Acc: 0.5412, F1: 0.6821\n",
      "Checkpoint saved at /home/ia/Documentos/TFG_Lara/TransformingFashion/checkpoints/compatibility_clip/epoch_124.pth\n"
     ]
    },
    {
     "name": "stderr",
     "output_type": "stream",
     "text": [
      "Train CP Epoch 125/200: 100%|██████████| 3332/3332 [00:29<00:00, 111.97it/s, loss=0.000239]\n"
     ]
    },
    {
     "name": "stdout",
     "output_type": "stream",
     "text": [
      "Epoch 125/200 Train CP --> Loss: 0.0043, AUC: 0.9967, Acc: 0.6320, F1: 0.7308\n"
     ]
    },
    {
     "name": "stderr",
     "output_type": "stream",
     "text": [
      "Valid CP Epoch 125/200: 100%|██████████| 313/313 [00:01<00:00, 159.85it/s, loss=0.0687]  \n"
     ]
    },
    {
     "name": "stdout",
     "output_type": "stream",
     "text": [
      "Epoch 125/200 Valid CP --> Loss: 0.0502, AUC: 0.9207, Acc: 0.5842, F1: 0.7015\n",
      "Checkpoint saved at /home/ia/Documentos/TFG_Lara/TransformingFashion/checkpoints/compatibility_clip/epoch_125.pth\n"
     ]
    },
    {
     "name": "stderr",
     "output_type": "stream",
     "text": [
      "Train CP Epoch 126/200: 100%|██████████| 3332/3332 [00:24<00:00, 133.98it/s, loss=0.000278]\n"
     ]
    },
    {
     "name": "stdout",
     "output_type": "stream",
     "text": [
      "Epoch 126/200 Train CP --> Loss: 0.0041, AUC: 0.9969, Acc: 0.6391, F1: 0.7347\n"
     ]
    },
    {
     "name": "stderr",
     "output_type": "stream",
     "text": [
      "Valid CP Epoch 126/200: 100%|██████████| 313/313 [00:01<00:00, 164.31it/s, loss=0.134]  \n"
     ]
    },
    {
     "name": "stdout",
     "output_type": "stream",
     "text": [
      "Epoch 126/200 Valid CP --> Loss: 0.0550, AUC: 0.9196, Acc: 0.5579, F1: 0.6897\n",
      "Checkpoint saved at /home/ia/Documentos/TFG_Lara/TransformingFashion/checkpoints/compatibility_clip/epoch_126.pth\n"
     ]
    },
    {
     "name": "stderr",
     "output_type": "stream",
     "text": [
      "Train CP Epoch 127/200: 100%|██████████| 3332/3332 [00:26<00:00, 127.50it/s, loss=0.000812]\n"
     ]
    },
    {
     "name": "stdout",
     "output_type": "stream",
     "text": [
      "Epoch 127/200 Train CP --> Loss: 0.0041, AUC: 0.9968, Acc: 0.6358, F1: 0.7329\n"
     ]
    },
    {
     "name": "stderr",
     "output_type": "stream",
     "text": [
      "Valid CP Epoch 127/200: 100%|██████████| 313/313 [00:01<00:00, 186.03it/s, loss=0.118]  \n"
     ]
    },
    {
     "name": "stdout",
     "output_type": "stream",
     "text": [
      "Epoch 127/200 Valid CP --> Loss: 0.0536, AUC: 0.9221, Acc: 0.5889, F1: 0.7038\n",
      "Checkpoint saved at /home/ia/Documentos/TFG_Lara/TransformingFashion/checkpoints/compatibility_clip/epoch_127.pth\n"
     ]
    },
    {
     "name": "stderr",
     "output_type": "stream",
     "text": [
      "Train CP Epoch 128/200: 100%|██████████| 3332/3332 [00:25<00:00, 128.85it/s, loss=0.00257] \n"
     ]
    },
    {
     "name": "stdout",
     "output_type": "stream",
     "text": [
      "Epoch 128/200 Train CP --> Loss: 0.0040, AUC: 0.9969, Acc: 0.6353, F1: 0.7326\n"
     ]
    },
    {
     "name": "stderr",
     "output_type": "stream",
     "text": [
      "Valid CP Epoch 128/200: 100%|██████████| 313/313 [00:01<00:00, 198.30it/s, loss=0.123]  \n"
     ]
    },
    {
     "name": "stdout",
     "output_type": "stream",
     "text": [
      "Epoch 128/200 Valid CP --> Loss: 0.0547, AUC: 0.9199, Acc: 0.5197, F1: 0.6728\n",
      "Checkpoint saved at /home/ia/Documentos/TFG_Lara/TransformingFashion/checkpoints/compatibility_clip/epoch_128.pth\n"
     ]
    },
    {
     "name": "stderr",
     "output_type": "stream",
     "text": [
      "Train CP Epoch 129/200: 100%|██████████| 3332/3332 [00:25<00:00, 131.62it/s, loss=0.00022] \n"
     ]
    },
    {
     "name": "stdout",
     "output_type": "stream",
     "text": [
      "Epoch 129/200 Train CP --> Loss: 0.0039, AUC: 0.9969, Acc: 0.6360, F1: 0.7330\n"
     ]
    },
    {
     "name": "stderr",
     "output_type": "stream",
     "text": [
      "Valid CP Epoch 129/200: 100%|██████████| 313/313 [00:01<00:00, 183.60it/s, loss=0.114]   \n"
     ]
    },
    {
     "name": "stdout",
     "output_type": "stream",
     "text": [
      "Epoch 129/200 Valid CP --> Loss: 0.0551, AUC: 0.9218, Acc: 0.5496, F1: 0.6859\n",
      "Checkpoint saved at /home/ia/Documentos/TFG_Lara/TransformingFashion/checkpoints/compatibility_clip/epoch_129.pth\n"
     ]
    },
    {
     "name": "stderr",
     "output_type": "stream",
     "text": [
      "Train CP Epoch 130/200: 100%|██████████| 3332/3332 [00:26<00:00, 127.97it/s, loss=0.000308]\n"
     ]
    },
    {
     "name": "stdout",
     "output_type": "stream",
     "text": [
      "Epoch 130/200 Train CP --> Loss: 0.0039, AUC: 0.9969, Acc: 0.6294, F1: 0.7295\n"
     ]
    },
    {
     "name": "stderr",
     "output_type": "stream",
     "text": [
      "Valid CP Epoch 130/200: 100%|██████████| 313/313 [00:01<00:00, 189.16it/s, loss=0.113]   \n"
     ]
    },
    {
     "name": "stdout",
     "output_type": "stream",
     "text": [
      "Epoch 130/200 Valid CP --> Loss: 0.0556, AUC: 0.9208, Acc: 0.6032, F1: 0.7114\n",
      "Checkpoint saved at /home/ia/Documentos/TFG_Lara/TransformingFashion/checkpoints/compatibility_clip/epoch_130.pth\n"
     ]
    },
    {
     "name": "stderr",
     "output_type": "stream",
     "text": [
      "Train CP Epoch 131/200: 100%|██████████| 3332/3332 [00:26<00:00, 127.03it/s, loss=0.00149] \n"
     ]
    },
    {
     "name": "stdout",
     "output_type": "stream",
     "text": [
      "Epoch 131/200 Train CP --> Loss: 0.0038, AUC: 0.9970, Acc: 0.6347, F1: 0.7323\n"
     ]
    },
    {
     "name": "stderr",
     "output_type": "stream",
     "text": [
      "Valid CP Epoch 131/200: 100%|██████████| 313/313 [00:01<00:00, 190.34it/s, loss=0.0955]  \n"
     ]
    },
    {
     "name": "stdout",
     "output_type": "stream",
     "text": [
      "Epoch 131/200 Valid CP --> Loss: 0.0534, AUC: 0.9179, Acc: 0.5540, F1: 0.6875\n",
      "Checkpoint saved at /home/ia/Documentos/TFG_Lara/TransformingFashion/checkpoints/compatibility_clip/epoch_131.pth\n"
     ]
    },
    {
     "name": "stderr",
     "output_type": "stream",
     "text": [
      "Train CP Epoch 132/200: 100%|██████████| 3332/3332 [00:26<00:00, 127.27it/s, loss=0.000186]\n"
     ]
    },
    {
     "name": "stdout",
     "output_type": "stream",
     "text": [
      "Epoch 132/200 Train CP --> Loss: 0.0037, AUC: 0.9972, Acc: 0.6381, F1: 0.7342\n"
     ]
    },
    {
     "name": "stderr",
     "output_type": "stream",
     "text": [
      "Valid CP Epoch 132/200: 100%|██████████| 313/313 [00:01<00:00, 187.10it/s, loss=0.0882]  \n"
     ]
    },
    {
     "name": "stdout",
     "output_type": "stream",
     "text": [
      "Epoch 132/200 Valid CP --> Loss: 0.0539, AUC: 0.9185, Acc: 0.5112, F1: 0.6700\n",
      "Checkpoint saved at /home/ia/Documentos/TFG_Lara/TransformingFashion/checkpoints/compatibility_clip/epoch_132.pth\n"
     ]
    },
    {
     "name": "stderr",
     "output_type": "stream",
     "text": [
      "Train CP Epoch 133/200: 100%|██████████| 3332/3332 [00:26<00:00, 127.94it/s, loss=0.000198]\n"
     ]
    },
    {
     "name": "stdout",
     "output_type": "stream",
     "text": [
      "Epoch 133/200 Train CP --> Loss: 0.0036, AUC: 0.9971, Acc: 0.6373, F1: 0.7337\n"
     ]
    },
    {
     "name": "stderr",
     "output_type": "stream",
     "text": [
      "Valid CP Epoch 133/200: 100%|██████████| 313/313 [00:01<00:00, 173.08it/s, loss=0.108]  \n"
     ]
    },
    {
     "name": "stdout",
     "output_type": "stream",
     "text": [
      "Epoch 133/200 Valid CP --> Loss: 0.0551, AUC: 0.9180, Acc: 0.5334, F1: 0.6790\n",
      "Checkpoint saved at /home/ia/Documentos/TFG_Lara/TransformingFashion/checkpoints/compatibility_clip/epoch_133.pth\n"
     ]
    },
    {
     "name": "stderr",
     "output_type": "stream",
     "text": [
      "Train CP Epoch 134/200: 100%|██████████| 3332/3332 [00:26<00:00, 127.20it/s, loss=8.29e-5] \n"
     ]
    },
    {
     "name": "stdout",
     "output_type": "stream",
     "text": [
      "Epoch 134/200 Train CP --> Loss: 0.0036, AUC: 0.9972, Acc: 0.6349, F1: 0.7324\n"
     ]
    },
    {
     "name": "stderr",
     "output_type": "stream",
     "text": [
      "Valid CP Epoch 134/200: 100%|██████████| 313/313 [00:01<00:00, 185.79it/s, loss=0.163]   \n"
     ]
    },
    {
     "name": "stdout",
     "output_type": "stream",
     "text": [
      "Epoch 134/200 Valid CP --> Loss: 0.0565, AUC: 0.9184, Acc: 0.5145, F1: 0.6715\n",
      "Checkpoint saved at /home/ia/Documentos/TFG_Lara/TransformingFashion/checkpoints/compatibility_clip/epoch_134.pth\n"
     ]
    },
    {
     "name": "stderr",
     "output_type": "stream",
     "text": [
      "Train CP Epoch 135/200: 100%|██████████| 3332/3332 [00:25<00:00, 129.86it/s, loss=0.0163]  \n"
     ]
    },
    {
     "name": "stdout",
     "output_type": "stream",
     "text": [
      "Epoch 135/200 Train CP --> Loss: 0.0035, AUC: 0.9971, Acc: 0.6381, F1: 0.7341\n"
     ]
    },
    {
     "name": "stderr",
     "output_type": "stream",
     "text": [
      "Valid CP Epoch 135/200: 100%|██████████| 313/313 [00:01<00:00, 179.27it/s, loss=0.0994] \n"
     ]
    },
    {
     "name": "stdout",
     "output_type": "stream",
     "text": [
      "Epoch 135/200 Valid CP --> Loss: 0.0528, AUC: 0.9187, Acc: 0.5364, F1: 0.6794\n",
      "Checkpoint saved at /home/ia/Documentos/TFG_Lara/TransformingFashion/checkpoints/compatibility_clip/epoch_135.pth\n"
     ]
    },
    {
     "name": "stderr",
     "output_type": "stream",
     "text": [
      "Train CP Epoch 136/200: 100%|██████████| 3332/3332 [00:26<00:00, 126.47it/s, loss=0.00019] \n"
     ]
    },
    {
     "name": "stdout",
     "output_type": "stream",
     "text": [
      "Epoch 136/200 Train CP --> Loss: 0.0036, AUC: 0.9972, Acc: 0.6323, F1: 0.7310\n"
     ]
    },
    {
     "name": "stderr",
     "output_type": "stream",
     "text": [
      "Valid CP Epoch 136/200: 100%|██████████| 313/313 [00:01<00:00, 186.66it/s, loss=0.0991]  \n"
     ]
    },
    {
     "name": "stdout",
     "output_type": "stream",
     "text": [
      "Epoch 136/200 Valid CP --> Loss: 0.0556, AUC: 0.9188, Acc: 0.5182, F1: 0.6727\n",
      "Checkpoint saved at /home/ia/Documentos/TFG_Lara/TransformingFashion/checkpoints/compatibility_clip/epoch_136.pth\n"
     ]
    },
    {
     "name": "stderr",
     "output_type": "stream",
     "text": [
      "Train CP Epoch 137/200: 100%|██████████| 3332/3332 [00:26<00:00, 127.86it/s, loss=0.000896]\n"
     ]
    },
    {
     "name": "stdout",
     "output_type": "stream",
     "text": [
      "Epoch 137/200 Train CP --> Loss: 0.0035, AUC: 0.9972, Acc: 0.6324, F1: 0.7311\n"
     ]
    },
    {
     "name": "stderr",
     "output_type": "stream",
     "text": [
      "Valid CP Epoch 137/200: 100%|██████████| 313/313 [00:01<00:00, 191.55it/s, loss=0.143]   \n"
     ]
    },
    {
     "name": "stdout",
     "output_type": "stream",
     "text": [
      "Epoch 137/200 Valid CP --> Loss: 0.0577, AUC: 0.9174, Acc: 0.5332, F1: 0.6791\n",
      "Checkpoint saved at /home/ia/Documentos/TFG_Lara/TransformingFashion/checkpoints/compatibility_clip/epoch_137.pth\n"
     ]
    },
    {
     "name": "stderr",
     "output_type": "stream",
     "text": [
      "Train CP Epoch 138/200: 100%|██████████| 3332/3332 [00:25<00:00, 132.47it/s, loss=6.46e-5] \n"
     ]
    },
    {
     "name": "stdout",
     "output_type": "stream",
     "text": [
      "Epoch 138/200 Train CP --> Loss: 0.0034, AUC: 0.9974, Acc: 0.6346, F1: 0.7323\n"
     ]
    },
    {
     "name": "stderr",
     "output_type": "stream",
     "text": [
      "Valid CP Epoch 138/200: 100%|██████████| 313/313 [00:01<00:00, 181.39it/s, loss=0.104]   \n"
     ]
    },
    {
     "name": "stdout",
     "output_type": "stream",
     "text": [
      "Epoch 138/200 Valid CP --> Loss: 0.0546, AUC: 0.9183, Acc: 0.5359, F1: 0.6800\n",
      "Checkpoint saved at /home/ia/Documentos/TFG_Lara/TransformingFashion/checkpoints/compatibility_clip/epoch_138.pth\n"
     ]
    },
    {
     "name": "stderr",
     "output_type": "stream",
     "text": [
      "Train CP Epoch 139/200: 100%|██████████| 3332/3332 [00:26<00:00, 125.47it/s, loss=0.000617]\n"
     ]
    },
    {
     "name": "stdout",
     "output_type": "stream",
     "text": [
      "Epoch 139/200 Train CP --> Loss: 0.0034, AUC: 0.9973, Acc: 0.6329, F1: 0.7314\n"
     ]
    },
    {
     "name": "stderr",
     "output_type": "stream",
     "text": [
      "Valid CP Epoch 139/200: 100%|██████████| 313/313 [00:01<00:00, 189.68it/s, loss=0.122]   \n"
     ]
    },
    {
     "name": "stdout",
     "output_type": "stream",
     "text": [
      "Epoch 139/200 Valid CP --> Loss: 0.0555, AUC: 0.9203, Acc: 0.5483, F1: 0.6852\n",
      "Checkpoint saved at /home/ia/Documentos/TFG_Lara/TransformingFashion/checkpoints/compatibility_clip/epoch_139.pth\n"
     ]
    },
    {
     "name": "stderr",
     "output_type": "stream",
     "text": [
      "Train CP Epoch 140/200: 100%|██████████| 3332/3332 [00:26<00:00, 125.10it/s, loss=0.000775]\n"
     ]
    },
    {
     "name": "stdout",
     "output_type": "stream",
     "text": [
      "Epoch 140/200 Train CP --> Loss: 0.0034, AUC: 0.9973, Acc: 0.6358, F1: 0.7329\n"
     ]
    },
    {
     "name": "stderr",
     "output_type": "stream",
     "text": [
      "Valid CP Epoch 140/200: 100%|██████████| 313/313 [00:01<00:00, 185.56it/s, loss=0.133]   \n"
     ]
    },
    {
     "name": "stdout",
     "output_type": "stream",
     "text": [
      "Epoch 140/200 Valid CP --> Loss: 0.0573, AUC: 0.9164, Acc: 0.5212, F1: 0.6738\n",
      "Checkpoint saved at /home/ia/Documentos/TFG_Lara/TransformingFashion/checkpoints/compatibility_clip/epoch_140.pth\n"
     ]
    },
    {
     "name": "stderr",
     "output_type": "stream",
     "text": [
      "Train CP Epoch 141/200: 100%|██████████| 3332/3332 [00:26<00:00, 125.54it/s, loss=0.000738]\n"
     ]
    },
    {
     "name": "stdout",
     "output_type": "stream",
     "text": [
      "Epoch 141/200 Train CP --> Loss: 0.0032, AUC: 0.9976, Acc: 0.6370, F1: 0.7336\n"
     ]
    },
    {
     "name": "stderr",
     "output_type": "stream",
     "text": [
      "Valid CP Epoch 141/200: 100%|██████████| 313/313 [00:01<00:00, 196.56it/s, loss=0.122]   \n"
     ]
    },
    {
     "name": "stdout",
     "output_type": "stream",
     "text": [
      "Epoch 141/200 Valid CP --> Loss: 0.0553, AUC: 0.9178, Acc: 0.5259, F1: 0.6749\n",
      "Checkpoint saved at /home/ia/Documentos/TFG_Lara/TransformingFashion/checkpoints/compatibility_clip/epoch_141.pth\n"
     ]
    },
    {
     "name": "stderr",
     "output_type": "stream",
     "text": [
      "Train CP Epoch 142/200: 100%|██████████| 3332/3332 [00:26<00:00, 127.36it/s, loss=0.000147]\n"
     ]
    },
    {
     "name": "stdout",
     "output_type": "stream",
     "text": [
      "Epoch 142/200 Train CP --> Loss: 0.0032, AUC: 0.9974, Acc: 0.6366, F1: 0.7333\n"
     ]
    },
    {
     "name": "stderr",
     "output_type": "stream",
     "text": [
      "Valid CP Epoch 142/200: 100%|██████████| 313/313 [00:01<00:00, 181.75it/s, loss=0.109]   \n"
     ]
    },
    {
     "name": "stdout",
     "output_type": "stream",
     "text": [
      "Epoch 142/200 Valid CP --> Loss: 0.0553, AUC: 0.9174, Acc: 0.5280, F1: 0.6761\n",
      "Checkpoint saved at /home/ia/Documentos/TFG_Lara/TransformingFashion/checkpoints/compatibility_clip/epoch_142.pth\n"
     ]
    },
    {
     "name": "stderr",
     "output_type": "stream",
     "text": [
      "Train CP Epoch 143/200: 100%|██████████| 3332/3332 [00:25<00:00, 130.50it/s, loss=8.2e-5]  \n"
     ]
    },
    {
     "name": "stdout",
     "output_type": "stream",
     "text": [
      "Epoch 143/200 Train CP --> Loss: 0.0032, AUC: 0.9975, Acc: 0.6338, F1: 0.7319\n"
     ]
    },
    {
     "name": "stderr",
     "output_type": "stream",
     "text": [
      "Valid CP Epoch 143/200: 100%|██████████| 313/313 [00:01<00:00, 166.54it/s, loss=0.152]   \n"
     ]
    },
    {
     "name": "stdout",
     "output_type": "stream",
     "text": [
      "Epoch 143/200 Valid CP --> Loss: 0.0595, AUC: 0.9155, Acc: 0.5366, F1: 0.6806\n",
      "Checkpoint saved at /home/ia/Documentos/TFG_Lara/TransformingFashion/checkpoints/compatibility_clip/epoch_143.pth\n"
     ]
    },
    {
     "name": "stderr",
     "output_type": "stream",
     "text": [
      "Train CP Epoch 144/200: 100%|██████████| 3332/3332 [00:26<00:00, 127.30it/s, loss=0.000129]\n"
     ]
    },
    {
     "name": "stdout",
     "output_type": "stream",
     "text": [
      "Epoch 144/200 Train CP --> Loss: 0.0032, AUC: 0.9976, Acc: 0.6365, F1: 0.7333\n"
     ]
    },
    {
     "name": "stderr",
     "output_type": "stream",
     "text": [
      "Valid CP Epoch 144/200: 100%|██████████| 313/313 [00:01<00:00, 169.47it/s, loss=0.101]   \n"
     ]
    },
    {
     "name": "stdout",
     "output_type": "stream",
     "text": [
      "Epoch 144/200 Valid CP --> Loss: 0.0546, AUC: 0.9186, Acc: 0.5524, F1: 0.6866\n",
      "Checkpoint saved at /home/ia/Documentos/TFG_Lara/TransformingFashion/checkpoints/compatibility_clip/epoch_144.pth\n"
     ]
    },
    {
     "name": "stderr",
     "output_type": "stream",
     "text": [
      "Train CP Epoch 145/200: 100%|██████████| 3332/3332 [00:26<00:00, 126.73it/s, loss=9.08e-5] \n"
     ]
    },
    {
     "name": "stdout",
     "output_type": "stream",
     "text": [
      "Epoch 145/200 Train CP --> Loss: 0.0032, AUC: 0.9976, Acc: 0.6296, F1: 0.7296\n"
     ]
    },
    {
     "name": "stderr",
     "output_type": "stream",
     "text": [
      "Valid CP Epoch 145/200: 100%|██████████| 313/313 [00:01<00:00, 180.47it/s, loss=0.097]  \n"
     ]
    },
    {
     "name": "stdout",
     "output_type": "stream",
     "text": [
      "Epoch 145/200 Valid CP --> Loss: 0.0533, AUC: 0.9163, Acc: 0.5956, F1: 0.7064\n",
      "Checkpoint saved at /home/ia/Documentos/TFG_Lara/TransformingFashion/checkpoints/compatibility_clip/epoch_145.pth\n"
     ]
    },
    {
     "name": "stderr",
     "output_type": "stream",
     "text": [
      "Train CP Epoch 146/200: 100%|██████████| 3332/3332 [00:26<00:00, 125.34it/s, loss=0.000159]\n"
     ]
    },
    {
     "name": "stdout",
     "output_type": "stream",
     "text": [
      "Epoch 146/200 Train CP --> Loss: 0.0030, AUC: 0.9977, Acc: 0.6311, F1: 0.7304\n"
     ]
    },
    {
     "name": "stderr",
     "output_type": "stream",
     "text": [
      "Valid CP Epoch 146/200: 100%|██████████| 313/313 [00:01<00:00, 192.22it/s, loss=0.101]   \n"
     ]
    },
    {
     "name": "stdout",
     "output_type": "stream",
     "text": [
      "Epoch 146/200 Valid CP --> Loss: 0.0553, AUC: 0.9156, Acc: 0.5521, F1: 0.6862\n",
      "Checkpoint saved at /home/ia/Documentos/TFG_Lara/TransformingFashion/checkpoints/compatibility_clip/epoch_146.pth\n"
     ]
    },
    {
     "name": "stderr",
     "output_type": "stream",
     "text": [
      "Train CP Epoch 147/200: 100%|██████████| 3332/3332 [00:25<00:00, 129.53it/s, loss=0.00842] \n"
     ]
    },
    {
     "name": "stdout",
     "output_type": "stream",
     "text": [
      "Epoch 147/200 Train CP --> Loss: 0.0031, AUC: 0.9974, Acc: 0.6358, F1: 0.7329\n"
     ]
    },
    {
     "name": "stderr",
     "output_type": "stream",
     "text": [
      "Valid CP Epoch 147/200: 100%|██████████| 313/313 [00:01<00:00, 181.12it/s, loss=0.133]   \n"
     ]
    },
    {
     "name": "stdout",
     "output_type": "stream",
     "text": [
      "Epoch 147/200 Valid CP --> Loss: 0.0577, AUC: 0.9160, Acc: 0.5597, F1: 0.6903\n",
      "Checkpoint saved at /home/ia/Documentos/TFG_Lara/TransformingFashion/checkpoints/compatibility_clip/epoch_147.pth\n"
     ]
    },
    {
     "name": "stderr",
     "output_type": "stream",
     "text": [
      "Train CP Epoch 148/200: 100%|██████████| 3332/3332 [00:26<00:00, 126.46it/s, loss=0.00137] \n"
     ]
    },
    {
     "name": "stdout",
     "output_type": "stream",
     "text": [
      "Epoch 148/200 Train CP --> Loss: 0.0030, AUC: 0.9976, Acc: 0.6327, F1: 0.7313\n"
     ]
    },
    {
     "name": "stderr",
     "output_type": "stream",
     "text": [
      "Valid CP Epoch 148/200: 100%|██████████| 313/313 [00:01<00:00, 203.27it/s, loss=0.106]   \n"
     ]
    },
    {
     "name": "stdout",
     "output_type": "stream",
     "text": [
      "Epoch 148/200 Valid CP --> Loss: 0.0567, AUC: 0.9153, Acc: 0.5319, F1: 0.6775\n",
      "Checkpoint saved at /home/ia/Documentos/TFG_Lara/TransformingFashion/checkpoints/compatibility_clip/epoch_148.pth\n"
     ]
    },
    {
     "name": "stderr",
     "output_type": "stream",
     "text": [
      "Train CP Epoch 149/200: 100%|██████████| 3332/3332 [00:25<00:00, 131.52it/s, loss=0.00017] \n"
     ]
    },
    {
     "name": "stdout",
     "output_type": "stream",
     "text": [
      "Epoch 149/200 Train CP --> Loss: 0.0030, AUC: 0.9976, Acc: 0.6312, F1: 0.7304\n"
     ]
    },
    {
     "name": "stderr",
     "output_type": "stream",
     "text": [
      "Valid CP Epoch 149/200: 100%|██████████| 313/313 [00:01<00:00, 189.95it/s, loss=0.12]    \n"
     ]
    },
    {
     "name": "stdout",
     "output_type": "stream",
     "text": [
      "Epoch 149/200 Valid CP --> Loss: 0.0575, AUC: 0.9131, Acc: 0.5228, F1: 0.6746\n",
      "Checkpoint saved at /home/ia/Documentos/TFG_Lara/TransformingFashion/checkpoints/compatibility_clip/epoch_149.pth\n"
     ]
    },
    {
     "name": "stderr",
     "output_type": "stream",
     "text": [
      "Train CP Epoch 150/200: 100%|██████████| 3332/3332 [00:25<00:00, 128.55it/s, loss=0.000148]\n"
     ]
    },
    {
     "name": "stdout",
     "output_type": "stream",
     "text": [
      "Epoch 150/200 Train CP --> Loss: 0.0029, AUC: 0.9976, Acc: 0.6324, F1: 0.7311\n"
     ]
    },
    {
     "name": "stderr",
     "output_type": "stream",
     "text": [
      "Valid CP Epoch 150/200: 100%|██████████| 313/313 [00:01<00:00, 178.16it/s, loss=0.0925]  \n"
     ]
    },
    {
     "name": "stdout",
     "output_type": "stream",
     "text": [
      "Epoch 150/200 Valid CP --> Loss: 0.0543, AUC: 0.9180, Acc: 0.5255, F1: 0.6754\n",
      "Checkpoint saved at /home/ia/Documentos/TFG_Lara/TransformingFashion/checkpoints/compatibility_clip/epoch_150.pth\n"
     ]
    },
    {
     "name": "stderr",
     "output_type": "stream",
     "text": [
      "Train CP Epoch 151/200: 100%|██████████| 3332/3332 [00:27<00:00, 123.07it/s, loss=0.000429]\n"
     ]
    },
    {
     "name": "stdout",
     "output_type": "stream",
     "text": [
      "Epoch 151/200 Train CP --> Loss: 0.0028, AUC: 0.9977, Acc: 0.6338, F1: 0.7319\n"
     ]
    },
    {
     "name": "stderr",
     "output_type": "stream",
     "text": [
      "Valid CP Epoch 151/200: 100%|██████████| 313/313 [00:01<00:00, 181.60it/s, loss=0.115]  \n"
     ]
    },
    {
     "name": "stdout",
     "output_type": "stream",
     "text": [
      "Epoch 151/200 Valid CP --> Loss: 0.0573, AUC: 0.9163, Acc: 0.5193, F1: 0.6731\n",
      "Checkpoint saved at /home/ia/Documentos/TFG_Lara/TransformingFashion/checkpoints/compatibility_clip/epoch_151.pth\n"
     ]
    },
    {
     "name": "stderr",
     "output_type": "stream",
     "text": [
      "Train CP Epoch 152/200: 100%|██████████| 3332/3332 [00:25<00:00, 128.34it/s, loss=0.03]    \n"
     ]
    },
    {
     "name": "stdout",
     "output_type": "stream",
     "text": [
      "Epoch 152/200 Train CP --> Loss: 0.0029, AUC: 0.9976, Acc: 0.6326, F1: 0.7312\n"
     ]
    },
    {
     "name": "stderr",
     "output_type": "stream",
     "text": [
      "Valid CP Epoch 152/200: 100%|██████████| 313/313 [00:01<00:00, 191.96it/s, loss=0.111]   \n"
     ]
    },
    {
     "name": "stdout",
     "output_type": "stream",
     "text": [
      "Epoch 152/200 Valid CP --> Loss: 0.0564, AUC: 0.9169, Acc: 0.5274, F1: 0.6762\n",
      "Checkpoint saved at /home/ia/Documentos/TFG_Lara/TransformingFashion/checkpoints/compatibility_clip/epoch_152.pth\n"
     ]
    },
    {
     "name": "stderr",
     "output_type": "stream",
     "text": [
      "Train CP Epoch 153/200: 100%|██████████| 3332/3332 [00:26<00:00, 128.10it/s, loss=8.85e-5] \n"
     ]
    },
    {
     "name": "stdout",
     "output_type": "stream",
     "text": [
      "Epoch 153/200 Train CP --> Loss: 0.0028, AUC: 0.9976, Acc: 0.6329, F1: 0.7314\n"
     ]
    },
    {
     "name": "stderr",
     "output_type": "stream",
     "text": [
      "Valid CP Epoch 153/200: 100%|██████████| 313/313 [00:01<00:00, 197.63it/s, loss=0.0951]  \n"
     ]
    },
    {
     "name": "stdout",
     "output_type": "stream",
     "text": [
      "Epoch 153/200 Valid CP --> Loss: 0.0556, AUC: 0.9148, Acc: 0.5384, F1: 0.6807\n",
      "Checkpoint saved at /home/ia/Documentos/TFG_Lara/TransformingFashion/checkpoints/compatibility_clip/epoch_153.pth\n"
     ]
    },
    {
     "name": "stderr",
     "output_type": "stream",
     "text": [
      "Train CP Epoch 154/200: 100%|██████████| 3332/3332 [00:26<00:00, 125.98it/s, loss=0.019]   \n"
     ]
    },
    {
     "name": "stdout",
     "output_type": "stream",
     "text": [
      "Epoch 154/200 Train CP --> Loss: 0.0029, AUC: 0.9977, Acc: 0.6377, F1: 0.7340\n"
     ]
    },
    {
     "name": "stderr",
     "output_type": "stream",
     "text": [
      "Valid CP Epoch 154/200: 100%|██████████| 313/313 [00:01<00:00, 183.93it/s, loss=0.109]   \n"
     ]
    },
    {
     "name": "stdout",
     "output_type": "stream",
     "text": [
      "Epoch 154/200 Valid CP --> Loss: 0.0558, AUC: 0.9143, Acc: 0.5157, F1: 0.6710\n",
      "Checkpoint saved at /home/ia/Documentos/TFG_Lara/TransformingFashion/checkpoints/compatibility_clip/epoch_154.pth\n"
     ]
    },
    {
     "name": "stderr",
     "output_type": "stream",
     "text": [
      "Train CP Epoch 155/200: 100%|██████████| 3332/3332 [00:26<00:00, 124.59it/s, loss=0.00764] \n"
     ]
    },
    {
     "name": "stdout",
     "output_type": "stream",
     "text": [
      "Epoch 155/200 Train CP --> Loss: 0.0027, AUC: 0.9977, Acc: 0.6300, F1: 0.7298\n"
     ]
    },
    {
     "name": "stderr",
     "output_type": "stream",
     "text": [
      "Valid CP Epoch 155/200: 100%|██████████| 313/313 [00:01<00:00, 186.64it/s, loss=0.131]   \n"
     ]
    },
    {
     "name": "stdout",
     "output_type": "stream",
     "text": [
      "Epoch 155/200 Valid CP --> Loss: 0.0571, AUC: 0.9145, Acc: 0.5388, F1: 0.6810\n",
      "Checkpoint saved at /home/ia/Documentos/TFG_Lara/TransformingFashion/checkpoints/compatibility_clip/epoch_155.pth\n"
     ]
    },
    {
     "name": "stderr",
     "output_type": "stream",
     "text": [
      "Train CP Epoch 156/200: 100%|██████████| 3332/3332 [00:26<00:00, 124.27it/s, loss=0.000235]\n"
     ]
    },
    {
     "name": "stdout",
     "output_type": "stream",
     "text": [
      "Epoch 156/200 Train CP --> Loss: 0.0028, AUC: 0.9977, Acc: 0.6347, F1: 0.7323\n"
     ]
    },
    {
     "name": "stderr",
     "output_type": "stream",
     "text": [
      "Valid CP Epoch 156/200: 100%|██████████| 313/313 [00:01<00:00, 189.49it/s, loss=0.116]   \n"
     ]
    },
    {
     "name": "stdout",
     "output_type": "stream",
     "text": [
      "Epoch 156/200 Valid CP --> Loss: 0.0555, AUC: 0.9143, Acc: 0.5253, F1: 0.6746\n",
      "Checkpoint saved at /home/ia/Documentos/TFG_Lara/TransformingFashion/checkpoints/compatibility_clip/epoch_156.pth\n"
     ]
    },
    {
     "name": "stderr",
     "output_type": "stream",
     "text": [
      "Train CP Epoch 157/200: 100%|██████████| 3332/3332 [00:26<00:00, 127.72it/s, loss=0.00106] \n"
     ]
    },
    {
     "name": "stdout",
     "output_type": "stream",
     "text": [
      "Epoch 157/200 Train CP --> Loss: 0.0027, AUC: 0.9979, Acc: 0.6294, F1: 0.7296\n"
     ]
    },
    {
     "name": "stderr",
     "output_type": "stream",
     "text": [
      "Valid CP Epoch 157/200: 100%|██████████| 313/313 [00:01<00:00, 159.50it/s, loss=0.112]   \n"
     ]
    },
    {
     "name": "stdout",
     "output_type": "stream",
     "text": [
      "Epoch 157/200 Valid CP --> Loss: 0.0560, AUC: 0.9156, Acc: 0.5323, F1: 0.6773\n",
      "Checkpoint saved at /home/ia/Documentos/TFG_Lara/TransformingFashion/checkpoints/compatibility_clip/epoch_157.pth\n"
     ]
    },
    {
     "name": "stderr",
     "output_type": "stream",
     "text": [
      "Train CP Epoch 158/200: 100%|██████████| 3332/3332 [00:25<00:00, 128.35it/s, loss=6.91e-5] \n"
     ]
    },
    {
     "name": "stdout",
     "output_type": "stream",
     "text": [
      "Epoch 158/200 Train CP --> Loss: 0.0027, AUC: 0.9978, Acc: 0.6295, F1: 0.7295\n"
     ]
    },
    {
     "name": "stderr",
     "output_type": "stream",
     "text": [
      "Valid CP Epoch 158/200: 100%|██████████| 313/313 [00:01<00:00, 180.39it/s, loss=0.101]  \n"
     ]
    },
    {
     "name": "stdout",
     "output_type": "stream",
     "text": [
      "Epoch 158/200 Valid CP --> Loss: 0.0559, AUC: 0.9162, Acc: 0.5353, F1: 0.6791\n",
      "Checkpoint saved at /home/ia/Documentos/TFG_Lara/TransformingFashion/checkpoints/compatibility_clip/epoch_158.pth\n"
     ]
    },
    {
     "name": "stderr",
     "output_type": "stream",
     "text": [
      "Train CP Epoch 159/200: 100%|██████████| 3332/3332 [00:26<00:00, 125.62it/s, loss=0.00026] \n"
     ]
    },
    {
     "name": "stdout",
     "output_type": "stream",
     "text": [
      "Epoch 159/200 Train CP --> Loss: 0.0027, AUC: 0.9977, Acc: 0.6313, F1: 0.7305\n"
     ]
    },
    {
     "name": "stderr",
     "output_type": "stream",
     "text": [
      "Valid CP Epoch 159/200: 100%|██████████| 313/313 [00:01<00:00, 185.33it/s, loss=0.0913]  \n"
     ]
    },
    {
     "name": "stdout",
     "output_type": "stream",
     "text": [
      "Epoch 159/200 Valid CP --> Loss: 0.0551, AUC: 0.9158, Acc: 0.5308, F1: 0.6768\n",
      "Checkpoint saved at /home/ia/Documentos/TFG_Lara/TransformingFashion/checkpoints/compatibility_clip/epoch_159.pth\n"
     ]
    },
    {
     "name": "stderr",
     "output_type": "stream",
     "text": [
      "Train CP Epoch 160/200: 100%|██████████| 3332/3332 [00:26<00:00, 125.15it/s, loss=7.19e-5] \n"
     ]
    },
    {
     "name": "stdout",
     "output_type": "stream",
     "text": [
      "Epoch 160/200 Train CP --> Loss: 0.0026, AUC: 0.9979, Acc: 0.6382, F1: 0.7342\n"
     ]
    },
    {
     "name": "stderr",
     "output_type": "stream",
     "text": [
      "Valid CP Epoch 160/200: 100%|██████████| 313/313 [00:01<00:00, 181.21it/s, loss=0.0859] \n"
     ]
    },
    {
     "name": "stdout",
     "output_type": "stream",
     "text": [
      "Epoch 160/200 Valid CP --> Loss: 0.0538, AUC: 0.9137, Acc: 0.5254, F1: 0.6747\n",
      "Checkpoint saved at /home/ia/Documentos/TFG_Lara/TransformingFashion/checkpoints/compatibility_clip/epoch_160.pth\n"
     ]
    },
    {
     "name": "stderr",
     "output_type": "stream",
     "text": [
      "Train CP Epoch 161/200: 100%|██████████| 3332/3332 [00:26<00:00, 126.94it/s, loss=0.000138]\n"
     ]
    },
    {
     "name": "stdout",
     "output_type": "stream",
     "text": [
      "Epoch 161/200 Train CP --> Loss: 0.0026, AUC: 0.9978, Acc: 0.6268, F1: 0.7281\n"
     ]
    },
    {
     "name": "stderr",
     "output_type": "stream",
     "text": [
      "Valid CP Epoch 161/200: 100%|██████████| 313/313 [00:01<00:00, 183.26it/s, loss=0.11]    \n"
     ]
    },
    {
     "name": "stdout",
     "output_type": "stream",
     "text": [
      "Epoch 161/200 Valid CP --> Loss: 0.0569, AUC: 0.9155, Acc: 0.5151, F1: 0.6714\n",
      "Checkpoint saved at /home/ia/Documentos/TFG_Lara/TransformingFashion/checkpoints/compatibility_clip/epoch_161.pth\n"
     ]
    },
    {
     "name": "stderr",
     "output_type": "stream",
     "text": [
      "Train CP Epoch 162/200: 100%|██████████| 3332/3332 [00:25<00:00, 129.29it/s, loss=7.57e-5] \n"
     ]
    },
    {
     "name": "stdout",
     "output_type": "stream",
     "text": [
      "Epoch 162/200 Train CP --> Loss: 0.0026, AUC: 0.9978, Acc: 0.6345, F1: 0.7323\n"
     ]
    },
    {
     "name": "stderr",
     "output_type": "stream",
     "text": [
      "Valid CP Epoch 162/200: 100%|██████████| 313/313 [00:01<00:00, 185.98it/s, loss=0.111]   \n"
     ]
    },
    {
     "name": "stdout",
     "output_type": "stream",
     "text": [
      "Epoch 162/200 Valid CP --> Loss: 0.0558, AUC: 0.9160, Acc: 0.5249, F1: 0.6747\n",
      "Checkpoint saved at /home/ia/Documentos/TFG_Lara/TransformingFashion/checkpoints/compatibility_clip/epoch_162.pth\n"
     ]
    },
    {
     "name": "stderr",
     "output_type": "stream",
     "text": [
      "Train CP Epoch 163/200: 100%|██████████| 3332/3332 [00:26<00:00, 124.13it/s, loss=0.0166]  \n"
     ]
    },
    {
     "name": "stdout",
     "output_type": "stream",
     "text": [
      "Epoch 163/200 Train CP --> Loss: 0.0026, AUC: 0.9978, Acc: 0.6318, F1: 0.7308\n"
     ]
    },
    {
     "name": "stderr",
     "output_type": "stream",
     "text": [
      "Valid CP Epoch 163/200: 100%|██████████| 313/313 [00:01<00:00, 184.42it/s, loss=0.107]   \n"
     ]
    },
    {
     "name": "stdout",
     "output_type": "stream",
     "text": [
      "Epoch 163/200 Valid CP --> Loss: 0.0567, AUC: 0.9148, Acc: 0.5247, F1: 0.6744\n",
      "Checkpoint saved at /home/ia/Documentos/TFG_Lara/TransformingFashion/checkpoints/compatibility_clip/epoch_163.pth\n"
     ]
    },
    {
     "name": "stderr",
     "output_type": "stream",
     "text": [
      "Train CP Epoch 164/200: 100%|██████████| 3332/3332 [00:26<00:00, 125.23it/s, loss=0.0307]  \n"
     ]
    },
    {
     "name": "stdout",
     "output_type": "stream",
     "text": [
      "Epoch 164/200 Train CP --> Loss: 0.0025, AUC: 0.9980, Acc: 0.6279, F1: 0.7287\n"
     ]
    },
    {
     "name": "stderr",
     "output_type": "stream",
     "text": [
      "Valid CP Epoch 164/200: 100%|██████████| 313/313 [00:01<00:00, 176.15it/s, loss=0.107]   \n"
     ]
    },
    {
     "name": "stdout",
     "output_type": "stream",
     "text": [
      "Epoch 164/200 Valid CP --> Loss: 0.0560, AUC: 0.9144, Acc: 0.5444, F1: 0.6829\n",
      "Checkpoint saved at /home/ia/Documentos/TFG_Lara/TransformingFashion/checkpoints/compatibility_clip/epoch_164.pth\n"
     ]
    },
    {
     "name": "stderr",
     "output_type": "stream",
     "text": [
      "Train CP Epoch 165/200: 100%|██████████| 3332/3332 [00:27<00:00, 123.04it/s, loss=0.000245]\n"
     ]
    },
    {
     "name": "stdout",
     "output_type": "stream",
     "text": [
      "Epoch 165/200 Train CP --> Loss: 0.0025, AUC: 0.9980, Acc: 0.6350, F1: 0.7325\n"
     ]
    },
    {
     "name": "stderr",
     "output_type": "stream",
     "text": [
      "Valid CP Epoch 165/200: 100%|██████████| 313/313 [00:01<00:00, 183.71it/s, loss=0.122]   \n"
     ]
    },
    {
     "name": "stdout",
     "output_type": "stream",
     "text": [
      "Epoch 165/200 Valid CP --> Loss: 0.0553, AUC: 0.9133, Acc: 0.5240, F1: 0.6738\n",
      "Checkpoint saved at /home/ia/Documentos/TFG_Lara/TransformingFashion/checkpoints/compatibility_clip/epoch_165.pth\n"
     ]
    },
    {
     "name": "stderr",
     "output_type": "stream",
     "text": [
      "Train CP Epoch 166/200: 100%|██████████| 3332/3332 [00:26<00:00, 124.35it/s, loss=0.0102]  \n"
     ]
    },
    {
     "name": "stdout",
     "output_type": "stream",
     "text": [
      "Epoch 166/200 Train CP --> Loss: 0.0024, AUC: 0.9980, Acc: 0.6305, F1: 0.7301\n"
     ]
    },
    {
     "name": "stderr",
     "output_type": "stream",
     "text": [
      "Valid CP Epoch 166/200: 100%|██████████| 313/313 [00:01<00:00, 180.48it/s, loss=0.133]   \n"
     ]
    },
    {
     "name": "stdout",
     "output_type": "stream",
     "text": [
      "Epoch 166/200 Valid CP --> Loss: 0.0568, AUC: 0.9135, Acc: 0.5226, F1: 0.6739\n",
      "Checkpoint saved at /home/ia/Documentos/TFG_Lara/TransformingFashion/checkpoints/compatibility_clip/epoch_166.pth\n"
     ]
    },
    {
     "name": "stderr",
     "output_type": "stream",
     "text": [
      "Train CP Epoch 167/200: 100%|██████████| 3332/3332 [00:25<00:00, 128.93it/s, loss=0.000348]\n"
     ]
    },
    {
     "name": "stdout",
     "output_type": "stream",
     "text": [
      "Epoch 167/200 Train CP --> Loss: 0.0025, AUC: 0.9979, Acc: 0.6271, F1: 0.7283\n"
     ]
    },
    {
     "name": "stderr",
     "output_type": "stream",
     "text": [
      "Valid CP Epoch 167/200: 100%|██████████| 313/313 [00:01<00:00, 173.99it/s, loss=0.12]   \n"
     ]
    },
    {
     "name": "stdout",
     "output_type": "stream",
     "text": [
      "Epoch 167/200 Valid CP --> Loss: 0.0566, AUC: 0.9131, Acc: 0.5918, F1: 0.7050\n",
      "Checkpoint saved at /home/ia/Documentos/TFG_Lara/TransformingFashion/checkpoints/compatibility_clip/epoch_167.pth\n"
     ]
    },
    {
     "name": "stderr",
     "output_type": "stream",
     "text": [
      "Train CP Epoch 168/200: 100%|██████████| 3332/3332 [00:26<00:00, 124.49it/s, loss=5.58e-5] \n"
     ]
    },
    {
     "name": "stdout",
     "output_type": "stream",
     "text": [
      "Epoch 168/200 Train CP --> Loss: 0.0025, AUC: 0.9979, Acc: 0.6319, F1: 0.7308\n"
     ]
    },
    {
     "name": "stderr",
     "output_type": "stream",
     "text": [
      "Valid CP Epoch 168/200: 100%|██████████| 313/313 [00:01<00:00, 172.22it/s, loss=0.137]  \n"
     ]
    },
    {
     "name": "stdout",
     "output_type": "stream",
     "text": [
      "Epoch 168/200 Valid CP --> Loss: 0.0560, AUC: 0.9148, Acc: 0.5641, F1: 0.6919\n",
      "Checkpoint saved at /home/ia/Documentos/TFG_Lara/TransformingFashion/checkpoints/compatibility_clip/epoch_168.pth\n"
     ]
    },
    {
     "name": "stderr",
     "output_type": "stream",
     "text": [
      "Train CP Epoch 169/200: 100%|██████████| 3332/3332 [00:26<00:00, 127.22it/s, loss=0.000274]\n"
     ]
    },
    {
     "name": "stdout",
     "output_type": "stream",
     "text": [
      "Epoch 169/200 Train CP --> Loss: 0.0025, AUC: 0.9980, Acc: 0.6326, F1: 0.7312\n"
     ]
    },
    {
     "name": "stderr",
     "output_type": "stream",
     "text": [
      "Valid CP Epoch 169/200: 100%|██████████| 313/313 [00:01<00:00, 194.39it/s, loss=0.124]   \n"
     ]
    },
    {
     "name": "stdout",
     "output_type": "stream",
     "text": [
      "Epoch 169/200 Valid CP --> Loss: 0.0559, AUC: 0.9140, Acc: 0.5302, F1: 0.6765\n",
      "Checkpoint saved at /home/ia/Documentos/TFG_Lara/TransformingFashion/checkpoints/compatibility_clip/epoch_169.pth\n"
     ]
    },
    {
     "name": "stderr",
     "output_type": "stream",
     "text": [
      "Train CP Epoch 170/200: 100%|██████████| 3332/3332 [00:26<00:00, 126.67it/s, loss=3.39e-5] \n"
     ]
    },
    {
     "name": "stdout",
     "output_type": "stream",
     "text": [
      "Epoch 170/200 Train CP --> Loss: 0.0025, AUC: 0.9980, Acc: 0.6270, F1: 0.7283\n"
     ]
    },
    {
     "name": "stderr",
     "output_type": "stream",
     "text": [
      "Valid CP Epoch 170/200: 100%|██████████| 313/313 [00:01<00:00, 189.47it/s, loss=0.113]   \n"
     ]
    },
    {
     "name": "stdout",
     "output_type": "stream",
     "text": [
      "Epoch 170/200 Valid CP --> Loss: 0.0565, AUC: 0.9147, Acc: 0.5245, F1: 0.6746\n",
      "Checkpoint saved at /home/ia/Documentos/TFG_Lara/TransformingFashion/checkpoints/compatibility_clip/epoch_170.pth\n"
     ]
    },
    {
     "name": "stderr",
     "output_type": "stream",
     "text": [
      "Train CP Epoch 171/200: 100%|██████████| 3332/3332 [00:25<00:00, 130.48it/s, loss=0.000173]\n"
     ]
    },
    {
     "name": "stdout",
     "output_type": "stream",
     "text": [
      "Epoch 171/200 Train CP --> Loss: 0.0025, AUC: 0.9981, Acc: 0.6311, F1: 0.7304\n"
     ]
    },
    {
     "name": "stderr",
     "output_type": "stream",
     "text": [
      "Valid CP Epoch 171/200: 100%|██████████| 313/313 [00:01<00:00, 190.02it/s, loss=0.108]   \n"
     ]
    },
    {
     "name": "stdout",
     "output_type": "stream",
     "text": [
      "Epoch 171/200 Valid CP --> Loss: 0.0551, AUC: 0.9146, Acc: 0.5234, F1: 0.6739\n",
      "Checkpoint saved at /home/ia/Documentos/TFG_Lara/TransformingFashion/checkpoints/compatibility_clip/epoch_171.pth\n"
     ]
    },
    {
     "name": "stderr",
     "output_type": "stream",
     "text": [
      "Train CP Epoch 172/200: 100%|██████████| 3332/3332 [00:27<00:00, 122.83it/s, loss=0.000137]\n"
     ]
    },
    {
     "name": "stdout",
     "output_type": "stream",
     "text": [
      "Epoch 172/200 Train CP --> Loss: 0.0024, AUC: 0.9980, Acc: 0.6281, F1: 0.7289\n"
     ]
    },
    {
     "name": "stderr",
     "output_type": "stream",
     "text": [
      "Valid CP Epoch 172/200: 100%|██████████| 313/313 [00:01<00:00, 182.68it/s, loss=0.107]   \n"
     ]
    },
    {
     "name": "stdout",
     "output_type": "stream",
     "text": [
      "Epoch 172/200 Valid CP --> Loss: 0.0562, AUC: 0.9154, Acc: 0.5434, F1: 0.6823\n",
      "Checkpoint saved at /home/ia/Documentos/TFG_Lara/TransformingFashion/checkpoints/compatibility_clip/epoch_172.pth\n"
     ]
    },
    {
     "name": "stderr",
     "output_type": "stream",
     "text": [
      "Train CP Epoch 173/200: 100%|██████████| 3332/3332 [00:26<00:00, 127.81it/s, loss=9.01e-5] \n"
     ]
    },
    {
     "name": "stdout",
     "output_type": "stream",
     "text": [
      "Epoch 173/200 Train CP --> Loss: 0.0024, AUC: 0.9979, Acc: 0.6318, F1: 0.7308\n"
     ]
    },
    {
     "name": "stderr",
     "output_type": "stream",
     "text": [
      "Valid CP Epoch 173/200: 100%|██████████| 313/313 [00:01<00:00, 191.46it/s, loss=0.106]   \n"
     ]
    },
    {
     "name": "stdout",
     "output_type": "stream",
     "text": [
      "Epoch 173/200 Valid CP --> Loss: 0.0552, AUC: 0.9148, Acc: 0.5285, F1: 0.6757\n",
      "Checkpoint saved at /home/ia/Documentos/TFG_Lara/TransformingFashion/checkpoints/compatibility_clip/epoch_173.pth\n"
     ]
    },
    {
     "name": "stderr",
     "output_type": "stream",
     "text": [
      "Train CP Epoch 174/200: 100%|██████████| 3332/3332 [00:26<00:00, 126.50it/s, loss=0.0211]  \n"
     ]
    },
    {
     "name": "stdout",
     "output_type": "stream",
     "text": [
      "Epoch 174/200 Train CP --> Loss: 0.0024, AUC: 0.9980, Acc: 0.6239, F1: 0.7266\n"
     ]
    },
    {
     "name": "stderr",
     "output_type": "stream",
     "text": [
      "Valid CP Epoch 174/200: 100%|██████████| 313/313 [00:01<00:00, 196.56it/s, loss=0.113]   \n"
     ]
    },
    {
     "name": "stdout",
     "output_type": "stream",
     "text": [
      "Epoch 174/200 Valid CP --> Loss: 0.0565, AUC: 0.9150, Acc: 0.5265, F1: 0.6750\n",
      "Checkpoint saved at /home/ia/Documentos/TFG_Lara/TransformingFashion/checkpoints/compatibility_clip/epoch_174.pth\n"
     ]
    },
    {
     "name": "stderr",
     "output_type": "stream",
     "text": [
      "Train CP Epoch 175/200: 100%|██████████| 3332/3332 [00:26<00:00, 125.13it/s, loss=0.0153]  \n"
     ]
    },
    {
     "name": "stdout",
     "output_type": "stream",
     "text": [
      "Epoch 175/200 Train CP --> Loss: 0.0023, AUC: 0.9981, Acc: 0.6314, F1: 0.7306\n"
     ]
    },
    {
     "name": "stderr",
     "output_type": "stream",
     "text": [
      "Valid CP Epoch 175/200: 100%|██████████| 313/313 [00:01<00:00, 194.75it/s, loss=0.103]   \n"
     ]
    },
    {
     "name": "stdout",
     "output_type": "stream",
     "text": [
      "Epoch 175/200 Valid CP --> Loss: 0.0547, AUC: 0.9146, Acc: 0.5328, F1: 0.6776\n",
      "Checkpoint saved at /home/ia/Documentos/TFG_Lara/TransformingFashion/checkpoints/compatibility_clip/epoch_175.pth\n"
     ]
    },
    {
     "name": "stderr",
     "output_type": "stream",
     "text": [
      "Train CP Epoch 176/200: 100%|██████████| 3332/3332 [00:25<00:00, 129.38it/s, loss=9.98e-5] \n"
     ]
    },
    {
     "name": "stdout",
     "output_type": "stream",
     "text": [
      "Epoch 176/200 Train CP --> Loss: 0.0024, AUC: 0.9979, Acc: 0.6291, F1: 0.7294\n"
     ]
    },
    {
     "name": "stderr",
     "output_type": "stream",
     "text": [
      "Valid CP Epoch 176/200: 100%|██████████| 313/313 [00:01<00:00, 198.10it/s, loss=0.112]   \n"
     ]
    },
    {
     "name": "stdout",
     "output_type": "stream",
     "text": [
      "Epoch 176/200 Valid CP --> Loss: 0.0572, AUC: 0.9145, Acc: 0.5209, F1: 0.6735\n",
      "Checkpoint saved at /home/ia/Documentos/TFG_Lara/TransformingFashion/checkpoints/compatibility_clip/epoch_176.pth\n"
     ]
    },
    {
     "name": "stderr",
     "output_type": "stream",
     "text": [
      "Train CP Epoch 177/200: 100%|██████████| 3332/3332 [00:27<00:00, 123.05it/s, loss=8.15e-5] \n"
     ]
    },
    {
     "name": "stdout",
     "output_type": "stream",
     "text": [
      "Epoch 177/200 Train CP --> Loss: 0.0023, AUC: 0.9981, Acc: 0.6308, F1: 0.7303\n"
     ]
    },
    {
     "name": "stderr",
     "output_type": "stream",
     "text": [
      "Valid CP Epoch 177/200: 100%|██████████| 313/313 [00:01<00:00, 196.29it/s, loss=0.112]   \n"
     ]
    },
    {
     "name": "stdout",
     "output_type": "stream",
     "text": [
      "Epoch 177/200 Valid CP --> Loss: 0.0576, AUC: 0.9151, Acc: 0.5276, F1: 0.6760\n",
      "Checkpoint saved at /home/ia/Documentos/TFG_Lara/TransformingFashion/checkpoints/compatibility_clip/epoch_177.pth\n"
     ]
    },
    {
     "name": "stderr",
     "output_type": "stream",
     "text": [
      "Train CP Epoch 178/200: 100%|██████████| 3332/3332 [00:26<00:00, 124.43it/s, loss=0.000103]\n"
     ]
    },
    {
     "name": "stdout",
     "output_type": "stream",
     "text": [
      "Epoch 178/200 Train CP --> Loss: 0.0024, AUC: 0.9979, Acc: 0.6294, F1: 0.7295\n"
     ]
    },
    {
     "name": "stderr",
     "output_type": "stream",
     "text": [
      "Valid CP Epoch 178/200: 100%|██████████| 313/313 [00:01<00:00, 177.88it/s, loss=0.119]   \n"
     ]
    },
    {
     "name": "stdout",
     "output_type": "stream",
     "text": [
      "Epoch 178/200 Valid CP --> Loss: 0.0572, AUC: 0.9143, Acc: 0.5305, F1: 0.6768\n",
      "Checkpoint saved at /home/ia/Documentos/TFG_Lara/TransformingFashion/checkpoints/compatibility_clip/epoch_178.pth\n"
     ]
    },
    {
     "name": "stderr",
     "output_type": "stream",
     "text": [
      "Train CP Epoch 179/200: 100%|██████████| 3332/3332 [00:26<00:00, 124.39it/s, loss=5.67e-5] \n"
     ]
    },
    {
     "name": "stdout",
     "output_type": "stream",
     "text": [
      "Epoch 179/200 Train CP --> Loss: 0.0023, AUC: 0.9981, Acc: 0.6299, F1: 0.7298\n"
     ]
    },
    {
     "name": "stderr",
     "output_type": "stream",
     "text": [
      "Valid CP Epoch 179/200: 100%|██████████| 313/313 [00:01<00:00, 182.46it/s, loss=0.12]   \n"
     ]
    },
    {
     "name": "stdout",
     "output_type": "stream",
     "text": [
      "Epoch 179/200 Valid CP --> Loss: 0.0575, AUC: 0.9136, Acc: 0.5180, F1: 0.6722\n",
      "Checkpoint saved at /home/ia/Documentos/TFG_Lara/TransformingFashion/checkpoints/compatibility_clip/epoch_179.pth\n"
     ]
    },
    {
     "name": "stderr",
     "output_type": "stream",
     "text": [
      "Train CP Epoch 180/200: 100%|██████████| 3332/3332 [00:26<00:00, 125.18it/s, loss=0.00045] \n"
     ]
    },
    {
     "name": "stdout",
     "output_type": "stream",
     "text": [
      "Epoch 180/200 Train CP --> Loss: 0.0023, AUC: 0.9981, Acc: 0.6321, F1: 0.7310\n"
     ]
    },
    {
     "name": "stderr",
     "output_type": "stream",
     "text": [
      "Valid CP Epoch 180/200: 100%|██████████| 313/313 [00:01<00:00, 189.82it/s, loss=0.106]   \n"
     ]
    },
    {
     "name": "stdout",
     "output_type": "stream",
     "text": [
      "Epoch 180/200 Valid CP --> Loss: 0.0557, AUC: 0.9143, Acc: 0.5302, F1: 0.6766\n",
      "Checkpoint saved at /home/ia/Documentos/TFG_Lara/TransformingFashion/checkpoints/compatibility_clip/epoch_180.pth\n"
     ]
    },
    {
     "name": "stderr",
     "output_type": "stream",
     "text": [
      "Train CP Epoch 181/200: 100%|██████████| 3332/3332 [00:25<00:00, 128.26it/s, loss=7.08e-5] \n"
     ]
    },
    {
     "name": "stdout",
     "output_type": "stream",
     "text": [
      "Epoch 181/200 Train CP --> Loss: 0.0023, AUC: 0.9981, Acc: 0.6314, F1: 0.7306\n"
     ]
    },
    {
     "name": "stderr",
     "output_type": "stream",
     "text": [
      "Valid CP Epoch 181/200: 100%|██████████| 313/313 [00:01<00:00, 189.23it/s, loss=0.117]   \n"
     ]
    },
    {
     "name": "stdout",
     "output_type": "stream",
     "text": [
      "Epoch 181/200 Valid CP --> Loss: 0.0565, AUC: 0.9138, Acc: 0.5217, F1: 0.6734\n",
      "Checkpoint saved at /home/ia/Documentos/TFG_Lara/TransformingFashion/checkpoints/compatibility_clip/epoch_181.pth\n"
     ]
    },
    {
     "name": "stderr",
     "output_type": "stream",
     "text": [
      "Train CP Epoch 182/200: 100%|██████████| 3332/3332 [00:26<00:00, 125.91it/s, loss=0.000387]\n"
     ]
    },
    {
     "name": "stdout",
     "output_type": "stream",
     "text": [
      "Epoch 182/200 Train CP --> Loss: 0.0023, AUC: 0.9981, Acc: 0.6305, F1: 0.7301\n"
     ]
    },
    {
     "name": "stderr",
     "output_type": "stream",
     "text": [
      "Valid CP Epoch 182/200: 100%|██████████| 313/313 [00:01<00:00, 188.68it/s, loss=0.104]   \n"
     ]
    },
    {
     "name": "stdout",
     "output_type": "stream",
     "text": [
      "Epoch 182/200 Valid CP --> Loss: 0.0558, AUC: 0.9137, Acc: 0.5284, F1: 0.6760\n",
      "Checkpoint saved at /home/ia/Documentos/TFG_Lara/TransformingFashion/checkpoints/compatibility_clip/epoch_182.pth\n"
     ]
    },
    {
     "name": "stderr",
     "output_type": "stream",
     "text": [
      "Train CP Epoch 183/200: 100%|██████████| 3332/3332 [00:26<00:00, 123.63it/s, loss=0.000213]\n"
     ]
    },
    {
     "name": "stdout",
     "output_type": "stream",
     "text": [
      "Epoch 183/200 Train CP --> Loss: 0.0023, AUC: 0.9981, Acc: 0.6303, F1: 0.7300\n"
     ]
    },
    {
     "name": "stderr",
     "output_type": "stream",
     "text": [
      "Valid CP Epoch 183/200: 100%|██████████| 313/313 [00:01<00:00, 180.45it/s, loss=0.106]  \n"
     ]
    },
    {
     "name": "stdout",
     "output_type": "stream",
     "text": [
      "Epoch 183/200 Valid CP --> Loss: 0.0558, AUC: 0.9146, Acc: 0.5190, F1: 0.6722\n",
      "Checkpoint saved at /home/ia/Documentos/TFG_Lara/TransformingFashion/checkpoints/compatibility_clip/epoch_183.pth\n"
     ]
    },
    {
     "name": "stderr",
     "output_type": "stream",
     "text": [
      "Train CP Epoch 184/200: 100%|██████████| 3332/3332 [00:25<00:00, 131.45it/s, loss=0.0165]  \n"
     ]
    },
    {
     "name": "stdout",
     "output_type": "stream",
     "text": [
      "Epoch 184/200 Train CP --> Loss: 0.0023, AUC: 0.9981, Acc: 0.6279, F1: 0.7287\n"
     ]
    },
    {
     "name": "stderr",
     "output_type": "stream",
     "text": [
      "Valid CP Epoch 184/200: 100%|██████████| 313/313 [00:01<00:00, 181.60it/s, loss=0.108]   \n"
     ]
    },
    {
     "name": "stdout",
     "output_type": "stream",
     "text": [
      "Epoch 184/200 Valid CP --> Loss: 0.0567, AUC: 0.9143, Acc: 0.5240, F1: 0.6741\n",
      "Checkpoint saved at /home/ia/Documentos/TFG_Lara/TransformingFashion/checkpoints/compatibility_clip/epoch_184.pth\n"
     ]
    },
    {
     "name": "stderr",
     "output_type": "stream",
     "text": [
      "Train CP Epoch 185/200: 100%|██████████| 3332/3332 [00:26<00:00, 127.31it/s, loss=5.9e-5]  \n"
     ]
    },
    {
     "name": "stdout",
     "output_type": "stream",
     "text": [
      "Epoch 185/200 Train CP --> Loss: 0.0022, AUC: 0.9982, Acc: 0.6249, F1: 0.7272\n"
     ]
    },
    {
     "name": "stderr",
     "output_type": "stream",
     "text": [
      "Valid CP Epoch 185/200: 100%|██████████| 313/313 [00:01<00:00, 191.19it/s, loss=0.109]   \n"
     ]
    },
    {
     "name": "stdout",
     "output_type": "stream",
     "text": [
      "Epoch 185/200 Valid CP --> Loss: 0.0567, AUC: 0.9136, Acc: 0.5243, F1: 0.6743\n",
      "Checkpoint saved at /home/ia/Documentos/TFG_Lara/TransformingFashion/checkpoints/compatibility_clip/epoch_185.pth\n"
     ]
    },
    {
     "name": "stderr",
     "output_type": "stream",
     "text": [
      "Train CP Epoch 186/200: 100%|██████████| 3332/3332 [00:26<00:00, 124.92it/s, loss=4.78e-5] \n"
     ]
    },
    {
     "name": "stdout",
     "output_type": "stream",
     "text": [
      "Epoch 186/200 Train CP --> Loss: 0.0023, AUC: 0.9981, Acc: 0.6252, F1: 0.7273\n"
     ]
    },
    {
     "name": "stderr",
     "output_type": "stream",
     "text": [
      "Valid CP Epoch 186/200: 100%|██████████| 313/313 [00:01<00:00, 203.07it/s, loss=0.113]   \n"
     ]
    },
    {
     "name": "stdout",
     "output_type": "stream",
     "text": [
      "Epoch 186/200 Valid CP --> Loss: 0.0567, AUC: 0.9133, Acc: 0.5229, F1: 0.6736\n",
      "Checkpoint saved at /home/ia/Documentos/TFG_Lara/TransformingFashion/checkpoints/compatibility_clip/epoch_186.pth\n"
     ]
    },
    {
     "name": "stderr",
     "output_type": "stream",
     "text": [
      "Train CP Epoch 187/200: 100%|██████████| 3332/3332 [00:26<00:00, 125.65it/s, loss=7.85e-5] \n"
     ]
    },
    {
     "name": "stdout",
     "output_type": "stream",
     "text": [
      "Epoch 187/200 Train CP --> Loss: 0.0023, AUC: 0.9981, Acc: 0.6296, F1: 0.7296\n"
     ]
    },
    {
     "name": "stderr",
     "output_type": "stream",
     "text": [
      "Valid CP Epoch 187/200: 100%|██████████| 313/313 [00:01<00:00, 189.25it/s, loss=0.107]   \n"
     ]
    },
    {
     "name": "stdout",
     "output_type": "stream",
     "text": [
      "Epoch 187/200 Valid CP --> Loss: 0.0562, AUC: 0.9141, Acc: 0.5278, F1: 0.6756\n",
      "Checkpoint saved at /home/ia/Documentos/TFG_Lara/TransformingFashion/checkpoints/compatibility_clip/epoch_187.pth\n"
     ]
    },
    {
     "name": "stderr",
     "output_type": "stream",
     "text": [
      "Train CP Epoch 188/200: 100%|██████████| 3332/3332 [00:26<00:00, 126.73it/s, loss=0.000113]\n"
     ]
    },
    {
     "name": "stdout",
     "output_type": "stream",
     "text": [
      "Epoch 188/200 Train CP --> Loss: 0.0023, AUC: 0.9980, Acc: 0.6254, F1: 0.7274\n"
     ]
    },
    {
     "name": "stderr",
     "output_type": "stream",
     "text": [
      "Valid CP Epoch 188/200: 100%|██████████| 313/313 [00:01<00:00, 183.33it/s, loss=0.117]   \n"
     ]
    },
    {
     "name": "stdout",
     "output_type": "stream",
     "text": [
      "Epoch 188/200 Valid CP --> Loss: 0.0567, AUC: 0.9136, Acc: 0.5199, F1: 0.6726\n",
      "Checkpoint saved at /home/ia/Documentos/TFG_Lara/TransformingFashion/checkpoints/compatibility_clip/epoch_188.pth\n"
     ]
    },
    {
     "name": "stderr",
     "output_type": "stream",
     "text": [
      "Train CP Epoch 189/200: 100%|██████████| 3332/3332 [00:25<00:00, 128.70it/s, loss=0.000101]\n"
     ]
    },
    {
     "name": "stdout",
     "output_type": "stream",
     "text": [
      "Epoch 189/200 Train CP --> Loss: 0.0021, AUC: 0.9981, Acc: 0.6257, F1: 0.7276\n"
     ]
    },
    {
     "name": "stderr",
     "output_type": "stream",
     "text": [
      "Valid CP Epoch 189/200: 100%|██████████| 313/313 [00:01<00:00, 197.56it/s, loss=0.109]   \n"
     ]
    },
    {
     "name": "stdout",
     "output_type": "stream",
     "text": [
      "Epoch 189/200 Valid CP --> Loss: 0.0565, AUC: 0.9136, Acc: 0.5271, F1: 0.6754\n",
      "Checkpoint saved at /home/ia/Documentos/TFG_Lara/TransformingFashion/checkpoints/compatibility_clip/epoch_189.pth\n"
     ]
    },
    {
     "name": "stderr",
     "output_type": "stream",
     "text": [
      "Train CP Epoch 190/200: 100%|██████████| 3332/3332 [00:26<00:00, 125.72it/s, loss=5.49e-5] \n"
     ]
    },
    {
     "name": "stdout",
     "output_type": "stream",
     "text": [
      "Epoch 190/200 Train CP --> Loss: 0.0022, AUC: 0.9983, Acc: 0.6303, F1: 0.7301\n"
     ]
    },
    {
     "name": "stderr",
     "output_type": "stream",
     "text": [
      "Valid CP Epoch 190/200: 100%|██████████| 313/313 [00:01<00:00, 181.45it/s, loss=0.11]    \n"
     ]
    },
    {
     "name": "stdout",
     "output_type": "stream",
     "text": [
      "Epoch 190/200 Valid CP --> Loss: 0.0569, AUC: 0.9133, Acc: 0.5250, F1: 0.6745\n",
      "Checkpoint saved at /home/ia/Documentos/TFG_Lara/TransformingFashion/checkpoints/compatibility_clip/epoch_190.pth\n"
     ]
    },
    {
     "name": "stderr",
     "output_type": "stream",
     "text": [
      "Train CP Epoch 191/200: 100%|██████████| 3332/3332 [00:26<00:00, 126.57it/s, loss=0.000207]\n"
     ]
    },
    {
     "name": "stdout",
     "output_type": "stream",
     "text": [
      "Epoch 191/200 Train CP --> Loss: 0.0022, AUC: 0.9981, Acc: 0.6327, F1: 0.7313\n"
     ]
    },
    {
     "name": "stderr",
     "output_type": "stream",
     "text": [
      "Valid CP Epoch 191/200: 100%|██████████| 313/313 [00:01<00:00, 185.68it/s, loss=0.106]   \n"
     ]
    },
    {
     "name": "stdout",
     "output_type": "stream",
     "text": [
      "Epoch 191/200 Valid CP --> Loss: 0.0561, AUC: 0.9135, Acc: 0.5287, F1: 0.6759\n",
      "Checkpoint saved at /home/ia/Documentos/TFG_Lara/TransformingFashion/checkpoints/compatibility_clip/epoch_191.pth\n"
     ]
    },
    {
     "name": "stderr",
     "output_type": "stream",
     "text": [
      "Train CP Epoch 192/200: 100%|██████████| 3332/3332 [00:26<00:00, 124.15it/s, loss=7.79e-5] \n"
     ]
    },
    {
     "name": "stdout",
     "output_type": "stream",
     "text": [
      "Epoch 192/200 Train CP --> Loss: 0.0022, AUC: 0.9980, Acc: 0.6313, F1: 0.7305\n"
     ]
    },
    {
     "name": "stderr",
     "output_type": "stream",
     "text": [
      "Valid CP Epoch 192/200: 100%|██████████| 313/313 [00:01<00:00, 198.43it/s, loss=0.108]   \n"
     ]
    },
    {
     "name": "stdout",
     "output_type": "stream",
     "text": [
      "Epoch 192/200 Valid CP --> Loss: 0.0564, AUC: 0.9135, Acc: 0.5243, F1: 0.6740\n",
      "Checkpoint saved at /home/ia/Documentos/TFG_Lara/TransformingFashion/checkpoints/compatibility_clip/epoch_192.pth\n"
     ]
    },
    {
     "name": "stderr",
     "output_type": "stream",
     "text": [
      "Train CP Epoch 193/200: 100%|██████████| 3332/3332 [00:26<00:00, 127.23it/s, loss=0.00861] \n"
     ]
    },
    {
     "name": "stdout",
     "output_type": "stream",
     "text": [
      "Epoch 193/200 Train CP --> Loss: 0.0023, AUC: 0.9980, Acc: 0.6251, F1: 0.7273\n"
     ]
    },
    {
     "name": "stderr",
     "output_type": "stream",
     "text": [
      "Valid CP Epoch 193/200: 100%|██████████| 313/313 [00:01<00:00, 186.74it/s, loss=0.107]   \n"
     ]
    },
    {
     "name": "stdout",
     "output_type": "stream",
     "text": [
      "Epoch 193/200 Valid CP --> Loss: 0.0564, AUC: 0.9134, Acc: 0.5261, F1: 0.6749\n",
      "Checkpoint saved at /home/ia/Documentos/TFG_Lara/TransformingFashion/checkpoints/compatibility_clip/epoch_193.pth\n"
     ]
    },
    {
     "name": "stderr",
     "output_type": "stream",
     "text": [
      "Train CP Epoch 194/200: 100%|██████████| 3332/3332 [00:26<00:00, 127.27it/s, loss=5.06e-5] \n"
     ]
    },
    {
     "name": "stdout",
     "output_type": "stream",
     "text": [
      "Epoch 194/200 Train CP --> Loss: 0.0022, AUC: 0.9982, Acc: 0.6318, F1: 0.7308\n"
     ]
    },
    {
     "name": "stderr",
     "output_type": "stream",
     "text": [
      "Valid CP Epoch 194/200: 100%|██████████| 313/313 [00:01<00:00, 178.23it/s, loss=0.106]   \n"
     ]
    },
    {
     "name": "stdout",
     "output_type": "stream",
     "text": [
      "Epoch 194/200 Valid CP --> Loss: 0.0562, AUC: 0.9136, Acc: 0.5261, F1: 0.6749\n",
      "Checkpoint saved at /home/ia/Documentos/TFG_Lara/TransformingFashion/checkpoints/compatibility_clip/epoch_194.pth\n"
     ]
    },
    {
     "name": "stderr",
     "output_type": "stream",
     "text": [
      "Train CP Epoch 195/200: 100%|██████████| 3332/3332 [00:25<00:00, 131.40it/s, loss=0.000155]\n"
     ]
    },
    {
     "name": "stdout",
     "output_type": "stream",
     "text": [
      "Epoch 195/200 Train CP --> Loss: 0.0022, AUC: 0.9982, Acc: 0.6314, F1: 0.7306\n"
     ]
    },
    {
     "name": "stderr",
     "output_type": "stream",
     "text": [
      "Valid CP Epoch 195/200: 100%|██████████| 313/313 [00:01<00:00, 196.52it/s, loss=0.11]    \n"
     ]
    },
    {
     "name": "stdout",
     "output_type": "stream",
     "text": [
      "Epoch 195/200 Valid CP --> Loss: 0.0568, AUC: 0.9133, Acc: 0.5243, F1: 0.6741\n",
      "Checkpoint saved at /home/ia/Documentos/TFG_Lara/TransformingFashion/checkpoints/compatibility_clip/epoch_195.pth\n"
     ]
    },
    {
     "name": "stderr",
     "output_type": "stream",
     "text": [
      "Train CP Epoch 196/200: 100%|██████████| 3332/3332 [00:26<00:00, 124.79it/s, loss=0.000133]\n"
     ]
    },
    {
     "name": "stdout",
     "output_type": "stream",
     "text": [
      "Epoch 196/200 Train CP --> Loss: 0.0022, AUC: 0.9982, Acc: 0.6299, F1: 0.7298\n"
     ]
    },
    {
     "name": "stderr",
     "output_type": "stream",
     "text": [
      "Valid CP Epoch 196/200: 100%|██████████| 313/313 [00:01<00:00, 177.00it/s, loss=0.107]   \n"
     ]
    },
    {
     "name": "stdout",
     "output_type": "stream",
     "text": [
      "Epoch 196/200 Valid CP --> Loss: 0.0564, AUC: 0.9135, Acc: 0.5253, F1: 0.6744\n",
      "Checkpoint saved at /home/ia/Documentos/TFG_Lara/TransformingFashion/checkpoints/compatibility_clip/epoch_196.pth\n"
     ]
    },
    {
     "name": "stderr",
     "output_type": "stream",
     "text": [
      "Train CP Epoch 197/200: 100%|██████████| 3332/3332 [00:26<00:00, 124.23it/s, loss=0.0074]  \n"
     ]
    },
    {
     "name": "stdout",
     "output_type": "stream",
     "text": [
      "Epoch 197/200 Train CP --> Loss: 0.0021, AUC: 0.9982, Acc: 0.6314, F1: 0.7306\n"
     ]
    },
    {
     "name": "stderr",
     "output_type": "stream",
     "text": [
      "Valid CP Epoch 197/200: 100%|██████████| 313/313 [00:01<00:00, 180.31it/s, loss=0.109]   \n"
     ]
    },
    {
     "name": "stdout",
     "output_type": "stream",
     "text": [
      "Epoch 197/200 Valid CP --> Loss: 0.0565, AUC: 0.9135, Acc: 0.5261, F1: 0.6748\n",
      "Checkpoint saved at /home/ia/Documentos/TFG_Lara/TransformingFashion/checkpoints/compatibility_clip/epoch_197.pth\n"
     ]
    },
    {
     "name": "stderr",
     "output_type": "stream",
     "text": [
      "Train CP Epoch 198/200: 100%|██████████| 3332/3332 [00:26<00:00, 126.77it/s, loss=7.73e-5] \n"
     ]
    },
    {
     "name": "stdout",
     "output_type": "stream",
     "text": [
      "Epoch 198/200 Train CP --> Loss: 0.0021, AUC: 0.9982, Acc: 0.6320, F1: 0.7309\n"
     ]
    },
    {
     "name": "stderr",
     "output_type": "stream",
     "text": [
      "Valid CP Epoch 198/200: 100%|██████████| 313/313 [00:01<00:00, 201.53it/s, loss=0.11]    \n"
     ]
    },
    {
     "name": "stdout",
     "output_type": "stream",
     "text": [
      "Epoch 198/200 Valid CP --> Loss: 0.0566, AUC: 0.9134, Acc: 0.5259, F1: 0.6747\n",
      "Checkpoint saved at /home/ia/Documentos/TFG_Lara/TransformingFashion/checkpoints/compatibility_clip/epoch_198.pth\n"
     ]
    },
    {
     "name": "stderr",
     "output_type": "stream",
     "text": [
      "Train CP Epoch 199/200: 100%|██████████| 3332/3332 [00:26<00:00, 126.38it/s, loss=0.000903]\n"
     ]
    },
    {
     "name": "stdout",
     "output_type": "stream",
     "text": [
      "Epoch 199/200 Train CP --> Loss: 0.0022, AUC: 0.9981, Acc: 0.6321, F1: 0.7310\n"
     ]
    },
    {
     "name": "stderr",
     "output_type": "stream",
     "text": [
      "Valid CP Epoch 199/200: 100%|██████████| 313/313 [00:01<00:00, 187.30it/s, loss=0.11]    \n"
     ]
    },
    {
     "name": "stdout",
     "output_type": "stream",
     "text": [
      "Epoch 199/200 Valid CP --> Loss: 0.0566, AUC: 0.9134, Acc: 0.5259, F1: 0.6748\n",
      "Checkpoint saved at /home/ia/Documentos/TFG_Lara/TransformingFashion/checkpoints/compatibility_clip/epoch_199.pth\n"
     ]
    },
    {
     "name": "stderr",
     "output_type": "stream",
     "text": [
      "Train CP Epoch 200/200: 100%|██████████| 3332/3332 [00:26<00:00, 126.03it/s, loss=0.0155]  \n"
     ]
    },
    {
     "name": "stdout",
     "output_type": "stream",
     "text": [
      "Epoch 200/200 Train CP --> Loss: 0.0022, AUC: 0.9982, Acc: 0.6314, F1: 0.7306\n"
     ]
    },
    {
     "name": "stderr",
     "output_type": "stream",
     "text": [
      "Valid CP Epoch 200/200: 100%|██████████| 313/313 [00:01<00:00, 179.40it/s, loss=0.11]    \n"
     ]
    },
    {
     "name": "stdout",
     "output_type": "stream",
     "text": [
      "Epoch 200/200 Valid CP --> Loss: 0.0566, AUC: 0.9134, Acc: 0.5259, F1: 0.6748\n",
      "Checkpoint saved at /home/ia/Documentos/TFG_Lara/TransformingFashion/checkpoints/compatibility_clip/epoch_200.pth\n"
     ]
    }
   ],
   "source": [
    "\n",
    "# Train CP model\n",
    "train_losses, valid_losses, train_aucs, valid_aucs = train_cp(\n",
    "    cp_args, cp_model, train_dataloader, valid_dataloader, \n",
    "    cp_optimizer, cp_scheduler, cp_loss_fn, device\n",
    ")"
   ]
  },
  {
   "cell_type": "code",
   "execution_count": 10,
   "id": "94208470",
   "metadata": {},
   "outputs": [
    {
     "data": {
      "image/png": "[encoded data removed]",
      "text/plain": [
       "<Figure size 1200x500 with 2 Axes>"
      ]
     },
     "metadata": {},
     "output_type": "display_data"
    }
   ],
   "source": [
    "# Plot CP training curves\n",
    "plt.figure(figsize=(12, 5))\n",
    "plt.subplot(1, 2, 1)\n",
    "plt.plot(train_losses, label='Train Loss')\n",
    "plt.plot(valid_losses, label='Valid Loss')\n",
    "plt.xlabel('Epoch')\n",
    "plt.ylabel('Loss')\n",
    "plt.legend()\n",
    "plt.title('CP Training and Validation Loss')\n",
    "plt.subplot(1, 2, 2)\n",
    "plt.plot(train_aucs, label='Train AUC')\n",
    "plt.plot(valid_aucs, label='Valid AUC')\n",
    "plt.xlabel('Epoch')\n",
    "plt.ylabel('AUC')\n",
    "plt.legend()\n",
    "plt.title('CP Training and Validation AUC')\n",
    "plt.tight_layout()\n",
    "plt.show()"
   ]
  },
  {
   "cell_type": "code",
   "execution_count": 22,
   "id": "9685c487",
   "metadata": {},
   "outputs": [
    {
     "name": "stderr",
     "output_type": "stream",
     "text": [
      "/tmp/ipykernel_2038804/3411938486.py:199: FutureWarning: You are using `torch.load` with `weights_only=False` (the current default value), which uses the default pickle module implicitly. It is possible to construct malicious pickle data which will execute arbitrary code during unpickling (See https://github.com/pytorch/pytorch/blob/main/SECURITY.md#untrusted-models for more details). In a future release, the default value for `weights_only` will be flipped to `True`. This limits the functions that could be executed during unpickling. Arbitrary objects will no longer be allowed to be loaded via this mode unless they are explicitly allowlisted by the user via `torch.serialization.add_safe_globals`. We recommend you start setting `weights_only=True` for any use case where you don't have full control of the loaded file. Please open an issue on GitHub for any issues related to this experimental feature.\n",
      "  checkpoint = torch.load(checkpoint_path, map_location='cuda' if torch.cuda.is_available() else 'cpu')\n"
     ]
    },
    {
     "name": "stdout",
     "output_type": "stream",
     "text": [
      "test CP dataset: 20000 outfits, Label distribution: Counter({1: 10000, 0: 10000})\n"
     ]
    },
    {
     "name": "stderr",
     "output_type": "stream",
     "text": [
      "Evaluating CP on Test: 100%|██████████| 625/625 [00:03<00:00, 164.12it/s, loss=0.0178] \n"
     ]
    },
    {
     "name": "stdout",
     "output_type": "stream",
     "text": [
      "\n",
      "CP Test Results:\n",
      "Pérdida: 0.0327\n",
      "AUC: 0.9509\n",
      "Accuracy: 0.6186\n",
      "F1 Score: 0.7232\n",
      "Precision: 0.5676\n",
      "Recall: 0.9964\n"
     ]
    }
   ],
   "source": [
    "\n",
    "# ------------------------------\n",
    "# Section 5: Evaluate CP on Test Set\n",
    "# ------------------------------\n",
    "\n",
    "# Function to evaluate CP on test set\n",
    "def evaluate_cp(model, test_dataloader, loss_fn, device):\n",
    "    \"\"\"Evaluate the Compatibility Prediction model on the test set.\n",
    "    \n",
    "    Args:\n",
    "        model (OutfitCLIPTransformer): Trained model.\n",
    "        test_dataloader (DataLoader): Test DataLoader.\n",
    "        loss_fn (nn.Module): Loss function (FocalLoss).\n",
    "        device (torch.device): Device (CPU/GPU).\n",
    "    \n",
    "    Returns:\n",
    "        tuple: Test loss and scores (dict with 'auc', 'acc', 'f1', etc.).\n",
    "    \"\"\"\n",
    "    model.eval()\n",
    "    test_loss, test_preds, test_labels = 0.0, [], []\n",
    "    pbar = tqdm(test_dataloader, desc='Evaluating CP on Test')\n",
    "    with torch.no_grad():\n",
    "        for data in pbar:\n",
    "            queries = data['query']\n",
    "            labels = torch.tensor(data['label'], dtype=torch.float32).to(device)\n",
    "            preds = model(queries, use_precomputed_embedding=True)\n",
    "            loss = loss_fn(preds, labels)\n",
    "            test_loss += loss.item()\n",
    "            test_preds.append(preds)\n",
    "            test_labels.append(labels)\n",
    "            pbar.set_postfix(loss=loss.item())\n",
    "    \n",
    "    test_loss /= len(test_dataloader)\n",
    "    test_preds = torch.cat(test_preds)\n",
    "    test_labels = torch.cat(test_labels)\n",
    "    test_scores = compute_cp_scores(test_preds, test_labels)\n",
    "    \n",
    "    logger.info(f\"CP Test --> Loss: {test_loss:.4f}, AUC: {test_scores['auc']:.4f}, \"\n",
    "               f\"Acc: {test_scores['acc']:.4f}, F1: {test_scores['f1']:.4f}\")\n",
    "    print(f\"\\nCP Test Results:\")\n",
    "    print(f\"Pérdida: {test_loss:.4f}\")\n",
    "    print(f\"AUC: {test_scores['auc']:.4f}\")\n",
    "    print(f\"Accuracy: {test_scores['acc']:.4f}\")\n",
    "    print(f\"F1 Score: {test_scores['f1']:.4f}\")\n",
    "    print(f\"Precision: {test_scores['precision']:.4f}\")\n",
    "    print(f\"Recall: {test_scores['recall']:.4f}\")\n",
    "    \n",
    "    return test_loss, test_scores\n",
    "\n",
    "# Load test dataset\n",
    "test_dataset = PolyvoreCompatibilityDataset(\n",
    "    dataset_dir=cp_args.polyvore_dir,\n",
    "    dataset_type=cp_args.polyvore_type,\n",
    "    dataset_split='test',\n",
    "    metadata=metadata,\n",
    "    load_image=False,\n",
    "    embedding_dict=embedding_dict\n",
    ")\n",
    "\n",
    "# Create test DataLoader\n",
    "test_dataloader = DataLoader(\n",
    "    dataset=test_dataset,\n",
    "    batch_size=cp_args.batch_sz_per_gpu,\n",
    "    shuffle=False,\n",
    "    num_workers=cp_args.n_workers_per_gpu,\n",
    "    collate_fn=cp_collate_fn\n",
    ")\n",
    "\n",
    "# Load model from a specific checkpoint (e.g., epoch_50.pth)\n",
    "checkpoint_path = os.path.join(CHECKPOINT_DIR, 'compatibility_clip', 'epoch_50.pth')\n",
    "if not os.path.exists(checkpoint_path):\n",
    "    raise FileNotFoundError(f\"Checkpoint {checkpoint_path} not found.\")\n",
    "cp_model = load_checkpoint(cp_model, checkpoint_path)\n",
    "logger.info(f\"Loaded CP checkpoint from {checkpoint_path}\")\n",
    "\n",
    "# Evaluate on test set\n",
    "test_loss, test_scores = evaluate_cp(cp_model, test_dataloader, cp_loss_fn, device)\n"
   ]
  },
  {
   "cell_type": "code",
   "execution_count": null,
   "id": "15d264a6",
   "metadata": {},
   "outputs": [],
   "source": [
    "\n",
    "# ------------------------------\n",
    "# Section 6: Select Best CP Checkpoint\n",
    "# ------------------------------\n",
    "\n",
    "# Function to select the best CP checkpoint based on validation AUC\n",
    "def select_best_cp_checkpoint(checkpoint_dir, valid_dataloader, metadata, device):\n",
    "    \"\"\"Select the CP checkpoint with the highest AUC on the validation set.\n",
    "    \n",
    "    Args:\n",
    "        checkpoint_dir (str): Directory containing CP checkpoints.\n",
    "        valid_dataloader (DataLoader): Validation DataLoader.\n",
    "        metadata (dict): Item metadata.\n",
    "        device (torch.device): Device (CPU/GPU).\n",
    "    \n",
    "    Returns:\n",
    "        tuple: Best checkpoint path and its AUC.\n",
    "    \"\"\"\n",
    "    checkpoint_files = [f for f in os.listdir(checkpoint_dir) if f.endswith('.pth') and f.startswith('epoch_')]\n",
    "    checkpoint_files.sort(key=lambda x: int(x.split('_')[1].split('.')[0]))\n",
    "    \n",
    "    model = OutfitCLIPTransformer(OutfitCLIPTransformerConfig(n_items=len(metadata))).to(device)\n",
    "    loss_fn = FocalLoss(alpha=0.5, gamma=2)\n",
    "    best_auc = 0.0\n",
    "    best_checkpoint = None\n",
    "    results = []\n",
    "    \n",
    "    for checkpoint_file in checkpoint_files:\n",
    "        checkpoint_path = os.path.join(checkpoint_dir, checkpoint_file)\n",
    "        epoch = int(checkpoint_file.split('_')[1].split('.')[0])\n",
    "        \n",
    "        try:\n",
    "            model = load_checkpoint(model, checkpoint_path)\n",
    "            logger.info(f\"Loaded checkpoint: {checkpoint_path}\")\n",
    "        except Exception as e:\n",
    "            logger.error(f\"Error loading checkpoint {checkpoint_path}: {e}\")\n",
    "            print(f\"Error loading checkpoint {checkpoint_path}: {e}\")\n",
    "            continue\n",
    "        \n",
    "        model.eval()\n",
    "        valid_loss, valid_preds, valid_labels = 0.0, [], []\n",
    "        pbar = tqdm(valid_dataloader, desc=f'Evaluating CP Checkpoint Epoch {epoch}')\n",
    "        with torch.no_grad():\n",
    "            for data in pbar:\n",
    "                queries = data['query']\n",
    "                labels = torch.tensor(data['label'], dtype=torch.float32).to(device)\n",
    "                preds = model(queries, use_precomputed_embedding=True)\n",
    "                loss = loss_fn(preds, labels)\n",
    "                valid_loss += loss.item()\n",
    "                valid_preds.append(preds)\n",
    "                valid_labels.append(labels)\n",
    "                pbar.set_postfix(loss=loss.item())\n",
    "        \n",
    "        valid_loss /= len(valid_dataloader)\n",
    "        valid_preds = torch.cat(valid_preds)\n",
    "        valid_labels = torch.cat(valid_labels)\n",
    "        valid_scores = compute_cp_scores(valid_preds, valid_labels)\n",
    "        \n",
    "        results.append({\n",
    "            'epoch': epoch,\n",
    "            'checkpoint': checkpoint_path,\n",
    "            'valid_loss': valid_loss,\n",
    "            'auc': valid_scores['auc'],\n",
    "            'accuracy': valid_scores['acc'],\n",
    "            'f1': valid_scores['f1'],\n",
    "            'precision': valid_scores['precision'],\n",
    "            'recall': valid_scores['recall']\n",
    "        })\n",
    "        \n",
    "        if valid_scores['auc'] > best_auc:\n",
    "            best_auc = valid_scores['auc']\n",
    "            best_checkpoint = checkpoint_path\n",
    "        \n",
    "        logger.info(f\"CP Checkpoint Epoch {epoch} --> Loss: {valid_loss:.4f}, \"\n",
    "                   f\"AUC: {valid_scores['auc']:.4f}, Acc: {valid_scores['acc']:.4f}, \"\n",
    "                   f'F1: {valid_scores[\"f1\"]:.4f}')\n",
    "        print(f\"CP Checkpoint Epoch {epoch} --> Loss: {valid_loss:.4f}, \"\n",
    "              f\"AUC: {valid_scores['auc']:.4f}, Acc: {valid_scores['acc']:.4f}, \"\n",
    "              f'F1: {valid_scores[\"f1\"]:.4f}')\n",
    "    \n",
    "    logger.info(f\"Best CP Checkpoint: {best_checkpoint}, AUC: {best_auc:.4f}\")\n",
    "    print(f\"\\nBest CP Checkpoint: {best_checkpoint}\")\n",
    "    print(f\"Best AUC: {best_auc:.4f}\")\n",
    "    \n",
    "    print(\"\\nAll CP Checkpoint Results:\")\n",
    "    for result in sorted(results, key=lambda x: x['auc'], reverse=True):\n",
    "        print(f\"Epoch {result['epoch']}: AUC={result['auc']:.4f}, \"\n",
    "              f\"Accuracy={result['accuracy']:.4f}, F1={result['f1']:.4f}, \"\n",
    "              f\"Loss={result['valid_loss']:.4f}, Checkpoint={result['checkpoint']}\")\n",
    "    \n",
    "    return best_checkpoint, best_auc\n",
    "\n",
    "# Select best CP checkpoint\n",
    "best_checkpoint, best_auc = select_best_cp_checkpoint(\n",
    "    os.path.join(CHECKPOINT_DIR, 'compatibility_clip'),\n",
    "    valid_dataloader,\n",
    "    metadata,\n",
    "    device\n",
    ")\n"
   ]
  },
  {
   "cell_type": "code",
   "execution_count": 23,
   "id": "6cfc7247",
   "metadata": {},
   "outputs": [],
   "source": [
    "best_checkpoint = os.path.join(CHECKPOINT_DIR, 'compatibility_clip', 'epoch_50.pth')"
   ]
  }
 ],
 "metadata": {
  "kernelspec": {
   "display_name": "outfit_transformer_env",
   "language": "python",
   "name": "python3"
  },
  "language_info": {
   "codemirror_mode": {
    "name": "ipython",
    "version": 3
   },
   "file_extension": ".py",
   "mimetype": "text/x-python",
   "name": "python",
   "nbconvert_exporter": "python",
   "pygments_lexer": "ipython3",
   "version": "3.12.3"
  }
 },
 "nbformat": 4,
 "nbformat_minor": 5
}
